{
 "cells": [
  {
   "cell_type": "code",
   "execution_count": 1,
   "metadata": {},
   "outputs": [],
   "source": [
    "import pandas as pd\n",
    "import numpy as np\n",
    "import matplotlib.pyplot as plt"
   ]
  },
  {
   "cell_type": "code",
   "execution_count": 2,
   "metadata": {},
   "outputs": [
    {
     "data": {
      "text/html": [
       "<div>\n",
       "<style scoped>\n",
       "    .dataframe tbody tr th:only-of-type {\n",
       "        vertical-align: middle;\n",
       "    }\n",
       "\n",
       "    .dataframe tbody tr th {\n",
       "        vertical-align: top;\n",
       "    }\n",
       "\n",
       "    .dataframe thead th {\n",
       "        text-align: right;\n",
       "    }\n",
       "</style>\n",
       "<table border=\"1\" class=\"dataframe\">\n",
       "  <thead>\n",
       "    <tr style=\"text-align: right;\">\n",
       "      <th></th>\n",
       "      <th>Const</th>\n",
       "      <th>Your Rating</th>\n",
       "      <th>Date Rated</th>\n",
       "      <th>Title</th>\n",
       "      <th>URL</th>\n",
       "      <th>Title Type</th>\n",
       "      <th>IMDb Rating</th>\n",
       "      <th>Runtime (mins)</th>\n",
       "      <th>Year</th>\n",
       "      <th>Genres</th>\n",
       "      <th>Num Votes</th>\n",
       "      <th>Release Date</th>\n",
       "      <th>Directors</th>\n",
       "    </tr>\n",
       "  </thead>\n",
       "  <tbody>\n",
       "    <tr>\n",
       "      <th>0</th>\n",
       "      <td>tt0100814</td>\n",
       "      <td>7</td>\n",
       "      <td>15-07-21</td>\n",
       "      <td>Tremors</td>\n",
       "      <td>https://www.imdb.com/title/tt0100814/</td>\n",
       "      <td>movie</td>\n",
       "      <td>7.1</td>\n",
       "      <td>96.0</td>\n",
       "      <td>1990</td>\n",
       "      <td>Comedy, Horror</td>\n",
       "      <td>143582</td>\n",
       "      <td>19-01-90</td>\n",
       "      <td>Ron Underwood</td>\n",
       "    </tr>\n",
       "    <tr>\n",
       "      <th>1</th>\n",
       "      <td>tt1028532</td>\n",
       "      <td>7</td>\n",
       "      <td>05-04-21</td>\n",
       "      <td>Hachi: A Dog's Tale</td>\n",
       "      <td>https://www.imdb.com/title/tt1028532/</td>\n",
       "      <td>movie</td>\n",
       "      <td>8.1</td>\n",
       "      <td>93.0</td>\n",
       "      <td>2009</td>\n",
       "      <td>Biography, Drama, Family</td>\n",
       "      <td>295970</td>\n",
       "      <td>13-06-09</td>\n",
       "      <td>Lasse Hallström</td>\n",
       "    </tr>\n",
       "    <tr>\n",
       "      <th>2</th>\n",
       "      <td>tt0102926</td>\n",
       "      <td>6</td>\n",
       "      <td>27-04-21</td>\n",
       "      <td>The Silence of the Lambs</td>\n",
       "      <td>https://www.imdb.com/title/tt0102926/</td>\n",
       "      <td>movie</td>\n",
       "      <td>8.6</td>\n",
       "      <td>118.0</td>\n",
       "      <td>1991</td>\n",
       "      <td>Crime, Drama, Thriller</td>\n",
       "      <td>1472178</td>\n",
       "      <td>30-01-91</td>\n",
       "      <td>Jonathan Demme</td>\n",
       "    </tr>\n",
       "    <tr>\n",
       "      <th>3</th>\n",
       "      <td>tt1033575</td>\n",
       "      <td>6</td>\n",
       "      <td>15-07-21</td>\n",
       "      <td>The Descendants</td>\n",
       "      <td>https://www.imdb.com/title/tt1033575/</td>\n",
       "      <td>movie</td>\n",
       "      <td>7.3</td>\n",
       "      <td>115.0</td>\n",
       "      <td>2011</td>\n",
       "      <td>Comedy, Drama</td>\n",
       "      <td>245809</td>\n",
       "      <td>02-09-11</td>\n",
       "      <td>Alexander Payne</td>\n",
       "    </tr>\n",
       "    <tr>\n",
       "      <th>4</th>\n",
       "      <td>tt1037705</td>\n",
       "      <td>7</td>\n",
       "      <td>15-07-21</td>\n",
       "      <td>The Book of Eli</td>\n",
       "      <td>https://www.imdb.com/title/tt1037705/</td>\n",
       "      <td>movie</td>\n",
       "      <td>6.8</td>\n",
       "      <td>118.0</td>\n",
       "      <td>2010</td>\n",
       "      <td>Action, Adventure, Drama, Thriller</td>\n",
       "      <td>327789</td>\n",
       "      <td>11-01-10</td>\n",
       "      <td>Allen Hughes, Albert Hughes</td>\n",
       "    </tr>\n",
       "  </tbody>\n",
       "</table>\n",
       "</div>"
      ],
      "text/plain": [
       "       Const  Your Rating Date Rated                     Title  \\\n",
       "0  tt0100814            7   15-07-21                   Tremors   \n",
       "1  tt1028532            7   05-04-21       Hachi: A Dog's Tale   \n",
       "2  tt0102926            6   27-04-21  The Silence of the Lambs   \n",
       "3  tt1033575            6   15-07-21           The Descendants   \n",
       "4  tt1037705            7   15-07-21           The Book of Eli   \n",
       "\n",
       "                                     URL Title Type  IMDb Rating  \\\n",
       "0  https://www.imdb.com/title/tt0100814/      movie          7.1   \n",
       "1  https://www.imdb.com/title/tt1028532/      movie          8.1   \n",
       "2  https://www.imdb.com/title/tt0102926/      movie          8.6   \n",
       "3  https://www.imdb.com/title/tt1033575/      movie          7.3   \n",
       "4  https://www.imdb.com/title/tt1037705/      movie          6.8   \n",
       "\n",
       "   Runtime (mins)  Year                              Genres  Num Votes  \\\n",
       "0            96.0  1990                      Comedy, Horror     143582   \n",
       "1            93.0  2009            Biography, Drama, Family     295970   \n",
       "2           118.0  1991              Crime, Drama, Thriller    1472178   \n",
       "3           115.0  2011                       Comedy, Drama     245809   \n",
       "4           118.0  2010  Action, Adventure, Drama, Thriller     327789   \n",
       "\n",
       "  Release Date                    Directors  \n",
       "0     19-01-90                Ron Underwood  \n",
       "1     13-06-09              Lasse Hallström  \n",
       "2     30-01-91               Jonathan Demme  \n",
       "3     02-09-11              Alexander Payne  \n",
       "4     11-01-10  Allen Hughes, Albert Hughes  "
      ]
     },
     "execution_count": 2,
     "metadata": {},
     "output_type": "execute_result"
    }
   ],
   "source": [
    "ratings = pd.read_csv('ratings.csv')\n",
    "ratings.head(5)"
   ]
  },
  {
   "cell_type": "code",
   "execution_count": 3,
   "metadata": {},
   "outputs": [],
   "source": [
    "df = ratings.loc[:, ['Title','Your Rating', 'Date Rated', 'Title Type','IMDb Rating', 'Runtime (mins)', 'Year', 'Genres', 'Num Votes', 'Release Date', 'Directors']]"
   ]
  },
  {
   "cell_type": "code",
   "execution_count": 4,
   "metadata": {},
   "outputs": [
    {
     "data": {
      "text/plain": [
       "Title              0\n",
       "Your Rating        0\n",
       "Date Rated         0\n",
       "Title Type         0\n",
       "IMDb Rating        0\n",
       "Runtime (mins)     1\n",
       "Year               0\n",
       "Genres             0\n",
       "Num Votes          0\n",
       "Release Date       2\n",
       "Directors         11\n",
       "dtype: int64"
      ]
     },
     "execution_count": 4,
     "metadata": {},
     "output_type": "execute_result"
    }
   ],
   "source": [
    "df.isnull().sum()"
   ]
  },
  {
   "cell_type": "code",
   "execution_count": 5,
   "metadata": {},
   "outputs": [
    {
     "data": {
      "text/html": [
       "<div>\n",
       "<style scoped>\n",
       "    .dataframe tbody tr th:only-of-type {\n",
       "        vertical-align: middle;\n",
       "    }\n",
       "\n",
       "    .dataframe tbody tr th {\n",
       "        vertical-align: top;\n",
       "    }\n",
       "\n",
       "    .dataframe thead th {\n",
       "        text-align: right;\n",
       "    }\n",
       "</style>\n",
       "<table border=\"1\" class=\"dataframe\">\n",
       "  <thead>\n",
       "    <tr style=\"text-align: right;\">\n",
       "      <th></th>\n",
       "      <th>Column</th>\n",
       "      <th>dtype</th>\n",
       "      <th>Unique Values</th>\n",
       "    </tr>\n",
       "  </thead>\n",
       "  <tbody>\n",
       "    <tr>\n",
       "      <th>0</th>\n",
       "      <td>Title</td>\n",
       "      <td>object</td>\n",
       "      <td>462</td>\n",
       "    </tr>\n",
       "    <tr>\n",
       "      <th>1</th>\n",
       "      <td>Your Rating</td>\n",
       "      <td>int64</td>\n",
       "      <td>9</td>\n",
       "    </tr>\n",
       "    <tr>\n",
       "      <th>2</th>\n",
       "      <td>Date Rated</td>\n",
       "      <td>object</td>\n",
       "      <td>56</td>\n",
       "    </tr>\n",
       "    <tr>\n",
       "      <th>3</th>\n",
       "      <td>Title Type</td>\n",
       "      <td>object</td>\n",
       "      <td>8</td>\n",
       "    </tr>\n",
       "    <tr>\n",
       "      <th>4</th>\n",
       "      <td>IMDb Rating</td>\n",
       "      <td>float64</td>\n",
       "      <td>50</td>\n",
       "    </tr>\n",
       "    <tr>\n",
       "      <th>5</th>\n",
       "      <td>Runtime (mins)</td>\n",
       "      <td>float64</td>\n",
       "      <td>103</td>\n",
       "    </tr>\n",
       "    <tr>\n",
       "      <th>6</th>\n",
       "      <td>Year</td>\n",
       "      <td>int64</td>\n",
       "      <td>42</td>\n",
       "    </tr>\n",
       "    <tr>\n",
       "      <th>7</th>\n",
       "      <td>Genres</td>\n",
       "      <td>object</td>\n",
       "      <td>208</td>\n",
       "    </tr>\n",
       "    <tr>\n",
       "      <th>8</th>\n",
       "      <td>Num Votes</td>\n",
       "      <td>int64</td>\n",
       "      <td>463</td>\n",
       "    </tr>\n",
       "    <tr>\n",
       "      <th>9</th>\n",
       "      <td>Release Date</td>\n",
       "      <td>object</td>\n",
       "      <td>441</td>\n",
       "    </tr>\n",
       "    <tr>\n",
       "      <th>10</th>\n",
       "      <td>Directors</td>\n",
       "      <td>object</td>\n",
       "      <td>316</td>\n",
       "    </tr>\n",
       "  </tbody>\n",
       "</table>\n",
       "</div>"
      ],
      "text/plain": [
       "            Column    dtype  Unique Values\n",
       "0            Title   object            462\n",
       "1      Your Rating    int64              9\n",
       "2       Date Rated   object             56\n",
       "3       Title Type   object              8\n",
       "4      IMDb Rating  float64             50\n",
       "5   Runtime (mins)  float64            103\n",
       "6             Year    int64             42\n",
       "7           Genres   object            208\n",
       "8        Num Votes    int64            463\n",
       "9     Release Date   object            441\n",
       "10       Directors   object            316"
      ]
     },
     "execution_count": 5,
     "metadata": {},
     "output_type": "execute_result"
    }
   ],
   "source": [
    "column_info = pd.DataFrame({\n",
    "    'Column': df.columns,\n",
    "    'dtype': df.dtypes,\n",
    "    'Unique Values': df.nunique()\n",
    "}).reset_index(drop=True)\n",
    "\n",
    "column_info"
   ]
  },
  {
   "attachments": {},
   "cell_type": "markdown",
   "metadata": {},
   "source": [
    "### Plots to understand columns"
   ]
  },
  {
   "cell_type": "code",
   "execution_count": 6,
   "metadata": {},
   "outputs": [
    {
     "data": {
      "text/plain": [
       "movie            447\n",
       "tvSeries           8\n",
       "tvSpecial          2\n",
       "tvMiniSeries       2\n",
       "video              1\n",
       "podcastSeries      1\n",
       "tvShort            1\n",
       "tvEpisode          1\n",
       "Name: Title Type, dtype: int64"
      ]
     },
     "execution_count": 6,
     "metadata": {},
     "output_type": "execute_result"
    }
   ],
   "source": [
    "df['Title Type'].value_counts()"
   ]
  },
  {
   "cell_type": "code",
   "execution_count": 7,
   "metadata": {},
   "outputs": [
    {
     "data": {
      "text/plain": [
       "Text(0, 0.5, 'Count')"
      ]
     },
     "execution_count": 7,
     "metadata": {},
     "output_type": "execute_result"
    },
    {
     "data": {
      "image/png": "[encoded data removed]",
      "text/plain": [
       "<Figure size 720x432 with 1 Axes>"
      ]
     },
     "metadata": {
      "needs_background": "light"
     },
     "output_type": "display_data"
    }
   ],
   "source": [
    "df['IMDb Rating'].plot(kind='hist', bins=100, figsize=(10, 6))\n",
    "plt.title('Distribution of IMDb Ratings')\n",
    "plt.xlabel('Rating')\n",
    "plt.ylabel('Count')"
   ]
  },
  {
   "cell_type": "code",
   "execution_count": 8,
   "metadata": {},
   "outputs": [
    {
     "data": {
      "text/plain": [
       "Text(0, 0.5, 'Count')"
      ]
     },
     "execution_count": 8,
     "metadata": {},
     "output_type": "execute_result"
    },
    {
     "data": {
      "image/png": "[encoded data removed]",
      "text/plain": [
       "<Figure size 720x432 with 1 Axes>"
      ]
     },
     "metadata": {
      "needs_background": "light"
     },
     "output_type": "display_data"
    }
   ],
   "source": [
    "df['Runtime (mins)'].plot(kind='hist', bins=100, figsize=(10, 6))\n",
    "plt.title('Distribution of Runtimes')\n",
    "plt.xlabel('Runtime (min)')\n",
    "plt.ylabel('Count')"
   ]
  },
  {
   "cell_type": "code",
   "execution_count": 9,
   "metadata": {},
   "outputs": [
    {
     "data": {
      "text/plain": [
       "Text(0, 0.5, 'Count')"
      ]
     },
     "execution_count": 9,
     "metadata": {},
     "output_type": "execute_result"
    },
    {
     "data": {
      "image/png": "[encoded data removed]",
      "text/plain": [
       "<Figure size 720x432 with 1 Axes>"
      ]
     },
     "metadata": {
      "needs_background": "light"
     },
     "output_type": "display_data"
    }
   ],
   "source": [
    "df['Year'].plot(kind='hist', bins=100, figsize=(10, 6))\n",
    "plt.title('Distribution of Years')\n",
    "plt.xlabel('Year')\n",
    "plt.ylabel('Count')"
   ]
  },
  {
   "attachments": {},
   "cell_type": "markdown",
   "metadata": {},
   "source": [
    "#### Plot Datetimes"
   ]
  },
  {
   "cell_type": "code",
   "execution_count": 10,
   "metadata": {},
   "outputs": [
    {
     "data": {
      "image/png": "[encoded data removed]",
      "text/plain": [
       "<Figure size 432x288 with 1 Axes>"
      ]
     },
     "metadata": {
      "needs_background": "light"
     },
     "output_type": "display_data"
    },
    {
     "data": {
      "image/png": "[encoded data removed]",
      "text/plain": [
       "<Figure size 432x288 with 1 Axes>"
      ]
     },
     "metadata": {
      "needs_background": "light"
     },
     "output_type": "display_data"
    }
   ],
   "source": [
    "df['Date Rated dt'] = pd.to_datetime(df['Date Rated'])\n",
    "df['Release Date dt'] = pd.to_datetime(df['Release Date'])\n",
    "df_timeseries = df.set_index('Date Rated dt').sort_index()\n",
    "\n",
    "plt.scatter(df_timeseries.index, df_timeseries['Your Rating'])\n",
    "plt.title('Distribution of Your Ratings Over Time')\n",
    "plt.xlabel('Date Rated')\n",
    "plt.ylabel('Rating')\n",
    "plt.show()\n",
    "\n",
    "df_timeseries = df.set_index('Release Date dt').sort_index()\n",
    "plt.scatter(df_timeseries.index, df['Your Rating'])\n",
    "plt.title('Distribution of Your Ratings Over Release Date')\n",
    "plt.xlabel('Release Date')\n",
    "plt.ylabel('Rating')\n",
    "plt.show()"
   ]
  },
  {
   "cell_type": "code",
   "execution_count": 11,
   "metadata": {},
   "outputs": [
    {
     "data": {
      "text/html": [
       "<div>\n",
       "<style scoped>\n",
       "    .dataframe tbody tr th:only-of-type {\n",
       "        vertical-align: middle;\n",
       "    }\n",
       "\n",
       "    .dataframe tbody tr th {\n",
       "        vertical-align: top;\n",
       "    }\n",
       "\n",
       "    .dataframe thead th {\n",
       "        text-align: right;\n",
       "    }\n",
       "</style>\n",
       "<table border=\"1\" class=\"dataframe\">\n",
       "  <thead>\n",
       "    <tr style=\"text-align: right;\">\n",
       "      <th></th>\n",
       "      <th>Title</th>\n",
       "      <th>Your Rating</th>\n",
       "      <th>Date Rated</th>\n",
       "      <th>Title Type</th>\n",
       "      <th>IMDb Rating</th>\n",
       "      <th>Runtime (mins)</th>\n",
       "      <th>Year</th>\n",
       "      <th>Genres</th>\n",
       "      <th>Num Votes</th>\n",
       "      <th>Release Date</th>\n",
       "      <th>Directors</th>\n",
       "      <th>Date Rated dt</th>\n",
       "      <th>Release Date dt</th>\n",
       "      <th>Date Rated Year</th>\n",
       "      <th>Date Rated Month</th>\n",
       "      <th>Release Date Year</th>\n",
       "      <th>Release Date Month</th>\n",
       "    </tr>\n",
       "  </thead>\n",
       "  <tbody>\n",
       "    <tr>\n",
       "      <th>0</th>\n",
       "      <td>Tremors</td>\n",
       "      <td>7</td>\n",
       "      <td>15-07-21</td>\n",
       "      <td>movie</td>\n",
       "      <td>7.1</td>\n",
       "      <td>96.0</td>\n",
       "      <td>1990</td>\n",
       "      <td>Comedy, Horror</td>\n",
       "      <td>143582</td>\n",
       "      <td>19-01-90</td>\n",
       "      <td>Ron Underwood</td>\n",
       "      <td>2021-07-15</td>\n",
       "      <td>1990-01-19</td>\n",
       "      <td>2021</td>\n",
       "      <td>7</td>\n",
       "      <td>1990.0</td>\n",
       "      <td>1.0</td>\n",
       "    </tr>\n",
       "    <tr>\n",
       "      <th>1</th>\n",
       "      <td>Hachi: A Dog's Tale</td>\n",
       "      <td>7</td>\n",
       "      <td>05-04-21</td>\n",
       "      <td>movie</td>\n",
       "      <td>8.1</td>\n",
       "      <td>93.0</td>\n",
       "      <td>2009</td>\n",
       "      <td>Biography, Drama, Family</td>\n",
       "      <td>295970</td>\n",
       "      <td>13-06-09</td>\n",
       "      <td>Lasse Hallström</td>\n",
       "      <td>2021-05-04</td>\n",
       "      <td>2009-06-13</td>\n",
       "      <td>2021</td>\n",
       "      <td>5</td>\n",
       "      <td>2009.0</td>\n",
       "      <td>6.0</td>\n",
       "    </tr>\n",
       "    <tr>\n",
       "      <th>2</th>\n",
       "      <td>The Silence of the Lambs</td>\n",
       "      <td>6</td>\n",
       "      <td>27-04-21</td>\n",
       "      <td>movie</td>\n",
       "      <td>8.6</td>\n",
       "      <td>118.0</td>\n",
       "      <td>1991</td>\n",
       "      <td>Crime, Drama, Thriller</td>\n",
       "      <td>1472178</td>\n",
       "      <td>30-01-91</td>\n",
       "      <td>Jonathan Demme</td>\n",
       "      <td>2021-04-27</td>\n",
       "      <td>1991-01-30</td>\n",
       "      <td>2021</td>\n",
       "      <td>4</td>\n",
       "      <td>1991.0</td>\n",
       "      <td>1.0</td>\n",
       "    </tr>\n",
       "    <tr>\n",
       "      <th>3</th>\n",
       "      <td>The Descendants</td>\n",
       "      <td>6</td>\n",
       "      <td>15-07-21</td>\n",
       "      <td>movie</td>\n",
       "      <td>7.3</td>\n",
       "      <td>115.0</td>\n",
       "      <td>2011</td>\n",
       "      <td>Comedy, Drama</td>\n",
       "      <td>245809</td>\n",
       "      <td>02-09-11</td>\n",
       "      <td>Alexander Payne</td>\n",
       "      <td>2021-07-15</td>\n",
       "      <td>2011-02-09</td>\n",
       "      <td>2021</td>\n",
       "      <td>7</td>\n",
       "      <td>2011.0</td>\n",
       "      <td>2.0</td>\n",
       "    </tr>\n",
       "    <tr>\n",
       "      <th>4</th>\n",
       "      <td>The Book of Eli</td>\n",
       "      <td>7</td>\n",
       "      <td>15-07-21</td>\n",
       "      <td>movie</td>\n",
       "      <td>6.8</td>\n",
       "      <td>118.0</td>\n",
       "      <td>2010</td>\n",
       "      <td>Action, Adventure, Drama, Thriller</td>\n",
       "      <td>327789</td>\n",
       "      <td>11-01-10</td>\n",
       "      <td>Allen Hughes, Albert Hughes</td>\n",
       "      <td>2021-07-15</td>\n",
       "      <td>2010-11-01</td>\n",
       "      <td>2021</td>\n",
       "      <td>7</td>\n",
       "      <td>2010.0</td>\n",
       "      <td>11.0</td>\n",
       "    </tr>\n",
       "  </tbody>\n",
       "</table>\n",
       "</div>"
      ],
      "text/plain": [
       "                      Title  Your Rating Date Rated Title Type  IMDb Rating  \\\n",
       "0                   Tremors            7   15-07-21      movie          7.1   \n",
       "1       Hachi: A Dog's Tale            7   05-04-21      movie          8.1   \n",
       "2  The Silence of the Lambs            6   27-04-21      movie          8.6   \n",
       "3           The Descendants            6   15-07-21      movie          7.3   \n",
       "4           The Book of Eli            7   15-07-21      movie          6.8   \n",
       "\n",
       "   Runtime (mins)  Year                              Genres  Num Votes  \\\n",
       "0            96.0  1990                      Comedy, Horror     143582   \n",
       "1            93.0  2009            Biography, Drama, Family     295970   \n",
       "2           118.0  1991              Crime, Drama, Thriller    1472178   \n",
       "3           115.0  2011                       Comedy, Drama     245809   \n",
       "4           118.0  2010  Action, Adventure, Drama, Thriller     327789   \n",
       "\n",
       "  Release Date                    Directors Date Rated dt Release Date dt  \\\n",
       "0     19-01-90                Ron Underwood    2021-07-15      1990-01-19   \n",
       "1     13-06-09              Lasse Hallström    2021-05-04      2009-06-13   \n",
       "2     30-01-91               Jonathan Demme    2021-04-27      1991-01-30   \n",
       "3     02-09-11              Alexander Payne    2021-07-15      2011-02-09   \n",
       "4     11-01-10  Allen Hughes, Albert Hughes    2021-07-15      2010-11-01   \n",
       "\n",
       "   Date Rated Year  Date Rated Month  Release Date Year  Release Date Month  \n",
       "0             2021                 7             1990.0                 1.0  \n",
       "1             2021                 5             2009.0                 6.0  \n",
       "2             2021                 4             1991.0                 1.0  \n",
       "3             2021                 7             2011.0                 2.0  \n",
       "4             2021                 7             2010.0                11.0  "
      ]
     },
     "execution_count": 11,
     "metadata": {},
     "output_type": "execute_result"
    }
   ],
   "source": [
    "## Extract year and month information from datetimes\n",
    "\n",
    "df['Date Rated Year'] = df['Date Rated dt'].dt.year\n",
    "df['Date Rated Month'] = df['Date Rated dt'].dt.month\n",
    "df['Release Date Year'] = df['Release Date dt'].dt.year\n",
    "df['Release Date Month'] = df['Release Date dt'].dt.month\n",
    "df.head(5)"
   ]
  },
  {
   "attachments": {},
   "cell_type": "markdown",
   "metadata": {},
   "source": [
    "### Generate distinct columns for Genres"
   ]
  },
  {
   "cell_type": "code",
   "execution_count": 12,
   "metadata": {},
   "outputs": [
    {
     "data": {
      "text/plain": [
       "Drama                                                                   18\n",
       "Action, Adventure, Sci-Fi                                               16\n",
       "Action, Adventure, Fantasy, Sci-Fi                                      15\n",
       "Comedy                                                                  15\n",
       "Comedy, Drama                                                           14\n",
       "                                                                        ..\n",
       "Biography, Crime, Drama, History, Mystery                                1\n",
       "Animation, Action, Adventure, Comedy, Crime, Family, Mystery, Sci-Fi     1\n",
       "Action, Adventure, Drama, Sci-Fi, Thriller                               1\n",
       "Animation, Adventure, Comedy, Drama, Family, Fantasy                     1\n",
       "Comedy, Family                                                           1\n",
       "Name: Genres, Length: 208, dtype: int64"
      ]
     },
     "execution_count": 12,
     "metadata": {},
     "output_type": "execute_result"
    }
   ],
   "source": [
    "df['Genres'].value_counts()"
   ]
  },
  {
   "cell_type": "code",
   "execution_count": 13,
   "metadata": {},
   "outputs": [
    {
     "data": {
      "text/html": [
       "<div>\n",
       "<style scoped>\n",
       "    .dataframe tbody tr th:only-of-type {\n",
       "        vertical-align: middle;\n",
       "    }\n",
       "\n",
       "    .dataframe tbody tr th {\n",
       "        vertical-align: top;\n",
       "    }\n",
       "\n",
       "    .dataframe thead th {\n",
       "        text-align: right;\n",
       "    }\n",
       "</style>\n",
       "<table border=\"1\" class=\"dataframe\">\n",
       "  <thead>\n",
       "    <tr style=\"text-align: right;\">\n",
       "      <th></th>\n",
       "      <th>Title</th>\n",
       "      <th>Your Rating</th>\n",
       "      <th>Date Rated</th>\n",
       "      <th>Title Type</th>\n",
       "      <th>IMDb Rating</th>\n",
       "      <th>Runtime (mins)</th>\n",
       "      <th>Year</th>\n",
       "      <th>Genres</th>\n",
       "      <th>Num Votes</th>\n",
       "      <th>Release Date</th>\n",
       "      <th>Directors</th>\n",
       "      <th>Date Rated dt</th>\n",
       "      <th>Release Date dt</th>\n",
       "      <th>Date Rated Year</th>\n",
       "      <th>Date Rated Month</th>\n",
       "      <th>Release Date Year</th>\n",
       "      <th>Release Date Month</th>\n",
       "      <th>Genres Split</th>\n",
       "    </tr>\n",
       "  </thead>\n",
       "  <tbody>\n",
       "    <tr>\n",
       "      <th>0</th>\n",
       "      <td>Tremors</td>\n",
       "      <td>7</td>\n",
       "      <td>15-07-21</td>\n",
       "      <td>movie</td>\n",
       "      <td>7.1</td>\n",
       "      <td>96.0</td>\n",
       "      <td>1990</td>\n",
       "      <td>Comedy, Horror</td>\n",
       "      <td>143582</td>\n",
       "      <td>19-01-90</td>\n",
       "      <td>Ron Underwood</td>\n",
       "      <td>2021-07-15</td>\n",
       "      <td>1990-01-19</td>\n",
       "      <td>2021</td>\n",
       "      <td>7</td>\n",
       "      <td>1990.0</td>\n",
       "      <td>1.0</td>\n",
       "      <td>[Comedy, Horror]</td>\n",
       "    </tr>\n",
       "    <tr>\n",
       "      <th>1</th>\n",
       "      <td>Hachi: A Dog's Tale</td>\n",
       "      <td>7</td>\n",
       "      <td>05-04-21</td>\n",
       "      <td>movie</td>\n",
       "      <td>8.1</td>\n",
       "      <td>93.0</td>\n",
       "      <td>2009</td>\n",
       "      <td>Biography, Drama, Family</td>\n",
       "      <td>295970</td>\n",
       "      <td>13-06-09</td>\n",
       "      <td>Lasse Hallström</td>\n",
       "      <td>2021-05-04</td>\n",
       "      <td>2009-06-13</td>\n",
       "      <td>2021</td>\n",
       "      <td>5</td>\n",
       "      <td>2009.0</td>\n",
       "      <td>6.0</td>\n",
       "      <td>[Biography, Drama, Family]</td>\n",
       "    </tr>\n",
       "    <tr>\n",
       "      <th>2</th>\n",
       "      <td>The Silence of the Lambs</td>\n",
       "      <td>6</td>\n",
       "      <td>27-04-21</td>\n",
       "      <td>movie</td>\n",
       "      <td>8.6</td>\n",
       "      <td>118.0</td>\n",
       "      <td>1991</td>\n",
       "      <td>Crime, Drama, Thriller</td>\n",
       "      <td>1472178</td>\n",
       "      <td>30-01-91</td>\n",
       "      <td>Jonathan Demme</td>\n",
       "      <td>2021-04-27</td>\n",
       "      <td>1991-01-30</td>\n",
       "      <td>2021</td>\n",
       "      <td>4</td>\n",
       "      <td>1991.0</td>\n",
       "      <td>1.0</td>\n",
       "      <td>[Crime, Drama, Thriller]</td>\n",
       "    </tr>\n",
       "    <tr>\n",
       "      <th>3</th>\n",
       "      <td>The Descendants</td>\n",
       "      <td>6</td>\n",
       "      <td>15-07-21</td>\n",
       "      <td>movie</td>\n",
       "      <td>7.3</td>\n",
       "      <td>115.0</td>\n",
       "      <td>2011</td>\n",
       "      <td>Comedy, Drama</td>\n",
       "      <td>245809</td>\n",
       "      <td>02-09-11</td>\n",
       "      <td>Alexander Payne</td>\n",
       "      <td>2021-07-15</td>\n",
       "      <td>2011-02-09</td>\n",
       "      <td>2021</td>\n",
       "      <td>7</td>\n",
       "      <td>2011.0</td>\n",
       "      <td>2.0</td>\n",
       "      <td>[Comedy, Drama]</td>\n",
       "    </tr>\n",
       "    <tr>\n",
       "      <th>4</th>\n",
       "      <td>The Book of Eli</td>\n",
       "      <td>7</td>\n",
       "      <td>15-07-21</td>\n",
       "      <td>movie</td>\n",
       "      <td>6.8</td>\n",
       "      <td>118.0</td>\n",
       "      <td>2010</td>\n",
       "      <td>Action, Adventure, Drama, Thriller</td>\n",
       "      <td>327789</td>\n",
       "      <td>11-01-10</td>\n",
       "      <td>Allen Hughes, Albert Hughes</td>\n",
       "      <td>2021-07-15</td>\n",
       "      <td>2010-11-01</td>\n",
       "      <td>2021</td>\n",
       "      <td>7</td>\n",
       "      <td>2010.0</td>\n",
       "      <td>11.0</td>\n",
       "      <td>[Action, Adventure, Drama, Thriller]</td>\n",
       "    </tr>\n",
       "  </tbody>\n",
       "</table>\n",
       "</div>"
      ],
      "text/plain": [
       "                      Title  Your Rating Date Rated Title Type  IMDb Rating  \\\n",
       "0                   Tremors            7   15-07-21      movie          7.1   \n",
       "1       Hachi: A Dog's Tale            7   05-04-21      movie          8.1   \n",
       "2  The Silence of the Lambs            6   27-04-21      movie          8.6   \n",
       "3           The Descendants            6   15-07-21      movie          7.3   \n",
       "4           The Book of Eli            7   15-07-21      movie          6.8   \n",
       "\n",
       "   Runtime (mins)  Year                              Genres  Num Votes  \\\n",
       "0            96.0  1990                      Comedy, Horror     143582   \n",
       "1            93.0  2009            Biography, Drama, Family     295970   \n",
       "2           118.0  1991              Crime, Drama, Thriller    1472178   \n",
       "3           115.0  2011                       Comedy, Drama     245809   \n",
       "4           118.0  2010  Action, Adventure, Drama, Thriller     327789   \n",
       "\n",
       "  Release Date                    Directors Date Rated dt Release Date dt  \\\n",
       "0     19-01-90                Ron Underwood    2021-07-15      1990-01-19   \n",
       "1     13-06-09              Lasse Hallström    2021-05-04      2009-06-13   \n",
       "2     30-01-91               Jonathan Demme    2021-04-27      1991-01-30   \n",
       "3     02-09-11              Alexander Payne    2021-07-15      2011-02-09   \n",
       "4     11-01-10  Allen Hughes, Albert Hughes    2021-07-15      2010-11-01   \n",
       "\n",
       "   Date Rated Year  Date Rated Month  Release Date Year  Release Date Month  \\\n",
       "0             2021                 7             1990.0                 1.0   \n",
       "1             2021                 5             2009.0                 6.0   \n",
       "2             2021                 4             1991.0                 1.0   \n",
       "3             2021                 7             2011.0                 2.0   \n",
       "4             2021                 7             2010.0                11.0   \n",
       "\n",
       "                           Genres Split  \n",
       "0                      [Comedy, Horror]  \n",
       "1            [Biography, Drama, Family]  \n",
       "2              [Crime, Drama, Thriller]  \n",
       "3                       [Comedy, Drama]  \n",
       "4  [Action, Adventure, Drama, Thriller]  "
      ]
     },
     "execution_count": 13,
     "metadata": {},
     "output_type": "execute_result"
    }
   ],
   "source": [
    "df['Genres Split'] = df.apply(lambda x: [part.strip() for part in x['Genres'].split(',')], axis=1)\n",
    "df.head(5)"
   ]
  },
  {
   "cell_type": "code",
   "execution_count": 14,
   "metadata": {},
   "outputs": [
    {
     "name": "stderr",
     "output_type": "stream",
     "text": [
      "C:\\Users\\batuk\\AppData\\Local\\Temp/ipykernel_9888/2855483109.py:1: FutureWarning: Using the level keyword in DataFrame and Series aggregations is deprecated and will be removed in a future version. Use groupby instead. df.sum(level=1) should use df.groupby(level=1).sum().\n",
      "  encoded_columns = pd.get_dummies(df['Genres Split'].apply(pd.Series).stack()).sum(level=0)\n"
     ]
    },
    {
     "data": {
      "text/html": [
       "<div>\n",
       "<style scoped>\n",
       "    .dataframe tbody tr th:only-of-type {\n",
       "        vertical-align: middle;\n",
       "    }\n",
       "\n",
       "    .dataframe tbody tr th {\n",
       "        vertical-align: top;\n",
       "    }\n",
       "\n",
       "    .dataframe thead th {\n",
       "        text-align: right;\n",
       "    }\n",
       "</style>\n",
       "<table border=\"1\" class=\"dataframe\">\n",
       "  <thead>\n",
       "    <tr style=\"text-align: right;\">\n",
       "      <th></th>\n",
       "      <th>Title</th>\n",
       "      <th>Your Rating</th>\n",
       "      <th>Date Rated</th>\n",
       "      <th>Title Type</th>\n",
       "      <th>IMDb Rating</th>\n",
       "      <th>Runtime (mins)</th>\n",
       "      <th>Year</th>\n",
       "      <th>Genres</th>\n",
       "      <th>Num Votes</th>\n",
       "      <th>Release Date</th>\n",
       "      <th>...</th>\n",
       "      <th>Music</th>\n",
       "      <th>Musical</th>\n",
       "      <th>Mystery</th>\n",
       "      <th>Romance</th>\n",
       "      <th>Sci-Fi</th>\n",
       "      <th>Short</th>\n",
       "      <th>Sport</th>\n",
       "      <th>Thriller</th>\n",
       "      <th>War</th>\n",
       "      <th>Western</th>\n",
       "    </tr>\n",
       "  </thead>\n",
       "  <tbody>\n",
       "    <tr>\n",
       "      <th>0</th>\n",
       "      <td>Tremors</td>\n",
       "      <td>7</td>\n",
       "      <td>15-07-21</td>\n",
       "      <td>movie</td>\n",
       "      <td>7.1</td>\n",
       "      <td>96.0</td>\n",
       "      <td>1990</td>\n",
       "      <td>Comedy, Horror</td>\n",
       "      <td>143582</td>\n",
       "      <td>19-01-90</td>\n",
       "      <td>...</td>\n",
       "      <td>0</td>\n",
       "      <td>0</td>\n",
       "      <td>0</td>\n",
       "      <td>0</td>\n",
       "      <td>0</td>\n",
       "      <td>0</td>\n",
       "      <td>0</td>\n",
       "      <td>0</td>\n",
       "      <td>0</td>\n",
       "      <td>0</td>\n",
       "    </tr>\n",
       "    <tr>\n",
       "      <th>1</th>\n",
       "      <td>Hachi: A Dog's Tale</td>\n",
       "      <td>7</td>\n",
       "      <td>05-04-21</td>\n",
       "      <td>movie</td>\n",
       "      <td>8.1</td>\n",
       "      <td>93.0</td>\n",
       "      <td>2009</td>\n",
       "      <td>Biography, Drama, Family</td>\n",
       "      <td>295970</td>\n",
       "      <td>13-06-09</td>\n",
       "      <td>...</td>\n",
       "      <td>0</td>\n",
       "      <td>0</td>\n",
       "      <td>0</td>\n",
       "      <td>0</td>\n",
       "      <td>0</td>\n",
       "      <td>0</td>\n",
       "      <td>0</td>\n",
       "      <td>0</td>\n",
       "      <td>0</td>\n",
       "      <td>0</td>\n",
       "    </tr>\n",
       "    <tr>\n",
       "      <th>2</th>\n",
       "      <td>The Silence of the Lambs</td>\n",
       "      <td>6</td>\n",
       "      <td>27-04-21</td>\n",
       "      <td>movie</td>\n",
       "      <td>8.6</td>\n",
       "      <td>118.0</td>\n",
       "      <td>1991</td>\n",
       "      <td>Crime, Drama, Thriller</td>\n",
       "      <td>1472178</td>\n",
       "      <td>30-01-91</td>\n",
       "      <td>...</td>\n",
       "      <td>0</td>\n",
       "      <td>0</td>\n",
       "      <td>0</td>\n",
       "      <td>0</td>\n",
       "      <td>0</td>\n",
       "      <td>0</td>\n",
       "      <td>0</td>\n",
       "      <td>1</td>\n",
       "      <td>0</td>\n",
       "      <td>0</td>\n",
       "    </tr>\n",
       "    <tr>\n",
       "      <th>3</th>\n",
       "      <td>The Descendants</td>\n",
       "      <td>6</td>\n",
       "      <td>15-07-21</td>\n",
       "      <td>movie</td>\n",
       "      <td>7.3</td>\n",
       "      <td>115.0</td>\n",
       "      <td>2011</td>\n",
       "      <td>Comedy, Drama</td>\n",
       "      <td>245809</td>\n",
       "      <td>02-09-11</td>\n",
       "      <td>...</td>\n",
       "      <td>0</td>\n",
       "      <td>0</td>\n",
       "      <td>0</td>\n",
       "      <td>0</td>\n",
       "      <td>0</td>\n",
       "      <td>0</td>\n",
       "      <td>0</td>\n",
       "      <td>0</td>\n",
       "      <td>0</td>\n",
       "      <td>0</td>\n",
       "    </tr>\n",
       "    <tr>\n",
       "      <th>4</th>\n",
       "      <td>The Book of Eli</td>\n",
       "      <td>7</td>\n",
       "      <td>15-07-21</td>\n",
       "      <td>movie</td>\n",
       "      <td>6.8</td>\n",
       "      <td>118.0</td>\n",
       "      <td>2010</td>\n",
       "      <td>Action, Adventure, Drama, Thriller</td>\n",
       "      <td>327789</td>\n",
       "      <td>11-01-10</td>\n",
       "      <td>...</td>\n",
       "      <td>0</td>\n",
       "      <td>0</td>\n",
       "      <td>0</td>\n",
       "      <td>0</td>\n",
       "      <td>0</td>\n",
       "      <td>0</td>\n",
       "      <td>0</td>\n",
       "      <td>1</td>\n",
       "      <td>0</td>\n",
       "      <td>0</td>\n",
       "    </tr>\n",
       "  </tbody>\n",
       "</table>\n",
       "<p>5 rows × 40 columns</p>\n",
       "</div>"
      ],
      "text/plain": [
       "                      Title  Your Rating Date Rated Title Type  IMDb Rating  \\\n",
       "0                   Tremors            7   15-07-21      movie          7.1   \n",
       "1       Hachi: A Dog's Tale            7   05-04-21      movie          8.1   \n",
       "2  The Silence of the Lambs            6   27-04-21      movie          8.6   \n",
       "3           The Descendants            6   15-07-21      movie          7.3   \n",
       "4           The Book of Eli            7   15-07-21      movie          6.8   \n",
       "\n",
       "   Runtime (mins)  Year                              Genres  Num Votes  \\\n",
       "0            96.0  1990                      Comedy, Horror     143582   \n",
       "1            93.0  2009            Biography, Drama, Family     295970   \n",
       "2           118.0  1991              Crime, Drama, Thriller    1472178   \n",
       "3           115.0  2011                       Comedy, Drama     245809   \n",
       "4           118.0  2010  Action, Adventure, Drama, Thriller     327789   \n",
       "\n",
       "  Release Date  ... Music Musical Mystery  Romance  Sci-Fi  Short  Sport  \\\n",
       "0     19-01-90  ...     0       0       0        0       0      0      0   \n",
       "1     13-06-09  ...     0       0       0        0       0      0      0   \n",
       "2     30-01-91  ...     0       0       0        0       0      0      0   \n",
       "3     02-09-11  ...     0       0       0        0       0      0      0   \n",
       "4     11-01-10  ...     0       0       0        0       0      0      0   \n",
       "\n",
       "  Thriller  War  Western  \n",
       "0        0    0        0  \n",
       "1        0    0        0  \n",
       "2        1    0        0  \n",
       "3        0    0        0  \n",
       "4        1    0        0  \n",
       "\n",
       "[5 rows x 40 columns]"
      ]
     },
     "execution_count": 14,
     "metadata": {},
     "output_type": "execute_result"
    }
   ],
   "source": [
    "encoded_columns = pd.get_dummies(df['Genres Split'].apply(pd.Series).stack()).sum(level=0)\n",
    "\n",
    "# Concatenate encoded columns with the original DataFrame\n",
    "df = pd.concat([df, encoded_columns], axis=1)\n",
    "df.head(5)"
   ]
  },
  {
   "cell_type": "code",
   "execution_count": 15,
   "metadata": {},
   "outputs": [
    {
     "data": {
      "image/png": "[encoded data removed]",
      "text/plain": [
       "<Figure size 432x288 with 1 Axes>"
      ]
     },
     "metadata": {
      "needs_background": "light"
     },
     "output_type": "display_data"
    }
   ],
   "source": [
    "directors_count = df['Directors'].value_counts()\n",
    "\n",
    "plt.plot(directors_count.index, directors_count.values, marker='o')\n",
    "plt.xlabel('Directors')\n",
    "plt.ylabel('Count')\n",
    "plt.title('Elbow Plot - Directors Count')\n",
    "plt.xticks(rotation=45)\n",
    "plt.show()"
   ]
  },
  {
   "cell_type": "code",
   "execution_count": 16,
   "metadata": {},
   "outputs": [
    {
     "data": {
      "image/png": "[encoded data removed]",
      "text/plain": [
       "<Figure size 432x288 with 1 Axes>"
      ]
     },
     "metadata": {
      "needs_background": "light"
     },
     "output_type": "display_data"
    }
   ],
   "source": [
    "plt.scatter(df.index, df['Your Rating'])\n",
    "plt.title('Distribution of Your Ratings Over Release Date')\n",
    "plt.xlabel('Release Date')\n",
    "plt.ylabel('Rating')\n",
    "plt.show()"
   ]
  },
  {
   "cell_type": "code",
   "execution_count": 17,
   "metadata": {},
   "outputs": [],
   "source": [
    "directors_remark = directors_count[directors_count > 3].index.tolist()\n",
    "df['DirectorRemark'] = df['Directors'].apply(lambda x: 1 if x in directors_remark else 0)"
   ]
  },
  {
   "attachments": {},
   "cell_type": "markdown",
   "metadata": {},
   "source": [
    "### Encoding for titles"
   ]
  },
  {
   "cell_type": "code",
   "execution_count": 18,
   "metadata": {},
   "outputs": [
    {
     "data": {
      "text/html": [
       "<div>\n",
       "<style scoped>\n",
       "    .dataframe tbody tr th:only-of-type {\n",
       "        vertical-align: middle;\n",
       "    }\n",
       "\n",
       "    .dataframe tbody tr th {\n",
       "        vertical-align: top;\n",
       "    }\n",
       "\n",
       "    .dataframe thead th {\n",
       "        text-align: right;\n",
       "    }\n",
       "</style>\n",
       "<table border=\"1\" class=\"dataframe\">\n",
       "  <thead>\n",
       "    <tr style=\"text-align: right;\">\n",
       "      <th></th>\n",
       "      <th>Title</th>\n",
       "      <th>Your Rating</th>\n",
       "      <th>Date Rated</th>\n",
       "      <th>Title Type</th>\n",
       "      <th>IMDb Rating</th>\n",
       "      <th>Runtime (mins)</th>\n",
       "      <th>Year</th>\n",
       "      <th>Genres</th>\n",
       "      <th>Num Votes</th>\n",
       "      <th>Release Date</th>\n",
       "      <th>...</th>\n",
       "      <th>DirectorRemark</th>\n",
       "      <th>Title_movie</th>\n",
       "      <th>Title_podcastSeries</th>\n",
       "      <th>Title_tvEpisode</th>\n",
       "      <th>Title_tvMiniSeries</th>\n",
       "      <th>Title_tvSeries</th>\n",
       "      <th>Title_tvShort</th>\n",
       "      <th>Title_tvSpecial</th>\n",
       "      <th>Title_video</th>\n",
       "      <th>Title Type Label</th>\n",
       "    </tr>\n",
       "  </thead>\n",
       "  <tbody>\n",
       "    <tr>\n",
       "      <th>0</th>\n",
       "      <td>Tremors</td>\n",
       "      <td>7</td>\n",
       "      <td>15-07-21</td>\n",
       "      <td>movie</td>\n",
       "      <td>7.1</td>\n",
       "      <td>96.0</td>\n",
       "      <td>1990</td>\n",
       "      <td>Comedy, Horror</td>\n",
       "      <td>143582</td>\n",
       "      <td>19-01-90</td>\n",
       "      <td>...</td>\n",
       "      <td>0</td>\n",
       "      <td>1</td>\n",
       "      <td>0</td>\n",
       "      <td>0</td>\n",
       "      <td>0</td>\n",
       "      <td>0</td>\n",
       "      <td>0</td>\n",
       "      <td>0</td>\n",
       "      <td>0</td>\n",
       "      <td>0</td>\n",
       "    </tr>\n",
       "    <tr>\n",
       "      <th>1</th>\n",
       "      <td>Hachi: A Dog's Tale</td>\n",
       "      <td>7</td>\n",
       "      <td>05-04-21</td>\n",
       "      <td>movie</td>\n",
       "      <td>8.1</td>\n",
       "      <td>93.0</td>\n",
       "      <td>2009</td>\n",
       "      <td>Biography, Drama, Family</td>\n",
       "      <td>295970</td>\n",
       "      <td>13-06-09</td>\n",
       "      <td>...</td>\n",
       "      <td>0</td>\n",
       "      <td>1</td>\n",
       "      <td>0</td>\n",
       "      <td>0</td>\n",
       "      <td>0</td>\n",
       "      <td>0</td>\n",
       "      <td>0</td>\n",
       "      <td>0</td>\n",
       "      <td>0</td>\n",
       "      <td>0</td>\n",
       "    </tr>\n",
       "    <tr>\n",
       "      <th>2</th>\n",
       "      <td>The Silence of the Lambs</td>\n",
       "      <td>6</td>\n",
       "      <td>27-04-21</td>\n",
       "      <td>movie</td>\n",
       "      <td>8.6</td>\n",
       "      <td>118.0</td>\n",
       "      <td>1991</td>\n",
       "      <td>Crime, Drama, Thriller</td>\n",
       "      <td>1472178</td>\n",
       "      <td>30-01-91</td>\n",
       "      <td>...</td>\n",
       "      <td>0</td>\n",
       "      <td>1</td>\n",
       "      <td>0</td>\n",
       "      <td>0</td>\n",
       "      <td>0</td>\n",
       "      <td>0</td>\n",
       "      <td>0</td>\n",
       "      <td>0</td>\n",
       "      <td>0</td>\n",
       "      <td>0</td>\n",
       "    </tr>\n",
       "    <tr>\n",
       "      <th>3</th>\n",
       "      <td>The Descendants</td>\n",
       "      <td>6</td>\n",
       "      <td>15-07-21</td>\n",
       "      <td>movie</td>\n",
       "      <td>7.3</td>\n",
       "      <td>115.0</td>\n",
       "      <td>2011</td>\n",
       "      <td>Comedy, Drama</td>\n",
       "      <td>245809</td>\n",
       "      <td>02-09-11</td>\n",
       "      <td>...</td>\n",
       "      <td>0</td>\n",
       "      <td>1</td>\n",
       "      <td>0</td>\n",
       "      <td>0</td>\n",
       "      <td>0</td>\n",
       "      <td>0</td>\n",
       "      <td>0</td>\n",
       "      <td>0</td>\n",
       "      <td>0</td>\n",
       "      <td>0</td>\n",
       "    </tr>\n",
       "    <tr>\n",
       "      <th>4</th>\n",
       "      <td>The Book of Eli</td>\n",
       "      <td>7</td>\n",
       "      <td>15-07-21</td>\n",
       "      <td>movie</td>\n",
       "      <td>6.8</td>\n",
       "      <td>118.0</td>\n",
       "      <td>2010</td>\n",
       "      <td>Action, Adventure, Drama, Thriller</td>\n",
       "      <td>327789</td>\n",
       "      <td>11-01-10</td>\n",
       "      <td>...</td>\n",
       "      <td>0</td>\n",
       "      <td>1</td>\n",
       "      <td>0</td>\n",
       "      <td>0</td>\n",
       "      <td>0</td>\n",
       "      <td>0</td>\n",
       "      <td>0</td>\n",
       "      <td>0</td>\n",
       "      <td>0</td>\n",
       "      <td>0</td>\n",
       "    </tr>\n",
       "  </tbody>\n",
       "</table>\n",
       "<p>5 rows × 50 columns</p>\n",
       "</div>"
      ],
      "text/plain": [
       "                      Title  Your Rating Date Rated Title Type  IMDb Rating  \\\n",
       "0                   Tremors            7   15-07-21      movie          7.1   \n",
       "1       Hachi: A Dog's Tale            7   05-04-21      movie          8.1   \n",
       "2  The Silence of the Lambs            6   27-04-21      movie          8.6   \n",
       "3           The Descendants            6   15-07-21      movie          7.3   \n",
       "4           The Book of Eli            7   15-07-21      movie          6.8   \n",
       "\n",
       "   Runtime (mins)  Year                              Genres  Num Votes  \\\n",
       "0            96.0  1990                      Comedy, Horror     143582   \n",
       "1            93.0  2009            Biography, Drama, Family     295970   \n",
       "2           118.0  1991              Crime, Drama, Thriller    1472178   \n",
       "3           115.0  2011                       Comedy, Drama     245809   \n",
       "4           118.0  2010  Action, Adventure, Drama, Thriller     327789   \n",
       "\n",
       "  Release Date  ... DirectorRemark Title_movie Title_podcastSeries  \\\n",
       "0     19-01-90  ...              0           1                   0   \n",
       "1     13-06-09  ...              0           1                   0   \n",
       "2     30-01-91  ...              0           1                   0   \n",
       "3     02-09-11  ...              0           1                   0   \n",
       "4     11-01-10  ...              0           1                   0   \n",
       "\n",
       "   Title_tvEpisode  Title_tvMiniSeries  Title_tvSeries  Title_tvShort  \\\n",
       "0                0                   0               0              0   \n",
       "1                0                   0               0              0   \n",
       "2                0                   0               0              0   \n",
       "3                0                   0               0              0   \n",
       "4                0                   0               0              0   \n",
       "\n",
       "  Title_tvSpecial  Title_video  Title Type Label  \n",
       "0               0            0                 0  \n",
       "1               0            0                 0  \n",
       "2               0            0                 0  \n",
       "3               0            0                 0  \n",
       "4               0            0                 0  \n",
       "\n",
       "[5 rows x 50 columns]"
      ]
     },
     "execution_count": 18,
     "metadata": {},
     "output_type": "execute_result"
    }
   ],
   "source": [
    "### One Hot Encoding Title Type (Regression)\n",
    "\n",
    "# Perform one-hot encoding\n",
    "encoded_columns = pd.get_dummies(df['Title Type'], prefix='Title')\n",
    "\n",
    "# Concatenate encoded columns with the original DataFrame\n",
    "df = pd.concat([df, encoded_columns], axis=1)\n",
    "\n",
    "\n",
    "#### Label Encoding Title Type (Trees)\n",
    "\n",
    "# Perform label encoding\n",
    "from sklearn.preprocessing import LabelEncoder\n",
    "le = LabelEncoder()\n",
    "df['Title Type Label'] = le.fit_transform(df['Title Type']) \n",
    "df.head(5)"
   ]
  },
  {
   "cell_type": "code",
   "execution_count": 19,
   "metadata": {},
   "outputs": [
    {
     "data": {
      "text/plain": [
       "Title                  0\n",
       "Your Rating            0\n",
       "Date Rated             0\n",
       "Title Type             0\n",
       "IMDb Rating            0\n",
       "Runtime (mins)         0\n",
       "Year                   0\n",
       "Genres                 0\n",
       "Num Votes              0\n",
       "Release Date           0\n",
       "Directors              0\n",
       "Date Rated dt          0\n",
       "Release Date dt        0\n",
       "Date Rated Year        0\n",
       "Date Rated Month       0\n",
       "Release Date Year      0\n",
       "Release Date Month     0\n",
       "Genres Split           0\n",
       "Action                 0\n",
       "Adventure              0\n",
       "Animation              0\n",
       "Biography              0\n",
       "Comedy                 0\n",
       "Crime                  0\n",
       "Documentary            0\n",
       "Drama                  0\n",
       "Family                 0\n",
       "Fantasy                0\n",
       "History                0\n",
       "Horror                 0\n",
       "Music                  0\n",
       "Musical                0\n",
       "Mystery                0\n",
       "Romance                0\n",
       "Sci-Fi                 0\n",
       "Short                  0\n",
       "Sport                  0\n",
       "Thriller               0\n",
       "War                    0\n",
       "Western                0\n",
       "DirectorRemark         0\n",
       "Title_movie            0\n",
       "Title_podcastSeries    0\n",
       "Title_tvEpisode        0\n",
       "Title_tvMiniSeries     0\n",
       "Title_tvSeries         0\n",
       "Title_tvShort          0\n",
       "Title_tvSpecial        0\n",
       "Title_video            0\n",
       "Title Type Label       0\n",
       "dtype: int64"
      ]
     },
     "execution_count": 19,
     "metadata": {},
     "output_type": "execute_result"
    }
   ],
   "source": [
    "df.dropna(inplace=True)\n",
    "df.isnull().sum()"
   ]
  },
  {
   "cell_type": "code",
   "execution_count": 20,
   "metadata": {},
   "outputs": [],
   "source": [
    "from sklearn.model_selection import train_test_split\n",
    "\n",
    "X_train, X_test, y_train, y_test = train_test_split(df.loc[:, df.columns != 'Your Rating'], df['Your Rating'], test_size=0.2, random_state=42)"
   ]
  },
  {
   "attachments": {},
   "cell_type": "markdown",
   "metadata": {},
   "source": [
    "## Linear Models"
   ]
  },
  {
   "cell_type": "code",
   "execution_count": 21,
   "metadata": {},
   "outputs": [],
   "source": [
    "X_train_copy = X_train.copy()\n",
    "X_test_copy = X_test.copy()"
   ]
  },
  {
   "cell_type": "code",
   "execution_count": 22,
   "metadata": {},
   "outputs": [],
   "source": [
    "#### Choose features for regression models\n",
    "\n",
    "features = ['IMDb Rating','Runtime (mins)', 'Num Votes', 'DirectorRemark','Title_movie', 'Title_tvSeries', 'Title_tvSpecial', 'Title_video',  'Action', 'Adventure', 'Animation', 'Biography', 'Comedy', 'Crime', 'Documentary', 'Drama', 'Family', 'Fantasy', 'History', 'Horror', 'Music', 'Musical', 'Mystery',  'Romance', 'Sci-Fi', 'Short', 'Sport', 'Thriller', 'War', 'Western']\n",
    "X_train = X_train_copy[features]\n",
    "X_test = X_test_copy[features]"
   ]
  },
  {
   "cell_type": "code",
   "execution_count": 23,
   "metadata": {},
   "outputs": [],
   "source": [
    "from sklearn.preprocessing import MinMaxScaler\n",
    "\n",
    "mmscaler = MinMaxScaler()\n",
    "X_train = pd.DataFrame(mmscaler.fit_transform(X_train), columns=X_train.columns)\n",
    "X_test = pd.DataFrame(mmscaler.transform(X_test), columns=X_test.columns)"
   ]
  },
  {
   "attachments": {},
   "cell_type": "markdown",
   "metadata": {},
   "source": [
    "#### Linear Regression"
   ]
  },
  {
   "cell_type": "code",
   "execution_count": 28,
   "metadata": {},
   "outputs": [
    {
     "name": "stdout",
     "output_type": "stream",
     "text": [
      "MAPE for linear regression training: 0.1446974182768706\n",
      "MAPE for linear regression testing: 0.14213006749699927\n"
     ]
    },
    {
     "data": {
      "image/png": "[encoded data removed]",
      "text/plain": [
       "<Figure size 576x432 with 1 Axes>"
      ]
     },
     "metadata": {
      "needs_background": "light"
     },
     "output_type": "display_data"
    },
    {
     "data": {
      "image/png": "[encoded data removed]",
      "text/plain": [
       "<Figure size 432x288 with 1 Axes>"
      ]
     },
     "metadata": {
      "needs_background": "light"
     },
     "output_type": "display_data"
    }
   ],
   "source": [
    "from sklearn.model_selection import cross_val_score, KFold\n",
    "from sklearn.linear_model import LinearRegression\n",
    "from sklearn.metrics import mean_absolute_percentage_error\n",
    "\n",
    "def linear_regression(df, X_train, X_test, y_train, y_test):\n",
    "    model = LinearRegression()\n",
    "    scores = -cross_val_score(model, X_train, y_train, scoring='neg_mean_absolute_percentage_error', cv=5)\n",
    "    mean_error = np.mean(scores)\n",
    "    print(\"MAPE for linear regression training:\", mean_error)\n",
    "\n",
    "    model.fit(X_train, y_train)\n",
    "    y_pred = model.predict(X_test)\n",
    "    mape = mean_absolute_percentage_error(y_test, y_pred)\n",
    "    print(\"MAPE for linear regression testing:\", mape)\n",
    "\n",
    "    return model\n",
    "\n",
    "def regression_report(model, X_train, X_test, y_test, df):\n",
    "\n",
    "   # Print the feature importance\n",
    "    importances = model.coef_\n",
    "    feature_names = X_train.columns \n",
    "    indices = np.argsort(importances)[::-1]\n",
    "    names = [feature_names[i] for i in indices]\n",
    "    plt.figure(figsize=(8, 6))\n",
    "    plt.title(\"Feature Importance\")\n",
    "    plt.bar(range(X_train.shape[1]), importances[indices])\n",
    "    plt.xticks(range(X_train.shape[1]), names, rotation=90)\n",
    "    plt.show()\n",
    "\n",
    "    # Print the prediction accuracy\n",
    "    y_pred = model.predict(X_test)\n",
    "    plt.scatter(y_test, y_pred, color='red', label='Predicted Rating')\n",
    "    plt.xlabel('Real Rating')\n",
    "    plt.ylabel('Predicted Rating')\n",
    "    plt.title(model.__class__.__name__)\n",
    "    plt.legend()\n",
    "    plt.show()\n",
    "\n",
    "    \n",
    "\n",
    "model = linear_regression(df, X_train, X_test, y_train, y_test)\n",
    "df['Prediction_LinearReg'] = model.predict(mmscaler.transform(df[features]))\n",
    "regression_report(model, X_train, X_test, y_test, df)"
   ]
  },
  {
   "attachments": {},
   "cell_type": "markdown",
   "metadata": {},
   "source": [
    "### Ridge Regression"
   ]
  },
  {
   "cell_type": "code",
   "execution_count": 39,
   "metadata": {},
   "outputs": [
    {
     "name": "stderr",
     "output_type": "stream",
     "text": [
      "\u001b[32m[I 2023-06-28 14:12:47,605]\u001b[0m A new study created in memory with name: RidgeRegression\u001b[0m\n",
      "\u001b[32m[I 2023-06-28 14:12:47,651]\u001b[0m Trial 0 finished with value: -0.1428577131600171 and parameters: {'alpha': 0.031933869420730315, 'solver': 'saga'}. Best is trial 0 with value: -0.1428577131600171.\u001b[0m\n",
      "\u001b[32m[I 2023-06-28 14:12:47,684]\u001b[0m Trial 1 finished with value: -0.14304700197064335 and parameters: {'alpha': 0.006710323708150225, 'solver': 'lsqr'}. Best is trial 0 with value: -0.1428577131600171.\u001b[0m\n",
      "\u001b[32m[I 2023-06-28 14:12:47,713]\u001b[0m Trial 2 finished with value: -0.14299800758463924 and parameters: {'alpha': 1.1882596217191702e-05, 'solver': 'svd'}. Best is trial 0 with value: -0.1428577131600171.\u001b[0m\n",
      "\u001b[32m[I 2023-06-28 14:12:47,769]\u001b[0m Trial 3 finished with value: -0.14300979050984203 and parameters: {'alpha': 0.0006853825675232427, 'solver': 'sag'}. Best is trial 0 with value: -0.1428577131600171.\u001b[0m\n",
      "\u001b[32m[I 2023-06-28 14:12:47,794]\u001b[0m Trial 4 finished with value: -0.14299797577224355 and parameters: {'alpha': 2.2662083994891077e-05, 'solver': 'svd'}. Best is trial 0 with value: -0.1428577131600171.\u001b[0m\n",
      "\u001b[32m[I 2023-06-28 14:12:47,823]\u001b[0m Trial 5 finished with value: -0.1463541131021427 and parameters: {'alpha': 9.663206820346481, 'solver': 'cholesky'}. Best is trial 0 with value: -0.1428577131600171.\u001b[0m\n",
      "\u001b[32m[I 2023-06-28 14:12:47,854]\u001b[0m Trial 6 finished with value: -0.1429975339340112 and parameters: {'alpha': 0.000172395431213345, 'solver': 'svd'}. Best is trial 0 with value: -0.1428577131600171.\u001b[0m\n",
      "\u001b[32m[I 2023-06-28 14:12:47,885]\u001b[0m Trial 7 finished with value: -0.1424377833666489 and parameters: {'alpha': 0.25733003183613573, 'solver': 'svd'}. Best is trial 7 with value: -0.1424377833666489.\u001b[0m\n",
      "\u001b[32m[I 2023-06-28 14:12:47,934]\u001b[0m Trial 8 finished with value: -0.14293740470817098 and parameters: {'alpha': 0.019175589091656172, 'solver': 'sag'}. Best is trial 7 with value: -0.1424377833666489.\u001b[0m\n",
      "\u001b[32m[I 2023-06-28 14:12:47,984]\u001b[0m Trial 9 finished with value: -0.14293851068878008 and parameters: {'alpha': 0.0007249322889352933, 'solver': 'saga'}. Best is trial 7 with value: -0.1424377833666489.\u001b[0m\n",
      "\u001b[32m[I 2023-06-28 14:12:48,023]\u001b[0m Trial 10 finished with value: -0.1418888431748499 and parameters: {'alpha': 0.9268712097085662, 'solver': 'auto'}. Best is trial 10 with value: -0.1418888431748499.\u001b[0m\n",
      "\u001b[32m[I 2023-06-28 14:12:48,053]\u001b[0m Trial 11 finished with value: -0.14194940959861954 and parameters: {'alpha': 1.389346389113943, 'solver': 'auto'}. Best is trial 10 with value: -0.1418888431748499.\u001b[0m\n",
      "\u001b[32m[I 2023-06-28 14:12:48,083]\u001b[0m Trial 12 finished with value: -0.1421655672171413 and parameters: {'alpha': 2.0182348301067727, 'solver': 'auto'}. Best is trial 10 with value: -0.1418888431748499.\u001b[0m\n",
      "\u001b[32m[I 2023-06-28 14:12:48,112]\u001b[0m Trial 13 finished with value: -0.14212435868599432 and parameters: {'alpha': 0.5086495126365285, 'solver': 'auto'}. Best is trial 10 with value: -0.1418888431748499.\u001b[0m\n",
      "\u001b[32m[I 2023-06-28 14:12:48,139]\u001b[0m Trial 14 finished with value: -0.14619394355469484 and parameters: {'alpha': 9.303048962358575, 'solver': 'auto'}. Best is trial 10 with value: -0.1418888431748499.\u001b[0m\n",
      "\u001b[32m[I 2023-06-28 14:12:48,169]\u001b[0m Trial 15 finished with value: -0.1424337552545582 and parameters: {'alpha': 0.25994996597981346, 'solver': 'auto'}. Best is trial 10 with value: -0.1418888431748499.\u001b[0m\n",
      "\u001b[32m[I 2023-06-28 14:12:48,198]\u001b[0m Trial 16 finished with value: -0.1419620361967267 and parameters: {'alpha': 1.443102209157732, 'solver': 'auto'}. Best is trial 10 with value: -0.1418888431748499.\u001b[0m\n",
      "\u001b[32m[I 2023-06-28 14:12:48,229]\u001b[0m Trial 17 finished with value: -0.14281644469570712 and parameters: {'alpha': 0.06657128807814201, 'solver': 'cholesky'}. Best is trial 10 with value: -0.1418888431748499.\u001b[0m\n",
      "\u001b[32m[I 2023-06-28 14:12:48,262]\u001b[0m Trial 18 finished with value: -0.1420235856460143 and parameters: {'alpha': 1.7414170000003426, 'solver': 'lsqr'}. Best is trial 10 with value: -0.1418888431748499.\u001b[0m\n",
      "\u001b[32m[I 2023-06-28 14:12:48,292]\u001b[0m Trial 19 finished with value: -0.1426118327809096 and parameters: {'alpha': 0.155698647349169, 'solver': 'auto'}. Best is trial 10 with value: -0.1418888431748499.\u001b[0m\n",
      "\u001b[32m[I 2023-06-28 14:12:48,320]\u001b[0m Trial 20 finished with value: -0.14275957772459782 and parameters: {'alpha': 0.08948791775910381, 'solver': 'auto'}. Best is trial 10 with value: -0.1418888431748499.\u001b[0m\n",
      "\u001b[32m[I 2023-06-28 14:12:48,348]\u001b[0m Trial 21 finished with value: -0.14190261854605205 and parameters: {'alpha': 1.0644752569052378, 'solver': 'auto'}. Best is trial 10 with value: -0.1418888431748499.\u001b[0m\n",
      "\u001b[32m[I 2023-06-28 14:12:48,419]\u001b[0m Trial 22 finished with value: -0.14190080442401054 and parameters: {'alpha': 1.0502059432073507, 'solver': 'auto'}. Best is trial 10 with value: -0.1418888431748499.\u001b[0m\n",
      "\u001b[32m[I 2023-06-28 14:12:48,447]\u001b[0m Trial 23 finished with value: -0.1420767078368918 and parameters: {'alpha': 0.556335161826298, 'solver': 'auto'}. Best is trial 10 with value: -0.1418888431748499.\u001b[0m\n",
      "\u001b[32m[I 2023-06-28 14:12:48,479]\u001b[0m Trial 24 finished with value: -0.1431154140955276 and parameters: {'alpha': 3.8747583998582553, 'solver': 'auto'}. Best is trial 10 with value: -0.1418888431748499.\u001b[0m\n",
      "\u001b[32m[I 2023-06-28 14:12:48,508]\u001b[0m Trial 25 finished with value: -0.14201207569813964 and parameters: {'alpha': 0.6254672277197745, 'solver': 'auto'}. Best is trial 10 with value: -0.1418888431748499.\u001b[0m\n",
      "\u001b[32m[I 2023-06-28 14:12:48,538]\u001b[0m Trial 26 finished with value: -0.14210431463507534 and parameters: {'alpha': 0.5284463390812918, 'solver': 'cholesky'}. Best is trial 10 with value: -0.1418888431748499.\u001b[0m\n",
      "\u001b[32m[I 2023-06-28 14:12:48,576]\u001b[0m Trial 27 finished with value: -0.1438399327236983 and parameters: {'alpha': 5.021555345722021, 'solver': 'lsqr'}. Best is trial 10 with value: -0.1418888431748499.\u001b[0m\n",
      "\u001b[32m[I 2023-06-28 14:12:48,628]\u001b[0m Trial 28 finished with value: -0.14246985306001364 and parameters: {'alpha': 2.7128514665366557, 'solver': 'sag'}. Best is trial 10 with value: -0.1418888431748499.\u001b[0m\n",
      "\u001b[32m[I 2023-06-28 14:12:48,682]\u001b[0m Trial 29 finished with value: -0.14268073790405816 and parameters: {'alpha': 0.10466847725369022, 'solver': 'saga'}. Best is trial 10 with value: -0.1418888431748499.\u001b[0m\n",
      "\u001b[32m[I 2023-06-28 14:12:48,724]\u001b[0m Trial 30 finished with value: -0.1428554712982688 and parameters: {'alpha': 0.03406888197483079, 'solver': 'saga'}. Best is trial 10 with value: -0.1418888431748499.\u001b[0m\n",
      "\u001b[32m[I 2023-06-28 14:12:48,748]\u001b[0m Trial 31 finished with value: -0.141925181052509 and parameters: {'alpha': 1.2335931889251481, 'solver': 'auto'}. Best is trial 10 with value: -0.1418888431748499.\u001b[0m\n",
      "\u001b[32m[I 2023-06-28 14:12:48,771]\u001b[0m Trial 32 finished with value: -0.14190176498944046 and parameters: {'alpha': 1.0577776005670847, 'solver': 'auto'}. Best is trial 10 with value: -0.1418888431748499.\u001b[0m\n",
      "\u001b[32m[I 2023-06-28 14:12:48,799]\u001b[0m Trial 33 finished with value: -0.1430808020886512 and parameters: {'alpha': 3.8208795763777514, 'solver': 'auto'}. Best is trial 10 with value: -0.1418888431748499.\u001b[0m\n",
      "\u001b[32m[I 2023-06-28 14:12:48,820]\u001b[0m Trial 34 finished with value: -0.1425277654243604 and parameters: {'alpha': 0.2008711303293913, 'solver': 'auto'}. Best is trial 10 with value: -0.1418888431748499.\u001b[0m\n",
      "\u001b[32m[I 2023-06-28 14:12:48,852]\u001b[0m Trial 35 finished with value: -0.14201180378475337 and parameters: {'alpha': 0.7900758161728549, 'solver': 'lsqr'}. Best is trial 10 with value: -0.1418888431748499.\u001b[0m\n",
      "\u001b[32m[I 2023-06-28 14:12:48,880]\u001b[0m Trial 36 finished with value: -0.14286271035779138 and parameters: {'alpha': 0.048669774515681406, 'solver': 'auto'}. Best is trial 10 with value: -0.1418888431748499.\u001b[0m\n",
      "\u001b[32m[I 2023-06-28 14:12:48,937]\u001b[0m Trial 37 finished with value: -0.14234171496648368 and parameters: {'alpha': 0.32702800205299143, 'solver': 'sag'}. Best is trial 10 with value: -0.1418888431748499.\u001b[0m\n",
      "\u001b[32m[I 2023-06-28 14:12:48,967]\u001b[0m Trial 38 finished with value: -0.14266522381748145 and parameters: {'alpha': 0.13065584196182697, 'solver': 'svd'}. Best is trial 10 with value: -0.1418888431748499.\u001b[0m\n",
      "\u001b[32m[I 2023-06-28 14:12:48,996]\u001b[0m Trial 39 finished with value: -0.14189898391724978 and parameters: {'alpha': 0.839158783759121, 'solver': 'cholesky'}. Best is trial 10 with value: -0.1418888431748499.\u001b[0m\n",
      "\u001b[32m[I 2023-06-28 14:12:49,021]\u001b[0m Trial 40 finished with value: -0.1429555534033152 and parameters: {'alpha': 0.014742710638030709, 'solver': 'cholesky'}. Best is trial 10 with value: -0.1418888431748499.\u001b[0m\n",
      "\u001b[32m[I 2023-06-28 14:12:49,048]\u001b[0m Trial 41 finished with value: -0.14190173068114895 and parameters: {'alpha': 0.8221404127350923, 'solver': 'cholesky'}. Best is trial 10 with value: -0.1418888431748499.\u001b[0m\n",
      "\u001b[32m[I 2023-06-28 14:12:49,084]\u001b[0m Trial 42 finished with value: -0.1423164952606284 and parameters: {'alpha': 0.34309485496615555, 'solver': 'cholesky'}. Best is trial 10 with value: -0.1418888431748499.\u001b[0m\n",
      "\u001b[32m[I 2023-06-28 14:12:49,112]\u001b[0m Trial 43 finished with value: -0.14222992259432163 and parameters: {'alpha': 2.164556797561147, 'solver': 'cholesky'}. Best is trial 10 with value: -0.1418888431748499.\u001b[0m\n",
      "\u001b[32m[I 2023-06-28 14:12:49,145]\u001b[0m Trial 44 finished with value: -0.1418908001429013 and parameters: {'alpha': 0.8924064854461643, 'solver': 'cholesky'}. Best is trial 10 with value: -0.1418888431748499.\u001b[0m\n",
      "\u001b[32m[I 2023-06-28 14:12:49,175]\u001b[0m Trial 45 finished with value: -0.14647778218647511 and parameters: {'alpha': 9.95240508980595, 'solver': 'cholesky'}. Best is trial 10 with value: -0.1418888431748499.\u001b[0m\n",
      "\u001b[32m[I 2023-06-28 14:12:49,203]\u001b[0m Trial 46 finished with value: -0.14228468742332856 and parameters: {'alpha': 0.36815433806863473, 'solver': 'cholesky'}. Best is trial 10 with value: -0.1418888431748499.\u001b[0m\n",
      "\u001b[32m[I 2023-06-28 14:12:49,234]\u001b[0m Trial 47 finished with value: -0.14255383041290715 and parameters: {'alpha': 0.18523289298063422, 'solver': 'cholesky'}. Best is trial 10 with value: -0.1418888431748499.\u001b[0m\n",
      "\u001b[32m[I 2023-06-28 14:12:49,264]\u001b[0m Trial 48 finished with value: -0.14190706632303524 and parameters: {'alpha': 0.7902180009289871, 'solver': 'cholesky'}. Best is trial 10 with value: -0.1418888431748499.\u001b[0m\n",
      "\u001b[32m[I 2023-06-28 14:12:49,294]\u001b[0m Trial 49 finished with value: -0.14239967577299134 and parameters: {'alpha': 2.573471817881897, 'solver': 'cholesky'}. Best is trial 10 with value: -0.1418888431748499.\u001b[0m\n"
     ]
    },
    {
     "data": {
      "application/vnd.plotly.v1+json": {
       "config": {
        "plotlyServerURL": "https://plot.ly"
       },
       "data": [
        {
         "mode": "markers",
         "name": "Objective Value",
         "type": "scatter",
         "x": [
          0,
          1,
          2,
          3,
          4,
          5,
          6,
          7,
          8,
          9,
          10,
          11,
          12,
          13,
          14,
          15,
          16,
          17,
          18,
          19,
          20,
          21,
          22,
          23,
          24,
          25,
          26,
          27,
          28,
          29,
          30,
          31,
          32,
          33,
          34,
          35,
          36,
          37,
          38,
          39,
          40,
          41,
          42,
          43,
          44,
          45,
          46,
          47,
          48,
          49
         ],
         "y": [
          -0.1428577131600171,
          -0.14304700197064335,
          -0.14299800758463924,
          -0.14300979050984203,
          -0.14299797577224355,
          -0.1463541131021427,
          -0.1429975339340112,
          -0.1424377833666489,
          -0.14293740470817098,
          -0.14293851068878008,
          -0.1418888431748499,
          -0.14194940959861954,
          -0.1421655672171413,
          -0.14212435868599432,
          -0.14619394355469484,
          -0.1424337552545582,
          -0.1419620361967267,
          -0.14281644469570712,
          -0.1420235856460143,
          -0.1426118327809096,
          -0.14275957772459782,
          -0.14190261854605205,
          -0.14190080442401054,
          -0.1420767078368918,
          -0.1431154140955276,
          -0.14201207569813964,
          -0.14210431463507534,
          -0.1438399327236983,
          -0.14246985306001364,
          -0.14268073790405816,
          -0.1428554712982688,
          -0.141925181052509,
          -0.14190176498944046,
          -0.1430808020886512,
          -0.1425277654243604,
          -0.14201180378475337,
          -0.14286271035779138,
          -0.14234171496648368,
          -0.14266522381748145,
          -0.14189898391724978,
          -0.1429555534033152,
          -0.14190173068114895,
          -0.1423164952606284,
          -0.14222992259432163,
          -0.1418908001429013,
          -0.14647778218647511,
          -0.14228468742332856,
          -0.14255383041290715,
          -0.14190706632303524,
          -0.14239967577299134
         ]
        },
        {
         "name": "Best Value",
         "type": "scatter",
         "x": [
          0,
          1,
          2,
          3,
          4,
          5,
          6,
          7,
          8,
          9,
          10,
          11,
          12,
          13,
          14,
          15,
          16,
          17,
          18,
          19,
          20,
          21,
          22,
          23,
          24,
          25,
          26,
          27,
          28,
          29,
          30,
          31,
          32,
          33,
          34,
          35,
          36,
          37,
          38,
          39,
          40,
          41,
          42,
          43,
          44,
          45,
          46,
          47,
          48,
          49
         ],
         "y": [
          -0.1428577131600171,
          -0.1428577131600171,
          -0.1428577131600171,
          -0.1428577131600171,
          -0.1428577131600171,
          -0.1428577131600171,
          -0.1428577131600171,
          -0.1424377833666489,
          -0.1424377833666489,
          -0.1424377833666489,
          -0.1418888431748499,
          -0.1418888431748499,
          -0.1418888431748499,
          -0.1418888431748499,
          -0.1418888431748499,
          -0.1418888431748499,
          -0.1418888431748499,
          -0.1418888431748499,
          -0.1418888431748499,
          -0.1418888431748499,
          -0.1418888431748499,
          -0.1418888431748499,
          -0.1418888431748499,
          -0.1418888431748499,
          -0.1418888431748499,
          -0.1418888431748499,
          -0.1418888431748499,
          -0.1418888431748499,
          -0.1418888431748499,
          -0.1418888431748499,
          -0.1418888431748499,
          -0.1418888431748499,
          -0.1418888431748499,
          -0.1418888431748499,
          -0.1418888431748499,
          -0.1418888431748499,
          -0.1418888431748499,
          -0.1418888431748499,
          -0.1418888431748499,
          -0.1418888431748499,
          -0.1418888431748499,
          -0.1418888431748499,
          -0.1418888431748499,
          -0.1418888431748499,
          -0.1418888431748499,
          -0.1418888431748499,
          -0.1418888431748499,
          -0.1418888431748499,
          -0.1418888431748499,
          -0.1418888431748499
         ]
        }
       ],
       "layout": {
        "template": {
         "data": {
          "bar": [
           {
            "error_x": {
             "color": "#2a3f5f"
            },
            "error_y": {
             "color": "#2a3f5f"
            },
            "marker": {
             "line": {
              "color": "#E5ECF6",
              "width": 0.5
             },
             "pattern": {
              "fillmode": "overlay",
              "size": 10,
              "solidity": 0.2
             }
            },
            "type": "bar"
           }
          ],
          "barpolar": [
           {
            "marker": {
             "line": {
              "color": "#E5ECF6",
              "width": 0.5
             },
             "pattern": {
              "fillmode": "overlay",
              "size": 10,
              "solidity": 0.2
             }
            },
            "type": "barpolar"
           }
          ],
          "carpet": [
           {
            "aaxis": {
             "endlinecolor": "#2a3f5f",
             "gridcolor": "white",
             "linecolor": "white",
             "minorgridcolor": "white",
             "startlinecolor": "#2a3f5f"
            },
            "baxis": {
             "endlinecolor": "#2a3f5f",
             "gridcolor": "white",
             "linecolor": "white",
             "minorgridcolor": "white",
             "startlinecolor": "#2a3f5f"
            },
            "type": "carpet"
           }
          ],
          "choropleth": [
           {
            "colorbar": {
             "outlinewidth": 0,
             "ticks": ""
            },
            "type": "choropleth"
           }
          ],
          "contour": [
           {
            "colorbar": {
             "outlinewidth": 0,
             "ticks": ""
            },
            "colorscale": [
             [
              0,
              "#0d0887"
             ],
             [
              0.1111111111111111,
              "#46039f"
             ],
             [
              0.2222222222222222,
              "#7201a8"
             ],
             [
              0.3333333333333333,
              "#9c179e"
             ],
             [
              0.4444444444444444,
              "#bd3786"
             ],
             [
              0.5555555555555556,
              "#d8576b"
             ],
             [
              0.6666666666666666,
              "#ed7953"
             ],
             [
              0.7777777777777778,
              "#fb9f3a"
             ],
             [
              0.8888888888888888,
              "#fdca26"
             ],
             [
              1,
              "#f0f921"
             ]
            ],
            "type": "contour"
           }
          ],
          "contourcarpet": [
           {
            "colorbar": {
             "outlinewidth": 0,
             "ticks": ""
            },
            "type": "contourcarpet"
           }
          ],
          "heatmap": [
           {
            "colorbar": {
             "outlinewidth": 0,
             "ticks": ""
            },
            "colorscale": [
             [
              0,
              "#0d0887"
             ],
             [
              0.1111111111111111,
              "#46039f"
             ],
             [
              0.2222222222222222,
              "#7201a8"
             ],
             [
              0.3333333333333333,
              "#9c179e"
             ],
             [
              0.4444444444444444,
              "#bd3786"
             ],
             [
              0.5555555555555556,
              "#d8576b"
             ],
             [
              0.6666666666666666,
              "#ed7953"
             ],
             [
              0.7777777777777778,
              "#fb9f3a"
             ],
             [
              0.8888888888888888,
              "#fdca26"
             ],
             [
              1,
              "#f0f921"
             ]
            ],
            "type": "heatmap"
           }
          ],
          "heatmapgl": [
           {
            "colorbar": {
             "outlinewidth": 0,
             "ticks": ""
            },
            "colorscale": [
             [
              0,
              "#0d0887"
             ],
             [
              0.1111111111111111,
              "#46039f"
             ],
             [
              0.2222222222222222,
              "#7201a8"
             ],
             [
              0.3333333333333333,
              "#9c179e"
             ],
             [
              0.4444444444444444,
              "#bd3786"
             ],
             [
              0.5555555555555556,
              "#d8576b"
             ],
             [
              0.6666666666666666,
              "#ed7953"
             ],
             [
              0.7777777777777778,
              "#fb9f3a"
             ],
             [
              0.8888888888888888,
              "#fdca26"
             ],
             [
              1,
              "#f0f921"
             ]
            ],
            "type": "heatmapgl"
           }
          ],
          "histogram": [
           {
            "marker": {
             "pattern": {
              "fillmode": "overlay",
              "size": 10,
              "solidity": 0.2
             }
            },
            "type": "histogram"
           }
          ],
          "histogram2d": [
           {
            "colorbar": {
             "outlinewidth": 0,
             "ticks": ""
            },
            "colorscale": [
             [
              0,
              "#0d0887"
             ],
             [
              0.1111111111111111,
              "#46039f"
             ],
             [
              0.2222222222222222,
              "#7201a8"
             ],
             [
              0.3333333333333333,
              "#9c179e"
             ],
             [
              0.4444444444444444,
              "#bd3786"
             ],
             [
              0.5555555555555556,
              "#d8576b"
             ],
             [
              0.6666666666666666,
              "#ed7953"
             ],
             [
              0.7777777777777778,
              "#fb9f3a"
             ],
             [
              0.8888888888888888,
              "#fdca26"
             ],
             [
              1,
              "#f0f921"
             ]
            ],
            "type": "histogram2d"
           }
          ],
          "histogram2dcontour": [
           {
            "colorbar": {
             "outlinewidth": 0,
             "ticks": ""
            },
            "colorscale": [
             [
              0,
              "#0d0887"
             ],
             [
              0.1111111111111111,
              "#46039f"
             ],
             [
              0.2222222222222222,
              "#7201a8"
             ],
             [
              0.3333333333333333,
              "#9c179e"
             ],
             [
              0.4444444444444444,
              "#bd3786"
             ],
             [
              0.5555555555555556,
              "#d8576b"
             ],
             [
              0.6666666666666666,
              "#ed7953"
             ],
             [
              0.7777777777777778,
              "#fb9f3a"
             ],
             [
              0.8888888888888888,
              "#fdca26"
             ],
             [
              1,
              "#f0f921"
             ]
            ],
            "type": "histogram2dcontour"
           }
          ],
          "mesh3d": [
           {
            "colorbar": {
             "outlinewidth": 0,
             "ticks": ""
            },
            "type": "mesh3d"
           }
          ],
          "parcoords": [
           {
            "line": {
             "colorbar": {
              "outlinewidth": 0,
              "ticks": ""
             }
            },
            "type": "parcoords"
           }
          ],
          "pie": [
           {
            "automargin": true,
            "type": "pie"
           }
          ],
          "scatter": [
           {
            "fillpattern": {
             "fillmode": "overlay",
             "size": 10,
             "solidity": 0.2
            },
            "type": "scatter"
           }
          ],
          "scatter3d": [
           {
            "line": {
             "colorbar": {
              "outlinewidth": 0,
              "ticks": ""
             }
            },
            "marker": {
             "colorbar": {
              "outlinewidth": 0,
              "ticks": ""
             }
            },
            "type": "scatter3d"
           }
          ],
          "scattercarpet": [
           {
            "marker": {
             "colorbar": {
              "outlinewidth": 0,
              "ticks": ""
             }
            },
            "type": "scattercarpet"
           }
          ],
          "scattergeo": [
           {
            "marker": {
             "colorbar": {
              "outlinewidth": 0,
              "ticks": ""
             }
            },
            "type": "scattergeo"
           }
          ],
          "scattergl": [
           {
            "marker": {
             "colorbar": {
              "outlinewidth": 0,
              "ticks": ""
             }
            },
            "type": "scattergl"
           }
          ],
          "scattermapbox": [
           {
            "marker": {
             "colorbar": {
              "outlinewidth": 0,
              "ticks": ""
             }
            },
            "type": "scattermapbox"
           }
          ],
          "scatterpolar": [
           {
            "marker": {
             "colorbar": {
              "outlinewidth": 0,
              "ticks": ""
             }
            },
            "type": "scatterpolar"
           }
          ],
          "scatterpolargl": [
           {
            "marker": {
             "colorbar": {
              "outlinewidth": 0,
              "ticks": ""
             }
            },
            "type": "scatterpolargl"
           }
          ],
          "scatterternary": [
           {
            "marker": {
             "colorbar": {
              "outlinewidth": 0,
              "ticks": ""
             }
            },
            "type": "scatterternary"
           }
          ],
          "surface": [
           {
            "colorbar": {
             "outlinewidth": 0,
             "ticks": ""
            },
            "colorscale": [
             [
              0,
              "#0d0887"
             ],
             [
              0.1111111111111111,
              "#46039f"
             ],
             [
              0.2222222222222222,
              "#7201a8"
             ],
             [
              0.3333333333333333,
              "#9c179e"
             ],
             [
              0.4444444444444444,
              "#bd3786"
             ],
             [
              0.5555555555555556,
              "#d8576b"
             ],
             [
              0.6666666666666666,
              "#ed7953"
             ],
             [
              0.7777777777777778,
              "#fb9f3a"
             ],
             [
              0.8888888888888888,
              "#fdca26"
             ],
             [
              1,
              "#f0f921"
             ]
            ],
            "type": "surface"
           }
          ],
          "table": [
           {
            "cells": {
             "fill": {
              "color": "#EBF0F8"
             },
             "line": {
              "color": "white"
             }
            },
            "header": {
             "fill": {
              "color": "#C8D4E3"
             },
             "line": {
              "color": "white"
             }
            },
            "type": "table"
           }
          ]
         },
         "layout": {
          "annotationdefaults": {
           "arrowcolor": "#2a3f5f",
           "arrowhead": 0,
           "arrowwidth": 1
          },
          "autotypenumbers": "strict",
          "coloraxis": {
           "colorbar": {
            "outlinewidth": 0,
            "ticks": ""
           }
          },
          "colorscale": {
           "diverging": [
            [
             0,
             "#8e0152"
            ],
            [
             0.1,
             "#c51b7d"
            ],
            [
             0.2,
             "#de77ae"
            ],
            [
             0.3,
             "#f1b6da"
            ],
            [
             0.4,
             "#fde0ef"
            ],
            [
             0.5,
             "#f7f7f7"
            ],
            [
             0.6,
             "#e6f5d0"
            ],
            [
             0.7,
             "#b8e186"
            ],
            [
             0.8,
             "#7fbc41"
            ],
            [
             0.9,
             "#4d9221"
            ],
            [
             1,
             "#276419"
            ]
           ],
           "sequential": [
            [
             0,
             "#0d0887"
            ],
            [
             0.1111111111111111,
             "#46039f"
            ],
            [
             0.2222222222222222,
             "#7201a8"
            ],
            [
             0.3333333333333333,
             "#9c179e"
            ],
            [
             0.4444444444444444,
             "#bd3786"
            ],
            [
             0.5555555555555556,
             "#d8576b"
            ],
            [
             0.6666666666666666,
             "#ed7953"
            ],
            [
             0.7777777777777778,
             "#fb9f3a"
            ],
            [
             0.8888888888888888,
             "#fdca26"
            ],
            [
             1,
             "#f0f921"
            ]
           ],
           "sequentialminus": [
            [
             0,
             "#0d0887"
            ],
            [
             0.1111111111111111,
             "#46039f"
            ],
            [
             0.2222222222222222,
             "#7201a8"
            ],
            [
             0.3333333333333333,
             "#9c179e"
            ],
            [
             0.4444444444444444,
             "#bd3786"
            ],
            [
             0.5555555555555556,
             "#d8576b"
            ],
            [
             0.6666666666666666,
             "#ed7953"
            ],
            [
             0.7777777777777778,
             "#fb9f3a"
            ],
            [
             0.8888888888888888,
             "#fdca26"
            ],
            [
             1,
             "#f0f921"
            ]
           ]
          },
          "colorway": [
           "#636efa",
           "#EF553B",
           "#00cc96",
           "#ab63fa",
           "#FFA15A",
           "#19d3f3",
           "#FF6692",
           "#B6E880",
           "#FF97FF",
           "#FECB52"
          ],
          "font": {
           "color": "#2a3f5f"
          },
          "geo": {
           "bgcolor": "white",
           "lakecolor": "white",
           "landcolor": "#E5ECF6",
           "showlakes": true,
           "showland": true,
           "subunitcolor": "white"
          },
          "hoverlabel": {
           "align": "left"
          },
          "hovermode": "closest",
          "mapbox": {
           "style": "light"
          },
          "paper_bgcolor": "white",
          "plot_bgcolor": "#E5ECF6",
          "polar": {
           "angularaxis": {
            "gridcolor": "white",
            "linecolor": "white",
            "ticks": ""
           },
           "bgcolor": "#E5ECF6",
           "radialaxis": {
            "gridcolor": "white",
            "linecolor": "white",
            "ticks": ""
           }
          },
          "scene": {
           "xaxis": {
            "backgroundcolor": "#E5ECF6",
            "gridcolor": "white",
            "gridwidth": 2,
            "linecolor": "white",
            "showbackground": true,
            "ticks": "",
            "zerolinecolor": "white"
           },
           "yaxis": {
            "backgroundcolor": "#E5ECF6",
            "gridcolor": "white",
            "gridwidth": 2,
            "linecolor": "white",
            "showbackground": true,
            "ticks": "",
            "zerolinecolor": "white"
           },
           "zaxis": {
            "backgroundcolor": "#E5ECF6",
            "gridcolor": "white",
            "gridwidth": 2,
            "linecolor": "white",
            "showbackground": true,
            "ticks": "",
            "zerolinecolor": "white"
           }
          },
          "shapedefaults": {
           "line": {
            "color": "#2a3f5f"
           }
          },
          "ternary": {
           "aaxis": {
            "gridcolor": "white",
            "linecolor": "white",
            "ticks": ""
           },
           "baxis": {
            "gridcolor": "white",
            "linecolor": "white",
            "ticks": ""
           },
           "bgcolor": "#E5ECF6",
           "caxis": {
            "gridcolor": "white",
            "linecolor": "white",
            "ticks": ""
           }
          },
          "title": {
           "x": 0.05
          },
          "xaxis": {
           "automargin": true,
           "gridcolor": "white",
           "linecolor": "white",
           "ticks": "",
           "title": {
            "standoff": 15
           },
           "zerolinecolor": "white",
           "zerolinewidth": 2
          },
          "yaxis": {
           "automargin": true,
           "gridcolor": "white",
           "linecolor": "white",
           "ticks": "",
           "title": {
            "standoff": 15
           },
           "zerolinecolor": "white",
           "zerolinewidth": 2
          }
         }
        },
        "title": {
         "text": "Optimization History Plot"
        },
        "xaxis": {
         "title": {
          "text": "Trial"
         }
        },
        "yaxis": {
         "title": {
          "text": "Objective Value"
         }
        }
       }
      }
     },
     "metadata": {},
     "output_type": "display_data"
    },
    {
     "name": "stdout",
     "output_type": "stream",
     "text": [
      "Best parameters for ridge regression {'alpha': 0.9268712097085662, 'solver': 'auto'}\n",
      "Best MAPE score for ridge regression training: 0.1418888431748499\n",
      "MAPE for ridge regression testing: 0.14336557112405884\n"
     ]
    },
    {
     "data": {
      "image/png": "[encoded data removed]",
      "text/plain": [
       "<Figure size 576x432 with 1 Axes>"
      ]
     },
     "metadata": {
      "needs_background": "light"
     },
     "output_type": "display_data"
    },
    {
     "data": {
      "image/png": "[encoded data removed]",
      "text/plain": [
       "<Figure size 432x288 with 1 Axes>"
      ]
     },
     "metadata": {
      "needs_background": "light"
     },
     "output_type": "display_data"
    }
   ],
   "source": [
    "import warnings\n",
    "import optuna\n",
    "from optuna.visualization import plot_optimization_history\n",
    "import plotly.io as pio\n",
    "import numpy as np\n",
    "from sklearn.linear_model import Ridge\n",
    "\n",
    "# Ignore all warnings\n",
    "warnings.filterwarnings(\"ignore\")\n",
    "\n",
    "def ridge_regression(df, X_train, X_test, y_train, y_test):\n",
    "\n",
    "    def objective(trial):\n",
    "        param = {\n",
    "            'alpha' : trial.suggest_loguniform('alpha', 1e-5, 10.0),\n",
    "            'solver' : trial.suggest_categorical('solver', ['auto', 'svd', 'cholesky', 'lsqr', 'sag', 'saga'])\n",
    "        }\n",
    "        model = Ridge(**param)\n",
    "        scores = cross_val_score(model, X_train, y_train, \n",
    "                                 cv=KFold(n_splits=5,\n",
    "                                          shuffle=True,\n",
    "                                          random_state=42),\n",
    "                                 scoring='neg_mean_absolute_percentage_error'\n",
    "                                ) # Train set is split into 3 folds, the model is trained on 2 folds and evaluated on the remaining fold. This is repeated 3 times, and the average of the 3 scores is returned.\n",
    "        # Return the mean of 3 scores\n",
    "        return scores.mean()\n",
    "    \n",
    "    study = optuna.create_study(direction='maximize', study_name='RidgeRegression')\n",
    "    study.optimize(objective, n_trials=50) # n_trials is the number of trials to run, each run is evaluated by cross validation score\n",
    "    fig = plot_optimization_history(study)\n",
    "    pio.show(fig)\n",
    "    \n",
    "    print('Best parameters for ridge regression', study.best_params)\n",
    "    print('Best MAPE score for ridge regression training:', -1*study.best_value)\n",
    "    \n",
    "    model = Ridge(**study.best_params)\n",
    "    model.fit(X_train, y_train)\n",
    "   \n",
    "    y_pred = model.predict(X_test)\n",
    "    mape = mean_absolute_percentage_error(y_test, y_pred)\n",
    "    print(\"MAPE for ridge regression testing:\", mape)\n",
    "\n",
    "    return model\n",
    "\n",
    "model = ridge_regression(df, X_train, X_test, y_train, y_test)\n",
    "df['Prediction_RidgeReg'] = model.predict(mmscaler.transform(df[features]))\n",
    "regression_report(model, X_train, X_test, y_test, df)\n"
   ]
  },
  {
   "attachments": {},
   "cell_type": "markdown",
   "metadata": {},
   "source": [
    "### Lasso Regression"
   ]
  },
  {
   "cell_type": "code",
   "execution_count": 40,
   "metadata": {},
   "outputs": [
    {
     "name": "stderr",
     "output_type": "stream",
     "text": [
      "\u001b[32m[I 2023-06-28 14:14:23,324]\u001b[0m A new study created in memory with name: LassoRegression\u001b[0m\n",
      "\u001b[32m[I 2023-06-28 14:14:23,350]\u001b[0m Trial 0 finished with value: -0.1454225665547379 and parameters: {'alpha': 0.024493021527068667, 'selection': 'random'}. Best is trial 0 with value: -0.1454225665547379.\u001b[0m\n",
      "\u001b[32m[I 2023-06-28 14:14:23,377]\u001b[0m Trial 1 finished with value: -0.142079255500463 and parameters: {'alpha': 0.000962939084880395, 'selection': 'random'}. Best is trial 1 with value: -0.142079255500463.\u001b[0m\n",
      "\u001b[32m[I 2023-06-28 14:14:23,404]\u001b[0m Trial 2 finished with value: -0.14274434945567255 and parameters: {'alpha': 0.00030681402760092245, 'selection': 'random'}. Best is trial 1 with value: -0.142079255500463.\u001b[0m\n",
      "\u001b[32m[I 2023-06-28 14:14:23,426]\u001b[0m Trial 3 finished with value: -0.16856463492675877 and parameters: {'alpha': 2.0227224883263037, 'selection': 'cyclic'}. Best is trial 1 with value: -0.142079255500463.\u001b[0m\n",
      "\u001b[32m[I 2023-06-28 14:14:23,458]\u001b[0m Trial 4 finished with value: -0.16856463492675877 and parameters: {'alpha': 0.8124616287966228, 'selection': 'cyclic'}. Best is trial 1 with value: -0.142079255500463.\u001b[0m\n",
      "\u001b[32m[I 2023-06-28 14:14:23,489]\u001b[0m Trial 5 finished with value: -0.16690892915344438 and parameters: {'alpha': 0.09856306361085265, 'selection': 'cyclic'}. Best is trial 1 with value: -0.142079255500463.\u001b[0m\n",
      "\u001b[32m[I 2023-06-28 14:14:23,513]\u001b[0m Trial 6 finished with value: -0.16856463492675877 and parameters: {'alpha': 0.24789910410245683, 'selection': 'random'}. Best is trial 1 with value: -0.142079255500463.\u001b[0m\n",
      "\u001b[32m[I 2023-06-28 14:14:23,551]\u001b[0m Trial 7 finished with value: -0.14121395537554443 and parameters: {'alpha': 0.0020204045671773367, 'selection': 'random'}. Best is trial 7 with value: -0.14121395537554443.\u001b[0m\n",
      "\u001b[32m[I 2023-06-28 14:14:23,588]\u001b[0m Trial 8 finished with value: -0.16856463492675877 and parameters: {'alpha': 1.9210773860857457, 'selection': 'random'}. Best is trial 7 with value: -0.14121395537554443.\u001b[0m\n",
      "\u001b[32m[I 2023-06-28 14:14:23,612]\u001b[0m Trial 9 finished with value: -0.16856463492675877 and parameters: {'alpha': 1.9537576804437424, 'selection': 'random'}. Best is trial 7 with value: -0.14121395537554443.\u001b[0m\n",
      "\u001b[32m[I 2023-06-28 14:14:23,643]\u001b[0m Trial 10 finished with value: -0.14291631733418897 and parameters: {'alpha': 1.3889785006959205e-05, 'selection': 'cyclic'}. Best is trial 7 with value: -0.14121395537554443.\u001b[0m\n",
      "\u001b[32m[I 2023-06-28 14:14:23,667]\u001b[0m Trial 11 finished with value: -0.1412250951120178 and parameters: {'alpha': 0.001985148502323027, 'selection': 'random'}. Best is trial 7 with value: -0.14121395537554443.\u001b[0m\n",
      "\u001b[32m[I 2023-06-28 14:14:23,691]\u001b[0m Trial 12 finished with value: -0.14067299305257594 and parameters: {'alpha': 0.00339279610673403, 'selection': 'random'}. Best is trial 12 with value: -0.14067299305257594.\u001b[0m\n",
      "\u001b[32m[I 2023-06-28 14:14:23,716]\u001b[0m Trial 13 finished with value: -0.14063293418403383 and parameters: {'alpha': 0.007784552707552805, 'selection': 'random'}. Best is trial 13 with value: -0.14063293418403383.\u001b[0m\n",
      "\u001b[32m[I 2023-06-28 14:14:23,740]\u001b[0m Trial 14 finished with value: -0.14508939313799368 and parameters: {'alpha': 0.02338057831194847, 'selection': 'random'}. Best is trial 13 with value: -0.14063293418403383.\u001b[0m\n",
      "\u001b[32m[I 2023-06-28 14:14:23,766]\u001b[0m Trial 15 finished with value: -0.1419862961014969 and parameters: {'alpha': 0.012895303147014628, 'selection': 'random'}. Best is trial 13 with value: -0.14063293418403383.\u001b[0m\n",
      "\u001b[32m[I 2023-06-28 14:14:23,797]\u001b[0m Trial 16 finished with value: -0.16691808957165452 and parameters: {'alpha': 0.0986378108164775, 'selection': 'random'}. Best is trial 13 with value: -0.14063293418403383.\u001b[0m\n",
      "\u001b[32m[I 2023-06-28 14:14:23,819]\u001b[0m Trial 17 finished with value: -0.16856463492675877 and parameters: {'alpha': 8.733125151792365, 'selection': 'random'}. Best is trial 13 with value: -0.14063293418403383.\u001b[0m\n",
      "\u001b[32m[I 2023-06-28 14:14:23,844]\u001b[0m Trial 18 finished with value: -0.14045822531086638 and parameters: {'alpha': 0.0063826784849190825, 'selection': 'cyclic'}. Best is trial 18 with value: -0.14045822531086638.\u001b[0m\n",
      "\u001b[32m[I 2023-06-28 14:14:23,873]\u001b[0m Trial 19 finished with value: -0.1425431002248191 and parameters: {'alpha': 0.0004064379592459417, 'selection': 'cyclic'}. Best is trial 18 with value: -0.14045822531086638.\u001b[0m\n",
      "\u001b[32m[I 2023-06-28 14:14:23,900]\u001b[0m Trial 20 finished with value: -0.14054068520361582 and parameters: {'alpha': 0.007212204757482557, 'selection': 'cyclic'}. Best is trial 18 with value: -0.14045822531086638.\u001b[0m\n",
      "\u001b[32m[I 2023-06-28 14:14:23,928]\u001b[0m Trial 21 finished with value: -0.14054104548203666 and parameters: {'alpha': 0.0072149379951265925, 'selection': 'cyclic'}. Best is trial 18 with value: -0.14045822531086638.\u001b[0m\n",
      "\u001b[32m[I 2023-06-28 14:14:23,957]\u001b[0m Trial 22 finished with value: -0.1405844140065965 and parameters: {'alpha': 0.007530993370194403, 'selection': 'cyclic'}. Best is trial 18 with value: -0.14045822531086638.\u001b[0m\n",
      "\u001b[32m[I 2023-06-28 14:14:23,988]\u001b[0m Trial 23 finished with value: -0.16015419502211548 and parameters: {'alpha': 0.06132848065963921, 'selection': 'cyclic'}. Best is trial 18 with value: -0.14045822531086638.\u001b[0m\n",
      "\u001b[32m[I 2023-06-28 14:14:24,014]\u001b[0m Trial 24 finished with value: -0.14043518751649828 and parameters: {'alpha': 0.005306089262551071, 'selection': 'cyclic'}. Best is trial 24 with value: -0.14043518751649828.\u001b[0m\n",
      "\u001b[32m[I 2023-06-28 14:14:24,044]\u001b[0m Trial 25 finished with value: -0.14794594164151134 and parameters: {'alpha': 0.03231934937195246, 'selection': 'cyclic'}. Best is trial 24 with value: -0.14043518751649828.\u001b[0m\n",
      "\u001b[32m[I 2023-06-28 14:14:24,073]\u001b[0m Trial 26 finished with value: -0.1405855620280861 and parameters: {'alpha': 0.003789146286879082, 'selection': 'cyclic'}. Best is trial 24 with value: -0.14043518751649828.\u001b[0m\n",
      "\u001b[32m[I 2023-06-28 14:14:24,096]\u001b[0m Trial 27 finished with value: -0.14221669184069938 and parameters: {'alpha': 0.0007477147265590843, 'selection': 'cyclic'}. Best is trial 24 with value: -0.14043518751649828.\u001b[0m\n",
      "\u001b[32m[I 2023-06-28 14:14:24,124]\u001b[0m Trial 28 finished with value: -0.1427660034407877 and parameters: {'alpha': 0.0001656870767917398, 'selection': 'cyclic'}. Best is trial 24 with value: -0.14043518751649828.\u001b[0m\n",
      "\u001b[32m[I 2023-06-28 14:14:24,152]\u001b[0m Trial 29 finished with value: -0.1492189215426456 and parameters: {'alpha': 0.035997001946066115, 'selection': 'cyclic'}. Best is trial 24 with value: -0.14043518751649828.\u001b[0m\n",
      "\u001b[32m[I 2023-06-28 14:14:24,178]\u001b[0m Trial 30 finished with value: -0.14163580371473974 and parameters: {'alpha': 0.011522596635556768, 'selection': 'cyclic'}. Best is trial 24 with value: -0.14043518751649828.\u001b[0m\n",
      "\u001b[32m[I 2023-06-28 14:14:24,203]\u001b[0m Trial 31 finished with value: -0.1404869727035068 and parameters: {'alpha': 0.006801830610434993, 'selection': 'cyclic'}. Best is trial 24 with value: -0.14043518751649828.\u001b[0m\n",
      "\u001b[32m[I 2023-06-28 14:14:24,224]\u001b[0m Trial 32 finished with value: -0.14375321248435236 and parameters: {'alpha': 0.01890315292327034, 'selection': 'cyclic'}. Best is trial 24 with value: -0.14043518751649828.\u001b[0m\n",
      "\u001b[32m[I 2023-06-28 14:14:24,248]\u001b[0m Trial 33 finished with value: -0.14057409796712123 and parameters: {'alpha': 0.0038425483994517836, 'selection': 'cyclic'}. Best is trial 24 with value: -0.14043518751649828.\u001b[0m\n",
      "\u001b[32m[I 2023-06-28 14:14:24,275]\u001b[0m Trial 34 finished with value: -0.1417100817787389 and parameters: {'alpha': 0.0013181954427644437, 'selection': 'cyclic'}. Best is trial 24 with value: -0.14043518751649828.\u001b[0m\n",
      "\u001b[32m[I 2023-06-28 14:14:24,298]\u001b[0m Trial 35 finished with value: -0.1427650959927838 and parameters: {'alpha': 0.015662244121064373, 'selection': 'cyclic'}. Best is trial 24 with value: -0.14043518751649828.\u001b[0m\n",
      "\u001b[32m[I 2023-06-28 14:14:24,324]\u001b[0m Trial 36 finished with value: -0.140491658043827 and parameters: {'alpha': 0.004455369262853907, 'selection': 'cyclic'}. Best is trial 24 with value: -0.14043518751649828.\u001b[0m\n",
      "\u001b[32m[I 2023-06-28 14:14:24,347]\u001b[0m Trial 37 finished with value: -0.14222294174269737 and parameters: {'alpha': 0.0007415004808621607, 'selection': 'cyclic'}. Best is trial 24 with value: -0.14043518751649828.\u001b[0m\n",
      "\u001b[32m[I 2023-06-28 14:14:24,372]\u001b[0m Trial 38 finished with value: -0.14068539560712529 and parameters: {'alpha': 0.003339445198136749, 'selection': 'cyclic'}. Best is trial 24 with value: -0.14043518751649828.\u001b[0m\n",
      "\u001b[32m[I 2023-06-28 14:14:24,397]\u001b[0m Trial 39 finished with value: -0.1572800476020722 and parameters: {'alpha': 0.05476169769549829, 'selection': 'cyclic'}. Best is trial 24 with value: -0.14043518751649828.\u001b[0m\n",
      "\u001b[32m[I 2023-06-28 14:14:24,429]\u001b[0m Trial 40 finished with value: -0.16856463492675877 and parameters: {'alpha': 0.21696509228943756, 'selection': 'cyclic'}. Best is trial 24 with value: -0.14043518751649828.\u001b[0m\n",
      "\u001b[32m[I 2023-06-28 14:14:24,456]\u001b[0m Trial 41 finished with value: -0.14055013780228773 and parameters: {'alpha': 0.007284821709104641, 'selection': 'cyclic'}. Best is trial 24 with value: -0.14043518751649828.\u001b[0m\n",
      "\u001b[32m[I 2023-06-28 14:14:24,483]\u001b[0m Trial 42 finished with value: -0.14043931633355794 and parameters: {'alpha': 0.005228270022023386, 'selection': 'cyclic'}. Best is trial 24 with value: -0.14043518751649828.\u001b[0m\n",
      "\u001b[32m[I 2023-06-28 14:14:24,508]\u001b[0m Trial 43 finished with value: -0.14143194869892306 and parameters: {'alpha': 0.0016821968716590995, 'selection': 'cyclic'}. Best is trial 24 with value: -0.14043518751649828.\u001b[0m\n",
      "\u001b[32m[I 2023-06-28 14:14:24,536]\u001b[0m Trial 44 finished with value: -0.14328454691419576 and parameters: {'alpha': 0.017365290553356377, 'selection': 'cyclic'}. Best is trial 24 with value: -0.14043518751649828.\u001b[0m\n",
      "\u001b[32m[I 2023-06-28 14:14:24,595]\u001b[0m Trial 45 finished with value: -0.14104549991324747 and parameters: {'alpha': 0.002453632244197363, 'selection': 'cyclic'}. Best is trial 24 with value: -0.14043518751649828.\u001b[0m\n",
      "\u001b[32m[I 2023-06-28 14:14:24,627]\u001b[0m Trial 46 finished with value: -0.14184373983581816 and parameters: {'alpha': 0.0011518336402083155, 'selection': 'cyclic'}. Best is trial 24 with value: -0.14043518751649828.\u001b[0m\n",
      "\u001b[32m[I 2023-06-28 14:14:24,648]\u001b[0m Trial 47 finished with value: -0.14042910162353406 and parameters: {'alpha': 0.005410816954766625, 'selection': 'cyclic'}. Best is trial 47 with value: -0.14042910162353406.\u001b[0m\n",
      "\u001b[32m[I 2023-06-28 14:14:24,671]\u001b[0m Trial 48 finished with value: -0.14547813124480308 and parameters: {'alpha': 0.024679036666755534, 'selection': 'cyclic'}. Best is trial 47 with value: -0.14042910162353406.\u001b[0m\n",
      "\u001b[32m[I 2023-06-28 14:14:24,695]\u001b[0m Trial 49 finished with value: -0.14179098817389138 and parameters: {'alpha': 0.012091554134351286, 'selection': 'cyclic'}. Best is trial 47 with value: -0.14042910162353406.\u001b[0m\n"
     ]
    },
    {
     "name": "stdout",
     "output_type": "stream",
     "text": [
      "Best parameters for lasso regression {'alpha': 0.005410816954766625, 'selection': 'cyclic'}\n",
      "Best MAPE score for lasso regression training: 0.14042910162353406\n"
     ]
    },
    {
     "data": {
      "application/vnd.plotly.v1+json": {
       "config": {
        "plotlyServerURL": "https://plot.ly"
       },
       "data": [
        {
         "mode": "markers",
         "name": "Objective Value",
         "type": "scatter",
         "x": [
          0,
          1,
          2,
          3,
          4,
          5,
          6,
          7,
          8,
          9,
          10,
          11,
          12,
          13,
          14,
          15,
          16,
          17,
          18,
          19,
          20,
          21,
          22,
          23,
          24,
          25,
          26,
          27,
          28,
          29,
          30,
          31,
          32,
          33,
          34,
          35,
          36,
          37,
          38,
          39,
          40,
          41,
          42,
          43,
          44,
          45,
          46,
          47,
          48,
          49
         ],
         "y": [
          -0.1454225665547379,
          -0.142079255500463,
          -0.14274434945567255,
          -0.16856463492675877,
          -0.16856463492675877,
          -0.16690892915344438,
          -0.16856463492675877,
          -0.14121395537554443,
          -0.16856463492675877,
          -0.16856463492675877,
          -0.14291631733418897,
          -0.1412250951120178,
          -0.14067299305257594,
          -0.14063293418403383,
          -0.14508939313799368,
          -0.1419862961014969,
          -0.16691808957165452,
          -0.16856463492675877,
          -0.14045822531086638,
          -0.1425431002248191,
          -0.14054068520361582,
          -0.14054104548203666,
          -0.1405844140065965,
          -0.16015419502211548,
          -0.14043518751649828,
          -0.14794594164151134,
          -0.1405855620280861,
          -0.14221669184069938,
          -0.1427660034407877,
          -0.1492189215426456,
          -0.14163580371473974,
          -0.1404869727035068,
          -0.14375321248435236,
          -0.14057409796712123,
          -0.1417100817787389,
          -0.1427650959927838,
          -0.140491658043827,
          -0.14222294174269737,
          -0.14068539560712529,
          -0.1572800476020722,
          -0.16856463492675877,
          -0.14055013780228773,
          -0.14043931633355794,
          -0.14143194869892306,
          -0.14328454691419576,
          -0.14104549991324747,
          -0.14184373983581816,
          -0.14042910162353406,
          -0.14547813124480308,
          -0.14179098817389138
         ]
        },
        {
         "name": "Best Value",
         "type": "scatter",
         "x": [
          0,
          1,
          2,
          3,
          4,
          5,
          6,
          7,
          8,
          9,
          10,
          11,
          12,
          13,
          14,
          15,
          16,
          17,
          18,
          19,
          20,
          21,
          22,
          23,
          24,
          25,
          26,
          27,
          28,
          29,
          30,
          31,
          32,
          33,
          34,
          35,
          36,
          37,
          38,
          39,
          40,
          41,
          42,
          43,
          44,
          45,
          46,
          47,
          48,
          49
         ],
         "y": [
          -0.1454225665547379,
          -0.142079255500463,
          -0.142079255500463,
          -0.142079255500463,
          -0.142079255500463,
          -0.142079255500463,
          -0.142079255500463,
          -0.14121395537554443,
          -0.14121395537554443,
          -0.14121395537554443,
          -0.14121395537554443,
          -0.14121395537554443,
          -0.14067299305257594,
          -0.14063293418403383,
          -0.14063293418403383,
          -0.14063293418403383,
          -0.14063293418403383,
          -0.14063293418403383,
          -0.14045822531086638,
          -0.14045822531086638,
          -0.14045822531086638,
          -0.14045822531086638,
          -0.14045822531086638,
          -0.14045822531086638,
          -0.14043518751649828,
          -0.14043518751649828,
          -0.14043518751649828,
          -0.14043518751649828,
          -0.14043518751649828,
          -0.14043518751649828,
          -0.14043518751649828,
          -0.14043518751649828,
          -0.14043518751649828,
          -0.14043518751649828,
          -0.14043518751649828,
          -0.14043518751649828,
          -0.14043518751649828,
          -0.14043518751649828,
          -0.14043518751649828,
          -0.14043518751649828,
          -0.14043518751649828,
          -0.14043518751649828,
          -0.14043518751649828,
          -0.14043518751649828,
          -0.14043518751649828,
          -0.14043518751649828,
          -0.14043518751649828,
          -0.14042910162353406,
          -0.14042910162353406,
          -0.14042910162353406
         ]
        }
       ],
       "layout": {
        "template": {
         "data": {
          "bar": [
           {
            "error_x": {
             "color": "#2a3f5f"
            },
            "error_y": {
             "color": "#2a3f5f"
            },
            "marker": {
             "line": {
              "color": "#E5ECF6",
              "width": 0.5
             },
             "pattern": {
              "fillmode": "overlay",
              "size": 10,
              "solidity": 0.2
             }
            },
            "type": "bar"
           }
          ],
          "barpolar": [
           {
            "marker": {
             "line": {
              "color": "#E5ECF6",
              "width": 0.5
             },
             "pattern": {
              "fillmode": "overlay",
              "size": 10,
              "solidity": 0.2
             }
            },
            "type": "barpolar"
           }
          ],
          "carpet": [
           {
            "aaxis": {
             "endlinecolor": "#2a3f5f",
             "gridcolor": "white",
             "linecolor": "white",
             "minorgridcolor": "white",
             "startlinecolor": "#2a3f5f"
            },
            "baxis": {
             "endlinecolor": "#2a3f5f",
             "gridcolor": "white",
             "linecolor": "white",
             "minorgridcolor": "white",
             "startlinecolor": "#2a3f5f"
            },
            "type": "carpet"
           }
          ],
          "choropleth": [
           {
            "colorbar": {
             "outlinewidth": 0,
             "ticks": ""
            },
            "type": "choropleth"
           }
          ],
          "contour": [
           {
            "colorbar": {
             "outlinewidth": 0,
             "ticks": ""
            },
            "colorscale": [
             [
              0,
              "#0d0887"
             ],
             [
              0.1111111111111111,
              "#46039f"
             ],
             [
              0.2222222222222222,
              "#7201a8"
             ],
             [
              0.3333333333333333,
              "#9c179e"
             ],
             [
              0.4444444444444444,
              "#bd3786"
             ],
             [
              0.5555555555555556,
              "#d8576b"
             ],
             [
              0.6666666666666666,
              "#ed7953"
             ],
             [
              0.7777777777777778,
              "#fb9f3a"
             ],
             [
              0.8888888888888888,
              "#fdca26"
             ],
             [
              1,
              "#f0f921"
             ]
            ],
            "type": "contour"
           }
          ],
          "contourcarpet": [
           {
            "colorbar": {
             "outlinewidth": 0,
             "ticks": ""
            },
            "type": "contourcarpet"
           }
          ],
          "heatmap": [
           {
            "colorbar": {
             "outlinewidth": 0,
             "ticks": ""
            },
            "colorscale": [
             [
              0,
              "#0d0887"
             ],
             [
              0.1111111111111111,
              "#46039f"
             ],
             [
              0.2222222222222222,
              "#7201a8"
             ],
             [
              0.3333333333333333,
              "#9c179e"
             ],
             [
              0.4444444444444444,
              "#bd3786"
             ],
             [
              0.5555555555555556,
              "#d8576b"
             ],
             [
              0.6666666666666666,
              "#ed7953"
             ],
             [
              0.7777777777777778,
              "#fb9f3a"
             ],
             [
              0.8888888888888888,
              "#fdca26"
             ],
             [
              1,
              "#f0f921"
             ]
            ],
            "type": "heatmap"
           }
          ],
          "heatmapgl": [
           {
            "colorbar": {
             "outlinewidth": 0,
             "ticks": ""
            },
            "colorscale": [
             [
              0,
              "#0d0887"
             ],
             [
              0.1111111111111111,
              "#46039f"
             ],
             [
              0.2222222222222222,
              "#7201a8"
             ],
             [
              0.3333333333333333,
              "#9c179e"
             ],
             [
              0.4444444444444444,
              "#bd3786"
             ],
             [
              0.5555555555555556,
              "#d8576b"
             ],
             [
              0.6666666666666666,
              "#ed7953"
             ],
             [
              0.7777777777777778,
              "#fb9f3a"
             ],
             [
              0.8888888888888888,
              "#fdca26"
             ],
             [
              1,
              "#f0f921"
             ]
            ],
            "type": "heatmapgl"
           }
          ],
          "histogram": [
           {
            "marker": {
             "pattern": {
              "fillmode": "overlay",
              "size": 10,
              "solidity": 0.2
             }
            },
            "type": "histogram"
           }
          ],
          "histogram2d": [
           {
            "colorbar": {
             "outlinewidth": 0,
             "ticks": ""
            },
            "colorscale": [
             [
              0,
              "#0d0887"
             ],
             [
              0.1111111111111111,
              "#46039f"
             ],
             [
              0.2222222222222222,
              "#7201a8"
             ],
             [
              0.3333333333333333,
              "#9c179e"
             ],
             [
              0.4444444444444444,
              "#bd3786"
             ],
             [
              0.5555555555555556,
              "#d8576b"
             ],
             [
              0.6666666666666666,
              "#ed7953"
             ],
             [
              0.7777777777777778,
              "#fb9f3a"
             ],
             [
              0.8888888888888888,
              "#fdca26"
             ],
             [
              1,
              "#f0f921"
             ]
            ],
            "type": "histogram2d"
           }
          ],
          "histogram2dcontour": [
           {
            "colorbar": {
             "outlinewidth": 0,
             "ticks": ""
            },
            "colorscale": [
             [
              0,
              "#0d0887"
             ],
             [
              0.1111111111111111,
              "#46039f"
             ],
             [
              0.2222222222222222,
              "#7201a8"
             ],
             [
              0.3333333333333333,
              "#9c179e"
             ],
             [
              0.4444444444444444,
              "#bd3786"
             ],
             [
              0.5555555555555556,
              "#d8576b"
             ],
             [
              0.6666666666666666,
              "#ed7953"
             ],
             [
              0.7777777777777778,
              "#fb9f3a"
             ],
             [
              0.8888888888888888,
              "#fdca26"
             ],
             [
              1,
              "#f0f921"
             ]
            ],
            "type": "histogram2dcontour"
           }
          ],
          "mesh3d": [
           {
            "colorbar": {
             "outlinewidth": 0,
             "ticks": ""
            },
            "type": "mesh3d"
           }
          ],
          "parcoords": [
           {
            "line": {
             "colorbar": {
              "outlinewidth": 0,
              "ticks": ""
             }
            },
            "type": "parcoords"
           }
          ],
          "pie": [
           {
            "automargin": true,
            "type": "pie"
           }
          ],
          "scatter": [
           {
            "fillpattern": {
             "fillmode": "overlay",
             "size": 10,
             "solidity": 0.2
            },
            "type": "scatter"
           }
          ],
          "scatter3d": [
           {
            "line": {
             "colorbar": {
              "outlinewidth": 0,
              "ticks": ""
             }
            },
            "marker": {
             "colorbar": {
              "outlinewidth": 0,
              "ticks": ""
             }
            },
            "type": "scatter3d"
           }
          ],
          "scattercarpet": [
           {
            "marker": {
             "colorbar": {
              "outlinewidth": 0,
              "ticks": ""
             }
            },
            "type": "scattercarpet"
           }
          ],
          "scattergeo": [
           {
            "marker": {
             "colorbar": {
              "outlinewidth": 0,
              "ticks": ""
             }
            },
            "type": "scattergeo"
           }
          ],
          "scattergl": [
           {
            "marker": {
             "colorbar": {
              "outlinewidth": 0,
              "ticks": ""
             }
            },
            "type": "scattergl"
           }
          ],
          "scattermapbox": [
           {
            "marker": {
             "colorbar": {
              "outlinewidth": 0,
              "ticks": ""
             }
            },
            "type": "scattermapbox"
           }
          ],
          "scatterpolar": [
           {
            "marker": {
             "colorbar": {
              "outlinewidth": 0,
              "ticks": ""
             }
            },
            "type": "scatterpolar"
           }
          ],
          "scatterpolargl": [
           {
            "marker": {
             "colorbar": {
              "outlinewidth": 0,
              "ticks": ""
             }
            },
            "type": "scatterpolargl"
           }
          ],
          "scatterternary": [
           {
            "marker": {
             "colorbar": {
              "outlinewidth": 0,
              "ticks": ""
             }
            },
            "type": "scatterternary"
           }
          ],
          "surface": [
           {
            "colorbar": {
             "outlinewidth": 0,
             "ticks": ""
            },
            "colorscale": [
             [
              0,
              "#0d0887"
             ],
             [
              0.1111111111111111,
              "#46039f"
             ],
             [
              0.2222222222222222,
              "#7201a8"
             ],
             [
              0.3333333333333333,
              "#9c179e"
             ],
             [
              0.4444444444444444,
              "#bd3786"
             ],
             [
              0.5555555555555556,
              "#d8576b"
             ],
             [
              0.6666666666666666,
              "#ed7953"
             ],
             [
              0.7777777777777778,
              "#fb9f3a"
             ],
             [
              0.8888888888888888,
              "#fdca26"
             ],
             [
              1,
              "#f0f921"
             ]
            ],
            "type": "surface"
           }
          ],
          "table": [
           {
            "cells": {
             "fill": {
              "color": "#EBF0F8"
             },
             "line": {
              "color": "white"
             }
            },
            "header": {
             "fill": {
              "color": "#C8D4E3"
             },
             "line": {
              "color": "white"
             }
            },
            "type": "table"
           }
          ]
         },
         "layout": {
          "annotationdefaults": {
           "arrowcolor": "#2a3f5f",
           "arrowhead": 0,
           "arrowwidth": 1
          },
          "autotypenumbers": "strict",
          "coloraxis": {
           "colorbar": {
            "outlinewidth": 0,
            "ticks": ""
           }
          },
          "colorscale": {
           "diverging": [
            [
             0,
             "#8e0152"
            ],
            [
             0.1,
             "#c51b7d"
            ],
            [
             0.2,
             "#de77ae"
            ],
            [
             0.3,
             "#f1b6da"
            ],
            [
             0.4,
             "#fde0ef"
            ],
            [
             0.5,
             "#f7f7f7"
            ],
            [
             0.6,
             "#e6f5d0"
            ],
            [
             0.7,
             "#b8e186"
            ],
            [
             0.8,
             "#7fbc41"
            ],
            [
             0.9,
             "#4d9221"
            ],
            [
             1,
             "#276419"
            ]
           ],
           "sequential": [
            [
             0,
             "#0d0887"
            ],
            [
             0.1111111111111111,
             "#46039f"
            ],
            [
             0.2222222222222222,
             "#7201a8"
            ],
            [
             0.3333333333333333,
             "#9c179e"
            ],
            [
             0.4444444444444444,
             "#bd3786"
            ],
            [
             0.5555555555555556,
             "#d8576b"
            ],
            [
             0.6666666666666666,
             "#ed7953"
            ],
            [
             0.7777777777777778,
             "#fb9f3a"
            ],
            [
             0.8888888888888888,
             "#fdca26"
            ],
            [
             1,
             "#f0f921"
            ]
           ],
           "sequentialminus": [
            [
             0,
             "#0d0887"
            ],
            [
             0.1111111111111111,
             "#46039f"
            ],
            [
             0.2222222222222222,
             "#7201a8"
            ],
            [
             0.3333333333333333,
             "#9c179e"
            ],
            [
             0.4444444444444444,
             "#bd3786"
            ],
            [
             0.5555555555555556,
             "#d8576b"
            ],
            [
             0.6666666666666666,
             "#ed7953"
            ],
            [
             0.7777777777777778,
             "#fb9f3a"
            ],
            [
             0.8888888888888888,
             "#fdca26"
            ],
            [
             1,
             "#f0f921"
            ]
           ]
          },
          "colorway": [
           "#636efa",
           "#EF553B",
           "#00cc96",
           "#ab63fa",
           "#FFA15A",
           "#19d3f3",
           "#FF6692",
           "#B6E880",
           "#FF97FF",
           "#FECB52"
          ],
          "font": {
           "color": "#2a3f5f"
          },
          "geo": {
           "bgcolor": "white",
           "lakecolor": "white",
           "landcolor": "#E5ECF6",
           "showlakes": true,
           "showland": true,
           "subunitcolor": "white"
          },
          "hoverlabel": {
           "align": "left"
          },
          "hovermode": "closest",
          "mapbox": {
           "style": "light"
          },
          "paper_bgcolor": "white",
          "plot_bgcolor": "#E5ECF6",
          "polar": {
           "angularaxis": {
            "gridcolor": "white",
            "linecolor": "white",
            "ticks": ""
           },
           "bgcolor": "#E5ECF6",
           "radialaxis": {
            "gridcolor": "white",
            "linecolor": "white",
            "ticks": ""
           }
          },
          "scene": {
           "xaxis": {
            "backgroundcolor": "#E5ECF6",
            "gridcolor": "white",
            "gridwidth": 2,
            "linecolor": "white",
            "showbackground": true,
            "ticks": "",
            "zerolinecolor": "white"
           },
           "yaxis": {
            "backgroundcolor": "#E5ECF6",
            "gridcolor": "white",
            "gridwidth": 2,
            "linecolor": "white",
            "showbackground": true,
            "ticks": "",
            "zerolinecolor": "white"
           },
           "zaxis": {
            "backgroundcolor": "#E5ECF6",
            "gridcolor": "white",
            "gridwidth": 2,
            "linecolor": "white",
            "showbackground": true,
            "ticks": "",
            "zerolinecolor": "white"
           }
          },
          "shapedefaults": {
           "line": {
            "color": "#2a3f5f"
           }
          },
          "ternary": {
           "aaxis": {
            "gridcolor": "white",
            "linecolor": "white",
            "ticks": ""
           },
           "baxis": {
            "gridcolor": "white",
            "linecolor": "white",
            "ticks": ""
           },
           "bgcolor": "#E5ECF6",
           "caxis": {
            "gridcolor": "white",
            "linecolor": "white",
            "ticks": ""
           }
          },
          "title": {
           "x": 0.05
          },
          "xaxis": {
           "automargin": true,
           "gridcolor": "white",
           "linecolor": "white",
           "ticks": "",
           "title": {
            "standoff": 15
           },
           "zerolinecolor": "white",
           "zerolinewidth": 2
          },
          "yaxis": {
           "automargin": true,
           "gridcolor": "white",
           "linecolor": "white",
           "ticks": "",
           "title": {
            "standoff": 15
           },
           "zerolinecolor": "white",
           "zerolinewidth": 2
          }
         }
        },
        "title": {
         "text": "Optimization History Plot"
        },
        "xaxis": {
         "title": {
          "text": "Trial"
         }
        },
        "yaxis": {
         "title": {
          "text": "Objective Value"
         }
        }
       }
      }
     },
     "metadata": {},
     "output_type": "display_data"
    },
    {
     "name": "stdout",
     "output_type": "stream",
     "text": [
      "MAPE for lasso regression testing: 0.14093915233428064\n"
     ]
    },
    {
     "data": {
      "image/png": "[encoded data removed]",
      "text/plain": [
       "<Figure size 576x432 with 1 Axes>"
      ]
     },
     "metadata": {
      "needs_background": "light"
     },
     "output_type": "display_data"
    },
    {
     "data": {
      "image/png": "[encoded data removed]",
      "text/plain": [
       "<Figure size 432x288 with 1 Axes>"
      ]
     },
     "metadata": {
      "needs_background": "light"
     },
     "output_type": "display_data"
    }
   ],
   "source": [
    "### Lasso Regression\n",
    "\n",
    "import warnings\n",
    "import optuna\n",
    "from optuna.visualization import plot_optimization_history\n",
    "import plotly.io as pio\n",
    "import numpy as np\n",
    "from sklearn.linear_model import Lasso\n",
    "\n",
    "# Ignore all warnings\n",
    "warnings.filterwarnings(\"ignore\")\n",
    "\n",
    "def lasso_regression(df, X_train, X_test, y_train, y_test):\n",
    "\n",
    "    def objective(trial):\n",
    "        param = {\n",
    "            'alpha' : trial.suggest_loguniform('alpha', 1e-5, 10.0),\n",
    "            'selection' : trial.suggest_categorical('selection', ['cyclic', 'random'])\n",
    "        }\n",
    "        model = Lasso(**param)\n",
    "        scores = cross_val_score(model, X_train, y_train, \n",
    "                                 cv=KFold(n_splits=5,\n",
    "                                          shuffle=True,\n",
    "                                          random_state=42),\n",
    "                                 scoring='neg_mean_absolute_percentage_error'\n",
    "                                ) # Train set is split into 3 folds, the model is trained on 2 folds and evaluated on the remaining fold. This is repeated 3 times, and the average of the 3 scores is returned.\n",
    "        # Return the mean of 3 scores\n",
    "        return scores.mean()\n",
    "    \n",
    "    study = optuna.create_study(direction='maximize', study_name='LassoRegression')\n",
    "    study.optimize(objective, n_trials=50) # n_trials is the number of trials to run, each run is evaluated by cross validation score\n",
    "    \n",
    "    print('Best parameters for lasso regression', study.best_params)\n",
    "    print('Best MAPE score for lasso regression training:', -1*study.best_value)\n",
    "    \n",
    "    model = Lasso(**study.best_params)\n",
    "    model.fit(X_train, y_train)\n",
    "    fig = plot_optimization_history(study)\n",
    "    pio.show(fig)\n",
    "    y_pred = model.predict(X_test)\n",
    "    mape = mean_absolute_percentage_error(y_test, y_pred)\n",
    "    print(\"MAPE for lasso regression testing:\", mape)\n",
    "    \n",
    "\n",
    "    return model\n",
    "\n",
    "model = lasso_regression(df, X_train, X_test, y_train, y_test)\n",
    "df['Prediction_LassoReg'] = model.predict(mmscaler.transform(df[features]))\n",
    "regression_report(model, X_train, X_test, y_test, df)\n"
   ]
  },
  {
   "attachments": {},
   "cell_type": "markdown",
   "metadata": {},
   "source": [
    "## Tree Based Models"
   ]
  },
  {
   "cell_type": "code",
   "execution_count": null,
   "metadata": {},
   "outputs": [],
   "source": [
    "#### Choose features for tree based models\n",
    "features = ['IMDb Rating','Runtime (mins)', 'Year','Num Votes', 'DirectorRemark', 'Date Rated Month', 'Date Rated Year', 'Title Type Label','Action', 'Adventure', 'Animation', 'Biography', 'Comedy', 'Crime', 'Documentary', 'Drama', 'Family', 'Fantasy', 'History', 'Horror', 'Music', 'Musical', 'Mystery',  'Romance', 'Sci-Fi', 'Short', 'Sport', 'Thriller', 'War', 'Western']\n",
    "X_train = X_train_copy[features]\n",
    "X_test = X_test_copy[features]"
   ]
  },
  {
   "attachments": {},
   "cell_type": "markdown",
   "metadata": {},
   "source": [
    "### Decision Tree"
   ]
  },
  {
   "cell_type": "code",
   "execution_count": 81,
   "metadata": {},
   "outputs": [
    {
     "name": "stderr",
     "output_type": "stream",
     "text": [
      "\u001b[32m[I 2023-06-28 15:45:39,831]\u001b[0m A new study created in memory with name: DecisionTreeRegression\u001b[0m\n",
      "\u001b[32m[I 2023-06-28 15:45:39,876]\u001b[0m Trial 0 finished with value: -0.1502258969640241 and parameters: {'max_depth': 34, 'min_samples_split': 2, 'min_samples_leaf': 5, 'ccp_alpha': 0.08000204599599114}. Best is trial 0 with value: -0.1502258969640241.\u001b[0m\n",
      "\u001b[32m[I 2023-06-28 15:45:39,902]\u001b[0m Trial 1 finished with value: -0.1502258969640241 and parameters: {'max_depth': 46, 'min_samples_split': 11, 'min_samples_leaf': 2, 'ccp_alpha': 0.07516344593037982}. Best is trial 0 with value: -0.1502258969640241.\u001b[0m\n",
      "\u001b[32m[I 2023-06-28 15:45:39,932]\u001b[0m Trial 2 finished with value: -0.14902539979549825 and parameters: {'max_depth': 29, 'min_samples_split': 13, 'min_samples_leaf': 4, 'ccp_alpha': 0.13470987433340564}. Best is trial 2 with value: -0.14902539979549825.\u001b[0m\n",
      "\u001b[32m[I 2023-06-28 15:45:39,960]\u001b[0m Trial 3 finished with value: -0.16856463492675877 and parameters: {'max_depth': 32, 'min_samples_split': 10, 'min_samples_leaf': 8, 'ccp_alpha': 0.6639878138478476}. Best is trial 2 with value: -0.14902539979549825.\u001b[0m\n",
      "\u001b[32m[I 2023-06-28 15:45:39,990]\u001b[0m Trial 4 finished with value: -0.16856463492675877 and parameters: {'max_depth': 25, 'min_samples_split': 20, 'min_samples_leaf': 9, 'ccp_alpha': 0.3968104789105894}. Best is trial 2 with value: -0.14902539979549825.\u001b[0m\n",
      "\u001b[32m[I 2023-06-28 15:45:40,020]\u001b[0m Trial 5 finished with value: -0.14902539979549825 and parameters: {'max_depth': 19, 'min_samples_split': 4, 'min_samples_leaf': 10, 'ccp_alpha': 0.1502022574682691}. Best is trial 2 with value: -0.14902539979549825.\u001b[0m\n",
      "\u001b[32m[I 2023-06-28 15:45:40,052]\u001b[0m Trial 6 finished with value: -0.16856463492675877 and parameters: {'max_depth': 44, 'min_samples_split': 3, 'min_samples_leaf': 4, 'ccp_alpha': 0.8478900191097556}. Best is trial 2 with value: -0.14902539979549825.\u001b[0m\n",
      "\u001b[32m[I 2023-06-28 15:45:40,084]\u001b[0m Trial 7 finished with value: -0.16856463492675877 and parameters: {'max_depth': 42, 'min_samples_split': 14, 'min_samples_leaf': 10, 'ccp_alpha': 0.41979454538123817}. Best is trial 2 with value: -0.14902539979549825.\u001b[0m\n",
      "\u001b[32m[I 2023-06-28 15:45:40,115]\u001b[0m Trial 8 finished with value: -0.16856463492675877 and parameters: {'max_depth': 17, 'min_samples_split': 13, 'min_samples_leaf': 2, 'ccp_alpha': 0.32325851893133073}. Best is trial 2 with value: -0.14902539979549825.\u001b[0m\n",
      "\u001b[32m[I 2023-06-28 15:45:40,144]\u001b[0m Trial 9 finished with value: -0.15408807616234127 and parameters: {'max_depth': 36, 'min_samples_split': 3, 'min_samples_leaf': 6, 'ccp_alpha': 0.21112652565706802}. Best is trial 2 with value: -0.14902539979549825.\u001b[0m\n",
      "\u001b[32m[I 2023-06-28 15:45:40,190]\u001b[0m Trial 10 finished with value: -0.16536083200554602 and parameters: {'max_depth': 10, 'min_samples_split': 18, 'min_samples_leaf': 1, 'ccp_alpha': 0.014720127960060364}. Best is trial 2 with value: -0.14902539979549825.\u001b[0m\n",
      "\u001b[32m[I 2023-06-28 15:45:40,234]\u001b[0m Trial 11 finished with value: -0.15408807616234127 and parameters: {'max_depth': 23, 'min_samples_split': 7, 'min_samples_leaf': 7, 'ccp_alpha': 0.2254856818300305}. Best is trial 2 with value: -0.14902539979549825.\u001b[0m\n",
      "\u001b[32m[I 2023-06-28 15:45:40,285]\u001b[0m Trial 12 finished with value: -0.16856463492675877 and parameters: {'max_depth': 22, 'min_samples_split': 7, 'min_samples_leaf': 4, 'ccp_alpha': 0.5719349898956976}. Best is trial 2 with value: -0.14902539979549825.\u001b[0m\n",
      "\u001b[32m[I 2023-06-28 15:45:40,334]\u001b[0m Trial 13 finished with value: -0.15408807616234127 and parameters: {'max_depth': 15, 'min_samples_split': 16, 'min_samples_leaf': 4, 'ccp_alpha': 0.23035842951975663}. Best is trial 2 with value: -0.14902539979549825.\u001b[0m\n",
      "\u001b[32m[I 2023-06-28 15:45:40,373]\u001b[0m Trial 14 finished with value: -0.15957947087401622 and parameters: {'max_depth': 27, 'min_samples_split': 8, 'min_samples_leaf': 10, 'ccp_alpha': 0.0016593002667583123}. Best is trial 2 with value: -0.14902539979549825.\u001b[0m\n",
      "\u001b[32m[I 2023-06-28 15:45:40,415]\u001b[0m Trial 15 finished with value: -0.14902539979549825 and parameters: {'max_depth': 18, 'min_samples_split': 5, 'min_samples_leaf': 7, 'ccp_alpha': 0.17078200810829483}. Best is trial 2 with value: -0.14902539979549825.\u001b[0m\n",
      "\u001b[32m[I 2023-06-28 15:45:40,453]\u001b[0m Trial 16 finished with value: -0.16856463492675877 and parameters: {'max_depth': 39, 'min_samples_split': 13, 'min_samples_leaf': 3, 'ccp_alpha': 0.32928005597315485}. Best is trial 2 with value: -0.14902539979549825.\u001b[0m\n",
      "\u001b[32m[I 2023-06-28 15:45:40,489]\u001b[0m Trial 17 finished with value: -0.14902539979549825 and parameters: {'max_depth': 29, 'min_samples_split': 10, 'min_samples_leaf': 6, 'ccp_alpha': 0.1287554934668949}. Best is trial 2 with value: -0.14902539979549825.\u001b[0m\n",
      "\u001b[32m[I 2023-06-28 15:45:40,528]\u001b[0m Trial 18 finished with value: -0.16856463492675877 and parameters: {'max_depth': 50, 'min_samples_split': 16, 'min_samples_leaf': 8, 'ccp_alpha': 0.49954994462523356}. Best is trial 2 with value: -0.14902539979549825.\u001b[0m\n",
      "\u001b[32m[I 2023-06-28 15:45:40,566]\u001b[0m Trial 19 finished with value: -0.14902539979549825 and parameters: {'max_depth': 11, 'min_samples_split': 5, 'min_samples_leaf': 5, 'ccp_alpha': 0.16182665965413393}. Best is trial 2 with value: -0.14902539979549825.\u001b[0m\n",
      "\u001b[32m[I 2023-06-28 15:45:40,605]\u001b[0m Trial 20 finished with value: -0.166225804418561 and parameters: {'max_depth': 19, 'min_samples_split': 15, 'min_samples_leaf': 3, 'ccp_alpha': 0.28944674969135875}. Best is trial 2 with value: -0.14902539979549825.\u001b[0m\n",
      "\u001b[32m[I 2023-06-28 15:45:40,650]\u001b[0m Trial 21 finished with value: -0.14902539979549825 and parameters: {'max_depth': 14, 'min_samples_split': 6, 'min_samples_leaf': 7, 'ccp_alpha': 0.14646476097402564}. Best is trial 2 with value: -0.14902539979549825.\u001b[0m\n",
      "\u001b[32m[I 2023-06-28 15:45:40,694]\u001b[0m Trial 22 finished with value: -0.14902539979549825 and parameters: {'max_depth': 20, 'min_samples_split': 4, 'min_samples_leaf': 9, 'ccp_alpha': 0.10244014609372584}. Best is trial 2 with value: -0.14902539979549825.\u001b[0m\n",
      "\u001b[32m[I 2023-06-28 15:45:40,746]\u001b[0m Trial 23 finished with value: -0.15852180702661833 and parameters: {'max_depth': 25, 'min_samples_split': 9, 'min_samples_leaf': 7, 'ccp_alpha': 0.24708935007308275}. Best is trial 2 with value: -0.14902539979549825.\u001b[0m\n",
      "\u001b[32m[I 2023-06-28 15:45:40,784]\u001b[0m Trial 24 finished with value: -0.14902539979549825 and parameters: {'max_depth': 30, 'min_samples_split': 12, 'min_samples_leaf': 9, 'ccp_alpha': 0.16793876877693498}. Best is trial 2 with value: -0.14902539979549825.\u001b[0m\n",
      "\u001b[32m[I 2023-06-28 15:45:40,822]\u001b[0m Trial 25 finished with value: -0.1456351269282413 and parameters: {'max_depth': 15, 'min_samples_split': 5, 'min_samples_leaf': 8, 'ccp_alpha': 0.05004912397223116}. Best is trial 25 with value: -0.1456351269282413.\u001b[0m\n",
      "\u001b[32m[I 2023-06-28 15:45:40,863]\u001b[0m Trial 26 finished with value: -0.15499714629268296 and parameters: {'max_depth': 14, 'min_samples_split': 2, 'min_samples_leaf': 10, 'ccp_alpha': 0.01713207783847487}. Best is trial 25 with value: -0.1456351269282413.\u001b[0m\n",
      "\u001b[32m[I 2023-06-28 15:45:40,902]\u001b[0m Trial 27 finished with value: -0.14984305851445512 and parameters: {'max_depth': 21, 'min_samples_split': 5, 'min_samples_leaf': 8, 'ccp_alpha': 0.0731262384486649}. Best is trial 25 with value: -0.1456351269282413.\u001b[0m\n",
      "\u001b[32m[I 2023-06-28 15:45:40,946]\u001b[0m Trial 28 finished with value: -0.166225804418561 and parameters: {'max_depth': 13, 'min_samples_split': 8, 'min_samples_leaf': 9, 'ccp_alpha': 0.28422659354453306}. Best is trial 25 with value: -0.1456351269282413.\u001b[0m\n",
      "\u001b[32m[I 2023-06-28 15:45:40,987]\u001b[0m Trial 29 finished with value: -0.14984305851445512 and parameters: {'max_depth': 35, 'min_samples_split': 2, 'min_samples_leaf': 5, 'ccp_alpha': 0.0726449083491764}. Best is trial 25 with value: -0.1456351269282413.\u001b[0m\n",
      "\u001b[32m[I 2023-06-28 15:45:41,031]\u001b[0m Trial 30 finished with value: -0.14902539979549825 and parameters: {'max_depth': 17, 'min_samples_split': 12, 'min_samples_leaf': 6, 'ccp_alpha': 0.10265851868294558}. Best is trial 25 with value: -0.1456351269282413.\u001b[0m\n",
      "\u001b[32m[I 2023-06-28 15:45:41,069]\u001b[0m Trial 31 finished with value: -0.14902539979549825 and parameters: {'max_depth': 17, 'min_samples_split': 5, 'min_samples_leaf': 8, 'ccp_alpha': 0.1560704144732394}. Best is trial 25 with value: -0.1456351269282413.\u001b[0m\n",
      "\u001b[32m[I 2023-06-28 15:45:41,103]\u001b[0m Trial 32 finished with value: -0.14902539979549825 and parameters: {'max_depth': 24, 'min_samples_split': 4, 'min_samples_leaf': 7, 'ccp_alpha': 0.1984072381761851}. Best is trial 25 with value: -0.1456351269282413.\u001b[0m\n",
      "\u001b[32m[I 2023-06-28 15:45:41,142]\u001b[0m Trial 33 finished with value: -0.1502258969640241 and parameters: {'max_depth': 28, 'min_samples_split': 7, 'min_samples_leaf': 8, 'ccp_alpha': 0.07977598364692726}. Best is trial 25 with value: -0.1456351269282413.\u001b[0m\n",
      "\u001b[32m[I 2023-06-28 15:45:41,176]\u001b[0m Trial 34 finished with value: -0.1456351269282413 and parameters: {'max_depth': 19, 'min_samples_split': 11, 'min_samples_leaf': 6, 'ccp_alpha': 0.050924714801770556}. Best is trial 25 with value: -0.1456351269282413.\u001b[0m\n",
      "\u001b[32m[I 2023-06-28 15:45:41,212]\u001b[0m Trial 35 finished with value: -0.1456351269282413 and parameters: {'max_depth': 26, 'min_samples_split': 10, 'min_samples_leaf': 3, 'ccp_alpha': 0.04997226410963885}. Best is trial 25 with value: -0.1456351269282413.\u001b[0m\n",
      "\u001b[32m[I 2023-06-28 15:45:41,247]\u001b[0m Trial 36 finished with value: -0.1456351269282413 and parameters: {'max_depth': 32, 'min_samples_split': 11, 'min_samples_leaf': 3, 'ccp_alpha': 0.0495334993460345}. Best is trial 25 with value: -0.1456351269282413.\u001b[0m\n",
      "\u001b[32m[I 2023-06-28 15:45:41,284]\u001b[0m Trial 37 finished with value: -0.1456351269282413 and parameters: {'max_depth': 26, 'min_samples_split': 10, 'min_samples_leaf': 3, 'ccp_alpha': 0.047652810707578555}. Best is trial 25 with value: -0.1456351269282413.\u001b[0m\n",
      "\u001b[32m[I 2023-06-28 15:45:41,322]\u001b[0m Trial 38 finished with value: -0.18398602823552185 and parameters: {'max_depth': 31, 'min_samples_split': 11, 'min_samples_leaf': 1, 'ccp_alpha': 0.006416496787062749}. Best is trial 25 with value: -0.1456351269282413.\u001b[0m\n",
      "\u001b[32m[I 2023-06-28 15:45:41,358]\u001b[0m Trial 39 finished with value: -0.14984305851445512 and parameters: {'max_depth': 33, 'min_samples_split': 11, 'min_samples_leaf': 3, 'ccp_alpha': 0.06662609232600708}. Best is trial 25 with value: -0.1456351269282413.\u001b[0m\n",
      "\u001b[32m[I 2023-06-28 15:45:41,395]\u001b[0m Trial 40 finished with value: -0.1502258969640241 and parameters: {'max_depth': 22, 'min_samples_split': 9, 'min_samples_leaf': 2, 'ccp_alpha': 0.09041680275521746}. Best is trial 25 with value: -0.1456351269282413.\u001b[0m\n",
      "\u001b[32m[I 2023-06-28 15:45:41,431]\u001b[0m Trial 41 finished with value: -0.1507203826587777 and parameters: {'max_depth': 26, 'min_samples_split': 10, 'min_samples_leaf': 3, 'ccp_alpha': 0.03854250064342579}. Best is trial 25 with value: -0.1456351269282413.\u001b[0m\n",
      "\u001b[32m[I 2023-06-28 15:45:41,467]\u001b[0m Trial 42 finished with value: -0.15103568318129673 and parameters: {'max_depth': 37, 'min_samples_split': 12, 'min_samples_leaf': 2, 'ccp_alpha': 0.04282581357581981}. Best is trial 25 with value: -0.1456351269282413.\u001b[0m\n",
      "\u001b[32m[I 2023-06-28 15:45:41,503]\u001b[0m Trial 43 finished with value: -0.14902539979549825 and parameters: {'max_depth': 33, 'min_samples_split': 9, 'min_samples_leaf': 4, 'ccp_alpha': 0.10064045330004762}. Best is trial 25 with value: -0.1456351269282413.\u001b[0m\n",
      "\u001b[32m[I 2023-06-28 15:45:41,541]\u001b[0m Trial 44 finished with value: -0.14871116314362148 and parameters: {'max_depth': 27, 'min_samples_split': 14, 'min_samples_leaf': 5, 'ccp_alpha': 0.04349226597633461}. Best is trial 25 with value: -0.1456351269282413.\u001b[0m\n",
      "\u001b[32m[I 2023-06-28 15:45:41,579]\u001b[0m Trial 45 finished with value: -0.14902539979549825 and parameters: {'max_depth': 24, 'min_samples_split': 11, 'min_samples_leaf': 2, 'ccp_alpha': 0.1246426823930475}. Best is trial 25 with value: -0.1456351269282413.\u001b[0m\n",
      "\u001b[32m[I 2023-06-28 15:45:41,615]\u001b[0m Trial 46 finished with value: -0.1456351269282413 and parameters: {'max_depth': 12, 'min_samples_split': 8, 'min_samples_leaf': 3, 'ccp_alpha': 0.04738438720850424}. Best is trial 25 with value: -0.1456351269282413.\u001b[0m\n",
      "\u001b[32m[I 2023-06-28 15:45:41,653]\u001b[0m Trial 47 finished with value: -0.14902539979549825 and parameters: {'max_depth': 40, 'min_samples_split': 10, 'min_samples_leaf': 1, 'ccp_alpha': 0.193476628663453}. Best is trial 25 with value: -0.1456351269282413.\u001b[0m\n",
      "\u001b[32m[I 2023-06-28 15:45:41,694]\u001b[0m Trial 48 finished with value: -0.17382870759824187 and parameters: {'max_depth': 16, 'min_samples_split': 19, 'min_samples_leaf': 4, 'ccp_alpha': 0.004730119829592372}. Best is trial 25 with value: -0.1456351269282413.\u001b[0m\n",
      "\u001b[32m[I 2023-06-28 15:45:41,778]\u001b[0m Trial 49 finished with value: -0.14902539979549825 and parameters: {'max_depth': 20, 'min_samples_split': 14, 'min_samples_leaf': 2, 'ccp_alpha': 0.11202652886569116}. Best is trial 25 with value: -0.1456351269282413.\u001b[0m\n",
      "\u001b[32m[I 2023-06-28 15:45:41,821]\u001b[0m Trial 50 finished with value: -0.14902539979549825 and parameters: {'max_depth': 30, 'min_samples_split': 12, 'min_samples_leaf': 4, 'ccp_alpha': 0.13240167579587753}. Best is trial 25 with value: -0.1456351269282413.\u001b[0m\n",
      "\u001b[32m[I 2023-06-28 15:45:41,862]\u001b[0m Trial 51 finished with value: -0.14694051468334057 and parameters: {'max_depth': 12, 'min_samples_split': 8, 'min_samples_leaf': 3, 'ccp_alpha': 0.056163261786949914}. Best is trial 25 with value: -0.1456351269282413.\u001b[0m\n",
      "\u001b[32m[I 2023-06-28 15:45:41,902]\u001b[0m Trial 52 finished with value: -0.14871042010419705 and parameters: {'max_depth': 12, 'min_samples_split': 9, 'min_samples_leaf': 3, 'ccp_alpha': 0.046302246980216906}. Best is trial 25 with value: -0.1456351269282413.\u001b[0m\n",
      "\u001b[32m[I 2023-06-28 15:45:41,942]\u001b[0m Trial 53 finished with value: -0.1794183266670866 and parameters: {'max_depth': 16, 'min_samples_split': 10, 'min_samples_leaf': 4, 'ccp_alpha': 5.663140519130555e-05}. Best is trial 25 with value: -0.1456351269282413.\u001b[0m\n",
      "\u001b[32m[I 2023-06-28 15:45:41,980]\u001b[0m Trial 54 finished with value: -0.14902539979549825 and parameters: {'max_depth': 11, 'min_samples_split': 6, 'min_samples_leaf': 3, 'ccp_alpha': 0.1936029809209618}. Best is trial 25 with value: -0.1456351269282413.\u001b[0m\n",
      "\u001b[32m[I 2023-06-28 15:45:42,014]\u001b[0m Trial 55 finished with value: -0.14902539979549825 and parameters: {'max_depth': 10, 'min_samples_split': 8, 'min_samples_leaf': 6, 'ccp_alpha': 0.12088344668810265}. Best is trial 25 with value: -0.1456351269282413.\u001b[0m\n",
      "\u001b[32m[I 2023-06-28 15:45:42,056]\u001b[0m Trial 56 finished with value: -0.151785362564517 and parameters: {'max_depth': 19, 'min_samples_split': 13, 'min_samples_leaf': 2, 'ccp_alpha': 0.03938655023342541}. Best is trial 25 with value: -0.1456351269282413.\u001b[0m\n",
      "\u001b[32m[I 2023-06-28 15:45:42,095]\u001b[0m Trial 57 finished with value: -0.14984305851445512 and parameters: {'max_depth': 15, 'min_samples_split': 11, 'min_samples_leaf': 5, 'ccp_alpha': 0.07060907075455664}. Best is trial 25 with value: -0.1456351269282413.\u001b[0m\n",
      "\u001b[32m[I 2023-06-28 15:45:42,134]\u001b[0m Trial 58 finished with value: -0.14902539979549825 and parameters: {'max_depth': 23, 'min_samples_split': 7, 'min_samples_leaf': 3, 'ccp_alpha': 0.151650892846}. Best is trial 25 with value: -0.1456351269282413.\u001b[0m\n",
      "\u001b[32m[I 2023-06-28 15:45:42,170]\u001b[0m Trial 59 finished with value: -0.15408807616234127 and parameters: {'max_depth': 28, 'min_samples_split': 6, 'min_samples_leaf': 4, 'ccp_alpha': 0.22235018853111704}. Best is trial 25 with value: -0.1456351269282413.\u001b[0m\n",
      "\u001b[32m[I 2023-06-28 15:45:42,214]\u001b[0m Trial 60 finished with value: -0.14902539979549825 and parameters: {'max_depth': 32, 'min_samples_split': 10, 'min_samples_leaf': 1, 'ccp_alpha': 0.09570507591755026}. Best is trial 25 with value: -0.1456351269282413.\u001b[0m\n",
      "\u001b[32m[I 2023-06-28 15:45:42,262]\u001b[0m Trial 61 finished with value: -0.15151520548133293 and parameters: {'max_depth': 12, 'min_samples_split': 8, 'min_samples_leaf': 3, 'ccp_alpha': 0.03657117274239967}. Best is trial 25 with value: -0.1456351269282413.\u001b[0m\n",
      "\u001b[32m[I 2023-06-28 15:45:42,309]\u001b[0m Trial 62 finished with value: -0.1475726525274724 and parameters: {'max_depth': 13, 'min_samples_split': 9, 'min_samples_leaf': 3, 'ccp_alpha': 0.060286998641214506}. Best is trial 25 with value: -0.1456351269282413.\u001b[0m\n",
      "\u001b[32m[I 2023-06-28 15:45:42,355]\u001b[0m Trial 63 finished with value: -0.1551651075237393 and parameters: {'max_depth': 14, 'min_samples_split': 8, 'min_samples_leaf': 2, 'ccp_alpha': 0.024238287794491612}. Best is trial 25 with value: -0.1456351269282413.\u001b[0m\n",
      "\u001b[32m[I 2023-06-28 15:45:42,406]\u001b[0m Trial 64 finished with value: -0.14902539979549825 and parameters: {'max_depth': 10, 'min_samples_split': 7, 'min_samples_leaf': 3, 'ccp_alpha': 0.16480817733443415}. Best is trial 25 with value: -0.1456351269282413.\u001b[0m\n",
      "\u001b[32m[I 2023-06-28 15:45:42,453]\u001b[0m Trial 65 finished with value: -0.14902539979549825 and parameters: {'max_depth': 16, 'min_samples_split': 12, 'min_samples_leaf': 4, 'ccp_alpha': 0.12641569576020908}. Best is trial 25 with value: -0.1456351269282413.\u001b[0m\n",
      "\u001b[32m[I 2023-06-28 15:45:42,500]\u001b[0m Trial 66 finished with value: -0.14984305851445512 and parameters: {'max_depth': 26, 'min_samples_split': 10, 'min_samples_leaf': 5, 'ccp_alpha': 0.0674259524810592}. Best is trial 25 with value: -0.1456351269282413.\u001b[0m\n",
      "\u001b[32m[I 2023-06-28 15:45:42,541]\u001b[0m Trial 67 finished with value: -0.1657940843235982 and parameters: {'max_depth': 18, 'min_samples_split': 11, 'min_samples_leaf': 6, 'ccp_alpha': 0.0017793386759839894}. Best is trial 25 with value: -0.1456351269282413.\u001b[0m\n",
      "\u001b[32m[I 2023-06-28 15:45:42,579]\u001b[0m Trial 68 finished with value: -0.1502258969640241 and parameters: {'max_depth': 13, 'min_samples_split': 13, 'min_samples_leaf': 4, 'ccp_alpha': 0.08400002534821097}. Best is trial 25 with value: -0.1456351269282413.\u001b[0m\n",
      "\u001b[32m[I 2023-06-28 15:45:42,621]\u001b[0m Trial 69 finished with value: -0.14902539979549825 and parameters: {'max_depth': 46, 'min_samples_split': 3, 'min_samples_leaf': 2, 'ccp_alpha': 0.1386698826921233}. Best is trial 25 with value: -0.1456351269282413.\u001b[0m\n",
      "\u001b[32m[I 2023-06-28 15:45:42,665]\u001b[0m Trial 70 finished with value: -0.15852180702661833 and parameters: {'max_depth': 21, 'min_samples_split': 9, 'min_samples_leaf': 3, 'ccp_alpha': 0.2556104597693397}. Best is trial 25 with value: -0.1456351269282413.\u001b[0m\n",
      "\u001b[32m[I 2023-06-28 15:45:42,710]\u001b[0m Trial 71 finished with value: -0.1456351269282413 and parameters: {'max_depth': 12, 'min_samples_split': 9, 'min_samples_leaf': 3, 'ccp_alpha': 0.05274744365580907}. Best is trial 25 with value: -0.1456351269282413.\u001b[0m\n",
      "\u001b[32m[I 2023-06-28 15:45:42,749]\u001b[0m Trial 72 finished with value: -0.1565261410713678 and parameters: {'max_depth': 12, 'min_samples_split': 8, 'min_samples_leaf': 3, 'ccp_alpha': 0.03320392728579827}. Best is trial 25 with value: -0.1456351269282413.\u001b[0m\n",
      "\u001b[32m[I 2023-06-28 15:45:42,791]\u001b[0m Trial 73 finished with value: -0.14902539979549825 and parameters: {'max_depth': 14, 'min_samples_split': 11, 'min_samples_leaf': 2, 'ccp_alpha': 0.09600258915478802}. Best is trial 25 with value: -0.1456351269282413.\u001b[0m\n",
      "\u001b[32m[I 2023-06-28 15:45:42,833]\u001b[0m Trial 74 finished with value: -0.14694051468334057 and parameters: {'max_depth': 11, 'min_samples_split': 6, 'min_samples_leaf': 3, 'ccp_alpha': 0.057748076890173396}. Best is trial 25 with value: -0.1456351269282413.\u001b[0m\n",
      "\u001b[32m[I 2023-06-28 15:45:42,871]\u001b[0m Trial 75 finished with value: -0.15137090934957412 and parameters: {'max_depth': 15, 'min_samples_split': 9, 'min_samples_leaf': 9, 'ccp_alpha': 0.027664978957202564}. Best is trial 25 with value: -0.1456351269282413.\u001b[0m\n",
      "\u001b[32m[I 2023-06-28 15:45:42,909]\u001b[0m Trial 76 finished with value: -0.14902539979549825 and parameters: {'max_depth': 18, 'min_samples_split': 10, 'min_samples_leaf': 7, 'ccp_alpha': 0.1882089026238441}. Best is trial 25 with value: -0.1456351269282413.\u001b[0m\n",
      "\u001b[32m[I 2023-06-28 15:45:42,947]\u001b[0m Trial 77 finished with value: -0.14902539979549825 and parameters: {'max_depth': 36, 'min_samples_split': 8, 'min_samples_leaf': 4, 'ccp_alpha': 0.1051652440107796}. Best is trial 25 with value: -0.1456351269282413.\u001b[0m\n",
      "\u001b[32m[I 2023-06-28 15:45:42,987]\u001b[0m Trial 78 finished with value: -0.14984305851445512 and parameters: {'max_depth': 29, 'min_samples_split': 12, 'min_samples_leaf': 5, 'ccp_alpha': 0.0703121138621701}. Best is trial 25 with value: -0.1456351269282413.\u001b[0m\n",
      "\u001b[32m[I 2023-06-28 15:45:43,026]\u001b[0m Trial 79 finished with value: -0.14902539979549825 and parameters: {'max_depth': 11, 'min_samples_split': 7, 'min_samples_leaf': 2, 'ccp_alpha': 0.14497799244927856}. Best is trial 25 with value: -0.1456351269282413.\u001b[0m\n",
      "\u001b[32m[I 2023-06-28 15:45:43,071]\u001b[0m Trial 80 finished with value: -0.14902539979549825 and parameters: {'max_depth': 34, 'min_samples_split': 4, 'min_samples_leaf': 3, 'ccp_alpha': 0.16950123366285907}. Best is trial 25 with value: -0.1456351269282413.\u001b[0m\n",
      "\u001b[32m[I 2023-06-28 15:45:43,111]\u001b[0m Trial 81 finished with value: -0.14694051468334057 and parameters: {'max_depth': 12, 'min_samples_split': 5, 'min_samples_leaf': 3, 'ccp_alpha': 0.05501487513037473}. Best is trial 25 with value: -0.1456351269282413.\u001b[0m\n",
      "\u001b[32m[I 2023-06-28 15:45:43,153]\u001b[0m Trial 82 finished with value: -0.15725900041881047 and parameters: {'max_depth': 10, 'min_samples_split': 6, 'min_samples_leaf': 3, 'ccp_alpha': 0.028266051941636058}. Best is trial 25 with value: -0.1456351269282413.\u001b[0m\n",
      "\u001b[32m[I 2023-06-28 15:45:43,194]\u001b[0m Trial 83 finished with value: -0.14694051468334057 and parameters: {'max_depth': 13, 'min_samples_split': 6, 'min_samples_leaf': 4, 'ccp_alpha': 0.05607136702917737}. Best is trial 25 with value: -0.1456351269282413.\u001b[0m\n",
      "\u001b[32m[I 2023-06-28 15:45:43,234]\u001b[0m Trial 84 finished with value: -0.1502258969640241 and parameters: {'max_depth': 31, 'min_samples_split': 9, 'min_samples_leaf': 3, 'ccp_alpha': 0.0808851354659203}. Best is trial 25 with value: -0.1456351269282413.\u001b[0m\n",
      "\u001b[32m[I 2023-06-28 15:45:43,278]\u001b[0m Trial 85 finished with value: -0.14902539979549825 and parameters: {'max_depth': 11, 'min_samples_split': 4, 'min_samples_leaf': 2, 'ccp_alpha': 0.11218439488467688}. Best is trial 25 with value: -0.1456351269282413.\u001b[0m\n",
      "\u001b[32m[I 2023-06-28 15:45:43,320]\u001b[0m Trial 86 finished with value: -0.1595053209807315 and parameters: {'max_depth': 15, 'min_samples_split': 10, 'min_samples_leaf': 3, 'ccp_alpha': 0.02108295542584254}. Best is trial 25 with value: -0.1456351269282413.\u001b[0m\n",
      "\u001b[32m[I 2023-06-28 15:45:43,364]\u001b[0m Trial 87 finished with value: -0.14694051468334057 and parameters: {'max_depth': 25, 'min_samples_split': 7, 'min_samples_leaf': 4, 'ccp_alpha': 0.05423267467631749}. Best is trial 25 with value: -0.1456351269282413.\u001b[0m\n",
      "\u001b[32m[I 2023-06-28 15:45:43,404]\u001b[0m Trial 88 finished with value: -0.1811266837084628 and parameters: {'max_depth': 14, 'min_samples_split': 11, 'min_samples_leaf': 2, 'ccp_alpha': 6.196124219285531e-05}. Best is trial 25 with value: -0.1456351269282413.\u001b[0m\n",
      "\u001b[32m[I 2023-06-28 15:45:43,447]\u001b[0m Trial 89 finished with value: -0.1502258969640241 and parameters: {'max_depth': 17, 'min_samples_split': 5, 'min_samples_leaf': 4, 'ccp_alpha': 0.08207647084244493}. Best is trial 25 with value: -0.1456351269282413.\u001b[0m\n",
      "\u001b[32m[I 2023-06-28 15:45:43,488]\u001b[0m Trial 90 finished with value: -0.14902539979549825 and parameters: {'max_depth': 11, 'min_samples_split': 3, 'min_samples_leaf': 3, 'ccp_alpha': 0.13195609648406087}. Best is trial 25 with value: -0.1456351269282413.\u001b[0m\n",
      "\u001b[32m[I 2023-06-28 15:45:43,529]\u001b[0m Trial 91 finished with value: -0.14984305851445512 and parameters: {'max_depth': 12, 'min_samples_split': 5, 'min_samples_leaf': 3, 'ccp_alpha': 0.06435614723271525}. Best is trial 25 with value: -0.1456351269282413.\u001b[0m\n",
      "\u001b[32m[I 2023-06-28 15:45:43,572]\u001b[0m Trial 92 finished with value: -0.1456351269282413 and parameters: {'max_depth': 13, 'min_samples_split': 6, 'min_samples_leaf': 3, 'ccp_alpha': 0.05174149411751116}. Best is trial 25 with value: -0.1456351269282413.\u001b[0m\n",
      "\u001b[32m[I 2023-06-28 15:45:43,614]\u001b[0m Trial 93 finished with value: -0.1595053209807315 and parameters: {'max_depth': 16, 'min_samples_split': 8, 'min_samples_leaf': 3, 'ccp_alpha': 0.02153105924830303}. Best is trial 25 with value: -0.1456351269282413.\u001b[0m\n",
      "\u001b[32m[I 2023-06-28 15:45:43,652]\u001b[0m Trial 94 finished with value: -0.14902539979549825 and parameters: {'max_depth': 13, 'min_samples_split': 6, 'min_samples_leaf': 8, 'ccp_alpha': 0.10204910227304692}. Best is trial 25 with value: -0.1456351269282413.\u001b[0m\n",
      "\u001b[32m[I 2023-06-28 15:45:43,695]\u001b[0m Trial 95 finished with value: -0.14671732904846752 and parameters: {'max_depth': 10, 'min_samples_split': 7, 'min_samples_leaf': 2, 'ccp_alpha': 0.049256626948158376}. Best is trial 25 with value: -0.1456351269282413.\u001b[0m\n",
      "\u001b[32m[I 2023-06-28 15:45:43,735]\u001b[0m Trial 96 finished with value: -0.14902539979549825 and parameters: {'max_depth': 10, 'min_samples_split': 7, 'min_samples_leaf': 10, 'ccp_alpha': 0.11461761139678357}. Best is trial 25 with value: -0.1456351269282413.\u001b[0m\n",
      "\u001b[32m[I 2023-06-28 15:45:43,776]\u001b[0m Trial 97 finished with value: -0.1502258969640241 and parameters: {'max_depth': 15, 'min_samples_split': 9, 'min_samples_leaf': 1, 'ccp_alpha': 0.08628822071057035}. Best is trial 25 with value: -0.1456351269282413.\u001b[0m\n",
      "\u001b[32m[I 2023-06-28 15:45:43,817]\u001b[0m Trial 98 finished with value: -0.16393900739778294 and parameters: {'max_depth': 23, 'min_samples_split': 10, 'min_samples_leaf': 1, 'ccp_alpha': 0.017574212194491616}. Best is trial 25 with value: -0.1456351269282413.\u001b[0m\n",
      "\u001b[32m[I 2023-06-28 15:45:43,862]\u001b[0m Trial 99 finished with value: -0.15299705247060597 and parameters: {'max_depth': 20, 'min_samples_split': 8, 'min_samples_leaf': 2, 'ccp_alpha': 0.036723940474198045}. Best is trial 25 with value: -0.1456351269282413.\u001b[0m\n"
     ]
    },
    {
     "name": "stdout",
     "output_type": "stream",
     "text": [
      "Best parameters for decision tree regression {'max_depth': 15, 'min_samples_split': 5, 'min_samples_leaf': 8, 'ccp_alpha': 0.05004912397223116}\n",
      "Best MAPE score for decision tree regression training: 0.1456351269282413\n"
     ]
    },
    {
     "data": {
      "application/vnd.plotly.v1+json": {
       "config": {
        "plotlyServerURL": "https://plot.ly"
       },
       "data": [
        {
         "mode": "markers",
         "name": "Objective Value",
         "type": "scatter",
         "x": [
          0,
          1,
          2,
          3,
          4,
          5,
          6,
          7,
          8,
          9,
          10,
          11,
          12,
          13,
          14,
          15,
          16,
          17,
          18,
          19,
          20,
          21,
          22,
          23,
          24,
          25,
          26,
          27,
          28,
          29,
          30,
          31,
          32,
          33,
          34,
          35,
          36,
          37,
          38,
          39,
          40,
          41,
          42,
          43,
          44,
          45,
          46,
          47,
          48,
          49,
          50,
          51,
          52,
          53,
          54,
          55,
          56,
          57,
          58,
          59,
          60,
          61,
          62,
          63,
          64,
          65,
          66,
          67,
          68,
          69,
          70,
          71,
          72,
          73,
          74,
          75,
          76,
          77,
          78,
          79,
          80,
          81,
          82,
          83,
          84,
          85,
          86,
          87,
          88,
          89,
          90,
          91,
          92,
          93,
          94,
          95,
          96,
          97,
          98,
          99
         ],
         "y": [
          -0.1502258969640241,
          -0.1502258969640241,
          -0.14902539979549825,
          -0.16856463492675877,
          -0.16856463492675877,
          -0.14902539979549825,
          -0.16856463492675877,
          -0.16856463492675877,
          -0.16856463492675877,
          -0.15408807616234127,
          -0.16536083200554602,
          -0.15408807616234127,
          -0.16856463492675877,
          -0.15408807616234127,
          -0.15957947087401622,
          -0.14902539979549825,
          -0.16856463492675877,
          -0.14902539979549825,
          -0.16856463492675877,
          -0.14902539979549825,
          -0.166225804418561,
          -0.14902539979549825,
          -0.14902539979549825,
          -0.15852180702661833,
          -0.14902539979549825,
          -0.1456351269282413,
          -0.15499714629268296,
          -0.14984305851445512,
          -0.166225804418561,
          -0.14984305851445512,
          -0.14902539979549825,
          -0.14902539979549825,
          -0.14902539979549825,
          -0.1502258969640241,
          -0.1456351269282413,
          -0.1456351269282413,
          -0.1456351269282413,
          -0.1456351269282413,
          -0.18398602823552185,
          -0.14984305851445512,
          -0.1502258969640241,
          -0.1507203826587777,
          -0.15103568318129673,
          -0.14902539979549825,
          -0.14871116314362148,
          -0.14902539979549825,
          -0.1456351269282413,
          -0.14902539979549825,
          -0.17382870759824187,
          -0.14902539979549825,
          -0.14902539979549825,
          -0.14694051468334057,
          -0.14871042010419705,
          -0.1794183266670866,
          -0.14902539979549825,
          -0.14902539979549825,
          -0.151785362564517,
          -0.14984305851445512,
          -0.14902539979549825,
          -0.15408807616234127,
          -0.14902539979549825,
          -0.15151520548133293,
          -0.1475726525274724,
          -0.1551651075237393,
          -0.14902539979549825,
          -0.14902539979549825,
          -0.14984305851445512,
          -0.1657940843235982,
          -0.1502258969640241,
          -0.14902539979549825,
          -0.15852180702661833,
          -0.1456351269282413,
          -0.1565261410713678,
          -0.14902539979549825,
          -0.14694051468334057,
          -0.15137090934957412,
          -0.14902539979549825,
          -0.14902539979549825,
          -0.14984305851445512,
          -0.14902539979549825,
          -0.14902539979549825,
          -0.14694051468334057,
          -0.15725900041881047,
          -0.14694051468334057,
          -0.1502258969640241,
          -0.14902539979549825,
          -0.1595053209807315,
          -0.14694051468334057,
          -0.1811266837084628,
          -0.1502258969640241,
          -0.14902539979549825,
          -0.14984305851445512,
          -0.1456351269282413,
          -0.1595053209807315,
          -0.14902539979549825,
          -0.14671732904846752,
          -0.14902539979549825,
          -0.1502258969640241,
          -0.16393900739778294,
          -0.15299705247060597
         ]
        },
        {
         "name": "Best Value",
         "type": "scatter",
         "x": [
          0,
          1,
          2,
          3,
          4,
          5,
          6,
          7,
          8,
          9,
          10,
          11,
          12,
          13,
          14,
          15,
          16,
          17,
          18,
          19,
          20,
          21,
          22,
          23,
          24,
          25,
          26,
          27,
          28,
          29,
          30,
          31,
          32,
          33,
          34,
          35,
          36,
          37,
          38,
          39,
          40,
          41,
          42,
          43,
          44,
          45,
          46,
          47,
          48,
          49,
          50,
          51,
          52,
          53,
          54,
          55,
          56,
          57,
          58,
          59,
          60,
          61,
          62,
          63,
          64,
          65,
          66,
          67,
          68,
          69,
          70,
          71,
          72,
          73,
          74,
          75,
          76,
          77,
          78,
          79,
          80,
          81,
          82,
          83,
          84,
          85,
          86,
          87,
          88,
          89,
          90,
          91,
          92,
          93,
          94,
          95,
          96,
          97,
          98,
          99
         ],
         "y": [
          -0.1502258969640241,
          -0.1502258969640241,
          -0.14902539979549825,
          -0.14902539979549825,
          -0.14902539979549825,
          -0.14902539979549825,
          -0.14902539979549825,
          -0.14902539979549825,
          -0.14902539979549825,
          -0.14902539979549825,
          -0.14902539979549825,
          -0.14902539979549825,
          -0.14902539979549825,
          -0.14902539979549825,
          -0.14902539979549825,
          -0.14902539979549825,
          -0.14902539979549825,
          -0.14902539979549825,
          -0.14902539979549825,
          -0.14902539979549825,
          -0.14902539979549825,
          -0.14902539979549825,
          -0.14902539979549825,
          -0.14902539979549825,
          -0.14902539979549825,
          -0.1456351269282413,
          -0.1456351269282413,
          -0.1456351269282413,
          -0.1456351269282413,
          -0.1456351269282413,
          -0.1456351269282413,
          -0.1456351269282413,
          -0.1456351269282413,
          -0.1456351269282413,
          -0.1456351269282413,
          -0.1456351269282413,
          -0.1456351269282413,
          -0.1456351269282413,
          -0.1456351269282413,
          -0.1456351269282413,
          -0.1456351269282413,
          -0.1456351269282413,
          -0.1456351269282413,
          -0.1456351269282413,
          -0.1456351269282413,
          -0.1456351269282413,
          -0.1456351269282413,
          -0.1456351269282413,
          -0.1456351269282413,
          -0.1456351269282413,
          -0.1456351269282413,
          -0.1456351269282413,
          -0.1456351269282413,
          -0.1456351269282413,
          -0.1456351269282413,
          -0.1456351269282413,
          -0.1456351269282413,
          -0.1456351269282413,
          -0.1456351269282413,
          -0.1456351269282413,
          -0.1456351269282413,
          -0.1456351269282413,
          -0.1456351269282413,
          -0.1456351269282413,
          -0.1456351269282413,
          -0.1456351269282413,
          -0.1456351269282413,
          -0.1456351269282413,
          -0.1456351269282413,
          -0.1456351269282413,
          -0.1456351269282413,
          -0.1456351269282413,
          -0.1456351269282413,
          -0.1456351269282413,
          -0.1456351269282413,
          -0.1456351269282413,
          -0.1456351269282413,
          -0.1456351269282413,
          -0.1456351269282413,
          -0.1456351269282413,
          -0.1456351269282413,
          -0.1456351269282413,
          -0.1456351269282413,
          -0.1456351269282413,
          -0.1456351269282413,
          -0.1456351269282413,
          -0.1456351269282413,
          -0.1456351269282413,
          -0.1456351269282413,
          -0.1456351269282413,
          -0.1456351269282413,
          -0.1456351269282413,
          -0.1456351269282413,
          -0.1456351269282413,
          -0.1456351269282413,
          -0.1456351269282413,
          -0.1456351269282413,
          -0.1456351269282413,
          -0.1456351269282413,
          -0.1456351269282413
         ]
        }
       ],
       "layout": {
        "template": {
         "data": {
          "bar": [
           {
            "error_x": {
             "color": "#2a3f5f"
            },
            "error_y": {
             "color": "#2a3f5f"
            },
            "marker": {
             "line": {
              "color": "#E5ECF6",
              "width": 0.5
             },
             "pattern": {
              "fillmode": "overlay",
              "size": 10,
              "solidity": 0.2
             }
            },
            "type": "bar"
           }
          ],
          "barpolar": [
           {
            "marker": {
             "line": {
              "color": "#E5ECF6",
              "width": 0.5
             },
             "pattern": {
              "fillmode": "overlay",
              "size": 10,
              "solidity": 0.2
             }
            },
            "type": "barpolar"
           }
          ],
          "carpet": [
           {
            "aaxis": {
             "endlinecolor": "#2a3f5f",
             "gridcolor": "white",
             "linecolor": "white",
             "minorgridcolor": "white",
             "startlinecolor": "#2a3f5f"
            },
            "baxis": {
             "endlinecolor": "#2a3f5f",
             "gridcolor": "white",
             "linecolor": "white",
             "minorgridcolor": "white",
             "startlinecolor": "#2a3f5f"
            },
            "type": "carpet"
           }
          ],
          "choropleth": [
           {
            "colorbar": {
             "outlinewidth": 0,
             "ticks": ""
            },
            "type": "choropleth"
           }
          ],
          "contour": [
           {
            "colorbar": {
             "outlinewidth": 0,
             "ticks": ""
            },
            "colorscale": [
             [
              0,
              "#0d0887"
             ],
             [
              0.1111111111111111,
              "#46039f"
             ],
             [
              0.2222222222222222,
              "#7201a8"
             ],
             [
              0.3333333333333333,
              "#9c179e"
             ],
             [
              0.4444444444444444,
              "#bd3786"
             ],
             [
              0.5555555555555556,
              "#d8576b"
             ],
             [
              0.6666666666666666,
              "#ed7953"
             ],
             [
              0.7777777777777778,
              "#fb9f3a"
             ],
             [
              0.8888888888888888,
              "#fdca26"
             ],
             [
              1,
              "#f0f921"
             ]
            ],
            "type": "contour"
           }
          ],
          "contourcarpet": [
           {
            "colorbar": {
             "outlinewidth": 0,
             "ticks": ""
            },
            "type": "contourcarpet"
           }
          ],
          "heatmap": [
           {
            "colorbar": {
             "outlinewidth": 0,
             "ticks": ""
            },
            "colorscale": [
             [
              0,
              "#0d0887"
             ],
             [
              0.1111111111111111,
              "#46039f"
             ],
             [
              0.2222222222222222,
              "#7201a8"
             ],
             [
              0.3333333333333333,
              "#9c179e"
             ],
             [
              0.4444444444444444,
              "#bd3786"
             ],
             [
              0.5555555555555556,
              "#d8576b"
             ],
             [
              0.6666666666666666,
              "#ed7953"
             ],
             [
              0.7777777777777778,
              "#fb9f3a"
             ],
             [
              0.8888888888888888,
              "#fdca26"
             ],
             [
              1,
              "#f0f921"
             ]
            ],
            "type": "heatmap"
           }
          ],
          "heatmapgl": [
           {
            "colorbar": {
             "outlinewidth": 0,
             "ticks": ""
            },
            "colorscale": [
             [
              0,
              "#0d0887"
             ],
             [
              0.1111111111111111,
              "#46039f"
             ],
             [
              0.2222222222222222,
              "#7201a8"
             ],
             [
              0.3333333333333333,
              "#9c179e"
             ],
             [
              0.4444444444444444,
              "#bd3786"
             ],
             [
              0.5555555555555556,
              "#d8576b"
             ],
             [
              0.6666666666666666,
              "#ed7953"
             ],
             [
              0.7777777777777778,
              "#fb9f3a"
             ],
             [
              0.8888888888888888,
              "#fdca26"
             ],
             [
              1,
              "#f0f921"
             ]
            ],
            "type": "heatmapgl"
           }
          ],
          "histogram": [
           {
            "marker": {
             "pattern": {
              "fillmode": "overlay",
              "size": 10,
              "solidity": 0.2
             }
            },
            "type": "histogram"
           }
          ],
          "histogram2d": [
           {
            "colorbar": {
             "outlinewidth": 0,
             "ticks": ""
            },
            "colorscale": [
             [
              0,
              "#0d0887"
             ],
             [
              0.1111111111111111,
              "#46039f"
             ],
             [
              0.2222222222222222,
              "#7201a8"
             ],
             [
              0.3333333333333333,
              "#9c179e"
             ],
             [
              0.4444444444444444,
              "#bd3786"
             ],
             [
              0.5555555555555556,
              "#d8576b"
             ],
             [
              0.6666666666666666,
              "#ed7953"
             ],
             [
              0.7777777777777778,
              "#fb9f3a"
             ],
             [
              0.8888888888888888,
              "#fdca26"
             ],
             [
              1,
              "#f0f921"
             ]
            ],
            "type": "histogram2d"
           }
          ],
          "histogram2dcontour": [
           {
            "colorbar": {
             "outlinewidth": 0,
             "ticks": ""
            },
            "colorscale": [
             [
              0,
              "#0d0887"
             ],
             [
              0.1111111111111111,
              "#46039f"
             ],
             [
              0.2222222222222222,
              "#7201a8"
             ],
             [
              0.3333333333333333,
              "#9c179e"
             ],
             [
              0.4444444444444444,
              "#bd3786"
             ],
             [
              0.5555555555555556,
              "#d8576b"
             ],
             [
              0.6666666666666666,
              "#ed7953"
             ],
             [
              0.7777777777777778,
              "#fb9f3a"
             ],
             [
              0.8888888888888888,
              "#fdca26"
             ],
             [
              1,
              "#f0f921"
             ]
            ],
            "type": "histogram2dcontour"
           }
          ],
          "mesh3d": [
           {
            "colorbar": {
             "outlinewidth": 0,
             "ticks": ""
            },
            "type": "mesh3d"
           }
          ],
          "parcoords": [
           {
            "line": {
             "colorbar": {
              "outlinewidth": 0,
              "ticks": ""
             }
            },
            "type": "parcoords"
           }
          ],
          "pie": [
           {
            "automargin": true,
            "type": "pie"
           }
          ],
          "scatter": [
           {
            "fillpattern": {
             "fillmode": "overlay",
             "size": 10,
             "solidity": 0.2
            },
            "type": "scatter"
           }
          ],
          "scatter3d": [
           {
            "line": {
             "colorbar": {
              "outlinewidth": 0,
              "ticks": ""
             }
            },
            "marker": {
             "colorbar": {
              "outlinewidth": 0,
              "ticks": ""
             }
            },
            "type": "scatter3d"
           }
          ],
          "scattercarpet": [
           {
            "marker": {
             "colorbar": {
              "outlinewidth": 0,
              "ticks": ""
             }
            },
            "type": "scattercarpet"
           }
          ],
          "scattergeo": [
           {
            "marker": {
             "colorbar": {
              "outlinewidth": 0,
              "ticks": ""
             }
            },
            "type": "scattergeo"
           }
          ],
          "scattergl": [
           {
            "marker": {
             "colorbar": {
              "outlinewidth": 0,
              "ticks": ""
             }
            },
            "type": "scattergl"
           }
          ],
          "scattermapbox": [
           {
            "marker": {
             "colorbar": {
              "outlinewidth": 0,
              "ticks": ""
             }
            },
            "type": "scattermapbox"
           }
          ],
          "scatterpolar": [
           {
            "marker": {
             "colorbar": {
              "outlinewidth": 0,
              "ticks": ""
             }
            },
            "type": "scatterpolar"
           }
          ],
          "scatterpolargl": [
           {
            "marker": {
             "colorbar": {
              "outlinewidth": 0,
              "ticks": ""
             }
            },
            "type": "scatterpolargl"
           }
          ],
          "scatterternary": [
           {
            "marker": {
             "colorbar": {
              "outlinewidth": 0,
              "ticks": ""
             }
            },
            "type": "scatterternary"
           }
          ],
          "surface": [
           {
            "colorbar": {
             "outlinewidth": 0,
             "ticks": ""
            },
            "colorscale": [
             [
              0,
              "#0d0887"
             ],
             [
              0.1111111111111111,
              "#46039f"
             ],
             [
              0.2222222222222222,
              "#7201a8"
             ],
             [
              0.3333333333333333,
              "#9c179e"
             ],
             [
              0.4444444444444444,
              "#bd3786"
             ],
             [
              0.5555555555555556,
              "#d8576b"
             ],
             [
              0.6666666666666666,
              "#ed7953"
             ],
             [
              0.7777777777777778,
              "#fb9f3a"
             ],
             [
              0.8888888888888888,
              "#fdca26"
             ],
             [
              1,
              "#f0f921"
             ]
            ],
            "type": "surface"
           }
          ],
          "table": [
           {
            "cells": {
             "fill": {
              "color": "#EBF0F8"
             },
             "line": {
              "color": "white"
             }
            },
            "header": {
             "fill": {
              "color": "#C8D4E3"
             },
             "line": {
              "color": "white"
             }
            },
            "type": "table"
           }
          ]
         },
         "layout": {
          "annotationdefaults": {
           "arrowcolor": "#2a3f5f",
           "arrowhead": 0,
           "arrowwidth": 1
          },
          "autotypenumbers": "strict",
          "coloraxis": {
           "colorbar": {
            "outlinewidth": 0,
            "ticks": ""
           }
          },
          "colorscale": {
           "diverging": [
            [
             0,
             "#8e0152"
            ],
            [
             0.1,
             "#c51b7d"
            ],
            [
             0.2,
             "#de77ae"
            ],
            [
             0.3,
             "#f1b6da"
            ],
            [
             0.4,
             "#fde0ef"
            ],
            [
             0.5,
             "#f7f7f7"
            ],
            [
             0.6,
             "#e6f5d0"
            ],
            [
             0.7,
             "#b8e186"
            ],
            [
             0.8,
             "#7fbc41"
            ],
            [
             0.9,
             "#4d9221"
            ],
            [
             1,
             "#276419"
            ]
           ],
           "sequential": [
            [
             0,
             "#0d0887"
            ],
            [
             0.1111111111111111,
             "#46039f"
            ],
            [
             0.2222222222222222,
             "#7201a8"
            ],
            [
             0.3333333333333333,
             "#9c179e"
            ],
            [
             0.4444444444444444,
             "#bd3786"
            ],
            [
             0.5555555555555556,
             "#d8576b"
            ],
            [
             0.6666666666666666,
             "#ed7953"
            ],
            [
             0.7777777777777778,
             "#fb9f3a"
            ],
            [
             0.8888888888888888,
             "#fdca26"
            ],
            [
             1,
             "#f0f921"
            ]
           ],
           "sequentialminus": [
            [
             0,
             "#0d0887"
            ],
            [
             0.1111111111111111,
             "#46039f"
            ],
            [
             0.2222222222222222,
             "#7201a8"
            ],
            [
             0.3333333333333333,
             "#9c179e"
            ],
            [
             0.4444444444444444,
             "#bd3786"
            ],
            [
             0.5555555555555556,
             "#d8576b"
            ],
            [
             0.6666666666666666,
             "#ed7953"
            ],
            [
             0.7777777777777778,
             "#fb9f3a"
            ],
            [
             0.8888888888888888,
             "#fdca26"
            ],
            [
             1,
             "#f0f921"
            ]
           ]
          },
          "colorway": [
           "#636efa",
           "#EF553B",
           "#00cc96",
           "#ab63fa",
           "#FFA15A",
           "#19d3f3",
           "#FF6692",
           "#B6E880",
           "#FF97FF",
           "#FECB52"
          ],
          "font": {
           "color": "#2a3f5f"
          },
          "geo": {
           "bgcolor": "white",
           "lakecolor": "white",
           "landcolor": "#E5ECF6",
           "showlakes": true,
           "showland": true,
           "subunitcolor": "white"
          },
          "hoverlabel": {
           "align": "left"
          },
          "hovermode": "closest",
          "mapbox": {
           "style": "light"
          },
          "paper_bgcolor": "white",
          "plot_bgcolor": "#E5ECF6",
          "polar": {
           "angularaxis": {
            "gridcolor": "white",
            "linecolor": "white",
            "ticks": ""
           },
           "bgcolor": "#E5ECF6",
           "radialaxis": {
            "gridcolor": "white",
            "linecolor": "white",
            "ticks": ""
           }
          },
          "scene": {
           "xaxis": {
            "backgroundcolor": "#E5ECF6",
            "gridcolor": "white",
            "gridwidth": 2,
            "linecolor": "white",
            "showbackground": true,
            "ticks": "",
            "zerolinecolor": "white"
           },
           "yaxis": {
            "backgroundcolor": "#E5ECF6",
            "gridcolor": "white",
            "gridwidth": 2,
            "linecolor": "white",
            "showbackground": true,
            "ticks": "",
            "zerolinecolor": "white"
           },
           "zaxis": {
            "backgroundcolor": "#E5ECF6",
            "gridcolor": "white",
            "gridwidth": 2,
            "linecolor": "white",
            "showbackground": true,
            "ticks": "",
            "zerolinecolor": "white"
           }
          },
          "shapedefaults": {
           "line": {
            "color": "#2a3f5f"
           }
          },
          "ternary": {
           "aaxis": {
            "gridcolor": "white",
            "linecolor": "white",
            "ticks": ""
           },
           "baxis": {
            "gridcolor": "white",
            "linecolor": "white",
            "ticks": ""
           },
           "bgcolor": "#E5ECF6",
           "caxis": {
            "gridcolor": "white",
            "linecolor": "white",
            "ticks": ""
           }
          },
          "title": {
           "x": 0.05
          },
          "xaxis": {
           "automargin": true,
           "gridcolor": "white",
           "linecolor": "white",
           "ticks": "",
           "title": {
            "standoff": 15
           },
           "zerolinecolor": "white",
           "zerolinewidth": 2
          },
          "yaxis": {
           "automargin": true,
           "gridcolor": "white",
           "linecolor": "white",
           "ticks": "",
           "title": {
            "standoff": 15
           },
           "zerolinecolor": "white",
           "zerolinewidth": 2
          }
         }
        },
        "title": {
         "text": "Optimization History Plot"
        },
        "xaxis": {
         "title": {
          "text": "Trial"
         }
        },
        "yaxis": {
         "title": {
          "text": "Objective Value"
         }
        }
       }
      }
     },
     "metadata": {},
     "output_type": "display_data"
    },
    {
     "name": "stdout",
     "output_type": "stream",
     "text": [
      "MAPE for decision tree regression testing: 0.1506053299635171\n"
     ]
    },
    {
     "data": {
      "image/png": "[encoded data removed]",
      "text/plain": [
       "<Figure size 576x432 with 1 Axes>"
      ]
     },
     "metadata": {
      "needs_background": "light"
     },
     "output_type": "display_data"
    },
    {
     "data": {
      "image/png": "[encoded data removed]",
      "text/plain": [
       "<Figure size 1440x720 with 1 Axes>"
      ]
     },
     "metadata": {
      "needs_background": "light"
     },
     "output_type": "display_data"
    }
   ],
   "source": [
    "### Decision Tree\n",
    "import warnings\n",
    "import optuna\n",
    "from optuna.visualization import plot_optimization_history\n",
    "import plotly.io as pio\n",
    "import numpy as np\n",
    "from sklearn.model_selection import train_test_split, cross_val_score\n",
    "from sklearn import tree\n",
    "from sklearn.tree import DecisionTreeRegressor\n",
    "\n",
    "# Ignore all warnings\n",
    "warnings.filterwarnings(\"ignore\")\n",
    "\n",
    "def decision_tree_regressor(df, X_train, X_test, y_train, y_test):\n",
    "\n",
    "    def objective(trial):\n",
    "        param = {\n",
    "            'max_depth' : trial.suggest_int(\"max_depth\", 10, 50),\n",
    "            'min_samples_split' : trial.suggest_int(\"min_samples_split\", 2, 20),\n",
    "            'min_samples_leaf' : trial.suggest_int(\"min_samples_leaf\", 1, 10),\n",
    "            'ccp_alpha' : trial.suggest_float(\"ccp_alpha\", 0.0, 1.0),\n",
    "            'random_state' : 42\n",
    "        }\n",
    "        model = DecisionTreeRegressor(**param)\n",
    "        scores = cross_val_score(model, X_train, y_train, \n",
    "                                 cv=KFold(n_splits=5,\n",
    "                                          shuffle=True,\n",
    "                                          random_state=42),\n",
    "                                 scoring='neg_mean_absolute_percentage_error'\n",
    "                                ) # Train set is split into 3 folds, the model is trained on 2 folds and evaluated on the remaining fold. This is repeated 3 times, and the average of the 3 scores is returned.\n",
    "        # Return the mean of 3 scores\n",
    "        return scores.mean()\n",
    "    \n",
    "    study = optuna.create_study(direction='maximize', study_name='DecisionTreeRegression')\n",
    "    study.optimize(objective, n_trials=100) # n_trials is the number of trials to run, each run is evaluated by cross validation score\n",
    "    \n",
    "    print('Best parameters for decision tree regression', study.best_params)\n",
    "    print('Best MAPE score for decision tree regression training:', -1*study.best_value)\n",
    "    \n",
    "    model = DecisionTreeRegressor(**study.best_params)\n",
    "    model.fit(X_train, y_train)\n",
    "    fig = plot_optimization_history(study)\n",
    "    pio.show(fig)\n",
    "    \n",
    "    y_pred = model.predict(X_test)\n",
    "    mape = mean_absolute_percentage_error(y_test, y_pred)\n",
    "    print(\"MAPE for decision tree regression testing:\", mape)\n",
    "\n",
    "    return model\n",
    "\n",
    "def tree_report(model, X_train, X_test, y_test, df):\n",
    "\n",
    "    ## Feature importance\n",
    "    importances = model.feature_importances_\n",
    "    indices = np.argsort(importances)[::-1]\n",
    "    feature_names = [X_train.columns[i] for i in indices]\n",
    "    plt.figure(figsize=(8, 6))\n",
    "    plt.title(\"Feature Importances\")\n",
    "    plt.barh(range(len(indices)), importances[indices], color='b', align='center')\n",
    "    plt.yticks(range(len(indices)), [feature_names[i] for i in range(len(indices))])\n",
    "    plt.xlabel('Importance')\n",
    "    plt.show()\n",
    "    \n",
    "    ## Tree visualization\n",
    "    plt.figure(figsize=(20, 10))\n",
    "    feature_names = X_train.columns\n",
    "    tree.plot_tree(model, feature_names=feature_names, filled=True, fontsize=10)\n",
    "\n",
    "\n",
    "model = decision_tree_regressor(df, X_train, X_test, y_train, y_test)\n",
    "df['Prediction_DecisionTree'] = model.predict(df[features])\n",
    "tree_report(model, X_train, X_test, y_test, df)\n"
   ]
  },
  {
   "attachments": {},
   "cell_type": "markdown",
   "metadata": {},
   "source": [
    "### Extreme Gradient Boosting"
   ]
  },
  {
   "cell_type": "code",
   "execution_count": 93,
   "metadata": {},
   "outputs": [
    {
     "name": "stderr",
     "output_type": "stream",
     "text": [
      "\u001b[32m[I 2023-06-28 15:50:40,912]\u001b[0m A new study created in memory with name: XGBRegression\u001b[0m\n",
      "\u001b[32m[I 2023-06-28 15:50:43,405]\u001b[0m Trial 0 finished with value: -0.14963043082906244 and parameters: {'max_depth': 6, 'learning_rate': 0.06345905631994496, 'n_estimators': 998, 'min_child_weight': 1, 'gamma': 0.8831358160610161, 'subsample': 0.38179529771536214, 'colsample_bytree': 0.3511850512239401, 'reg_alpha': 0.61471857166508, 'reg_lambda': 0.4640301259098637}. Best is trial 0 with value: -0.14963043082906244.\u001b[0m\n",
      "\u001b[32m[I 2023-06-28 15:50:45,238]\u001b[0m Trial 1 finished with value: -0.18550386336955654 and parameters: {'max_depth': 7, 'learning_rate': 0.9067104012988801, 'n_estimators': 642, 'min_child_weight': 8, 'gamma': 0.9961683425833914, 'subsample': 0.638649460005254, 'colsample_bytree': 0.8680511908167338, 'reg_alpha': 0.103907656846296, 'reg_lambda': 0.8243777646502907}. Best is trial 0 with value: -0.14963043082906244.\u001b[0m\n",
      "\u001b[32m[I 2023-06-28 15:50:45,638]\u001b[0m Trial 2 finished with value: -0.15561208128088158 and parameters: {'max_depth': 9, 'learning_rate': 0.5243834902243928, 'n_estimators': 226, 'min_child_weight': 3, 'gamma': 0.8915967339272362, 'subsample': 0.7597400338294357, 'colsample_bytree': 0.04745497941037388, 'reg_alpha': 0.4414884956987332, 'reg_lambda': 0.8825511724896867}. Best is trial 0 with value: -0.14963043082906244.\u001b[0m\n",
      "\u001b[32m[I 2023-06-28 15:50:46,743]\u001b[0m Trial 3 finished with value: -0.17047789629174287 and parameters: {'max_depth': 2, 'learning_rate': 0.6230405148345838, 'n_estimators': 602, 'min_child_weight': 7, 'gamma': 0.6338738994851674, 'subsample': 0.6824578752824078, 'colsample_bytree': 0.6321703228016351, 'reg_alpha': 0.22519842085263064, 'reg_lambda': 0.0357153267971281}. Best is trial 0 with value: -0.14963043082906244.\u001b[0m\n",
      "\u001b[32m[I 2023-06-28 15:50:48,379]\u001b[0m Trial 4 finished with value: -0.9521922107349681 and parameters: {'max_depth': 4, 'learning_rate': 0.8499965296402219, 'n_estimators': 929, 'min_child_weight': 9, 'gamma': 0.09581772613646956, 'subsample': 0.10904641340883717, 'colsample_bytree': 0.7179888400033598, 'reg_alpha': 0.9260307755355127, 'reg_lambda': 0.8786995979177523}. Best is trial 0 with value: -0.14963043082906244.\u001b[0m\n",
      "\u001b[32m[I 2023-06-28 15:50:50,613]\u001b[0m Trial 5 finished with value: -0.15148086644985057 and parameters: {'max_depth': 9, 'learning_rate': 0.1000984845194569, 'n_estimators': 989, 'min_child_weight': 6, 'gamma': 0.7952413085154626, 'subsample': 0.18905281911123722, 'colsample_bytree': 0.86594779151519, 'reg_alpha': 0.47438536861533587, 'reg_lambda': 0.8539968363010747}. Best is trial 0 with value: -0.14963043082906244.\u001b[0m\n",
      "\u001b[32m[I 2023-06-28 15:50:50,886]\u001b[0m Trial 6 finished with value: -0.15881662730502075 and parameters: {'max_depth': 2, 'learning_rate': 0.47509724699576716, 'n_estimators': 127, 'min_child_weight': 8, 'gamma': 0.536258219464544, 'subsample': 0.2496926251846692, 'colsample_bytree': 0.7706413037738037, 'reg_alpha': 0.9907520310706123, 'reg_lambda': 0.30050241229342345}. Best is trial 0 with value: -0.14963043082906244.\u001b[0m\n",
      "\u001b[32m[I 2023-06-28 15:50:52,111]\u001b[0m Trial 7 finished with value: -0.1524606043173943 and parameters: {'max_depth': 2, 'learning_rate': 0.08965545357813756, 'n_estimators': 709, 'min_child_weight': 2, 'gamma': 0.4770510148080387, 'subsample': 0.45453856400191706, 'colsample_bytree': 0.21990183607522645, 'reg_alpha': 0.36757469517518326, 'reg_lambda': 0.7454057877155776}. Best is trial 0 with value: -0.14963043082906244.\u001b[0m\n",
      "\u001b[32m[I 2023-06-28 15:50:53,701]\u001b[0m Trial 8 finished with value: -0.15042878209388233 and parameters: {'max_depth': 1, 'learning_rate': 0.1824044223933672, 'n_estimators': 976, 'min_child_weight': 9, 'gamma': 0.734309444093527, 'subsample': 0.1549993322501176, 'colsample_bytree': 0.8785443358323302, 'reg_alpha': 0.9909746703185368, 'reg_lambda': 0.3471753140160318}. Best is trial 0 with value: -0.14963043082906244.\u001b[0m\n",
      "\u001b[32m[I 2023-06-28 15:50:57,231]\u001b[0m Trial 9 finished with value: -0.1595952420943208 and parameters: {'max_depth': 10, 'learning_rate': 0.24235173651634023, 'n_estimators': 904, 'min_child_weight': 1, 'gamma': 0.9365284885643973, 'subsample': 0.38378652498899, 'colsample_bytree': 0.9535231839104111, 'reg_alpha': 0.1179527144499567, 'reg_lambda': 0.7326586604662872}. Best is trial 0 with value: -0.14963043082906244.\u001b[0m\n"
     ]
    },
    {
     "name": "stdout",
     "output_type": "stream",
     "text": [
      "Best parameters for XGB regression {'max_depth': 6, 'learning_rate': 0.06345905631994496, 'n_estimators': 998, 'min_child_weight': 1, 'gamma': 0.8831358160610161, 'subsample': 0.38179529771536214, 'colsample_bytree': 0.3511850512239401, 'reg_alpha': 0.61471857166508, 'reg_lambda': 0.4640301259098637}\n",
      "Best MAPE score for XGB regression training: 0.14963043082906244\n"
     ]
    },
    {
     "data": {
      "application/vnd.plotly.v1+json": {
       "config": {
        "plotlyServerURL": "https://plot.ly"
       },
       "data": [
        {
         "mode": "markers",
         "name": "Objective Value",
         "type": "scatter",
         "x": [
          0,
          1,
          2,
          3,
          4,
          5,
          6,
          7,
          8,
          9
         ],
         "y": [
          -0.14963043082906244,
          -0.18550386336955654,
          -0.15561208128088158,
          -0.17047789629174287,
          -0.9521922107349681,
          -0.15148086644985057,
          -0.15881662730502075,
          -0.1524606043173943,
          -0.15042878209388233,
          -0.1595952420943208
         ]
        },
        {
         "name": "Best Value",
         "type": "scatter",
         "x": [
          0,
          1,
          2,
          3,
          4,
          5,
          6,
          7,
          8,
          9
         ],
         "y": [
          -0.14963043082906244,
          -0.14963043082906244,
          -0.14963043082906244,
          -0.14963043082906244,
          -0.14963043082906244,
          -0.14963043082906244,
          -0.14963043082906244,
          -0.14963043082906244,
          -0.14963043082906244,
          -0.14963043082906244
         ]
        }
       ],
       "layout": {
        "template": {
         "data": {
          "bar": [
           {
            "error_x": {
             "color": "#2a3f5f"
            },
            "error_y": {
             "color": "#2a3f5f"
            },
            "marker": {
             "line": {
              "color": "#E5ECF6",
              "width": 0.5
             },
             "pattern": {
              "fillmode": "overlay",
              "size": 10,
              "solidity": 0.2
             }
            },
            "type": "bar"
           }
          ],
          "barpolar": [
           {
            "marker": {
             "line": {
              "color": "#E5ECF6",
              "width": 0.5
             },
             "pattern": {
              "fillmode": "overlay",
              "size": 10,
              "solidity": 0.2
             }
            },
            "type": "barpolar"
           }
          ],
          "carpet": [
           {
            "aaxis": {
             "endlinecolor": "#2a3f5f",
             "gridcolor": "white",
             "linecolor": "white",
             "minorgridcolor": "white",
             "startlinecolor": "#2a3f5f"
            },
            "baxis": {
             "endlinecolor": "#2a3f5f",
             "gridcolor": "white",
             "linecolor": "white",
             "minorgridcolor": "white",
             "startlinecolor": "#2a3f5f"
            },
            "type": "carpet"
           }
          ],
          "choropleth": [
           {
            "colorbar": {
             "outlinewidth": 0,
             "ticks": ""
            },
            "type": "choropleth"
           }
          ],
          "contour": [
           {
            "colorbar": {
             "outlinewidth": 0,
             "ticks": ""
            },
            "colorscale": [
             [
              0,
              "#0d0887"
             ],
             [
              0.1111111111111111,
              "#46039f"
             ],
             [
              0.2222222222222222,
              "#7201a8"
             ],
             [
              0.3333333333333333,
              "#9c179e"
             ],
             [
              0.4444444444444444,
              "#bd3786"
             ],
             [
              0.5555555555555556,
              "#d8576b"
             ],
             [
              0.6666666666666666,
              "#ed7953"
             ],
             [
              0.7777777777777778,
              "#fb9f3a"
             ],
             [
              0.8888888888888888,
              "#fdca26"
             ],
             [
              1,
              "#f0f921"
             ]
            ],
            "type": "contour"
           }
          ],
          "contourcarpet": [
           {
            "colorbar": {
             "outlinewidth": 0,
             "ticks": ""
            },
            "type": "contourcarpet"
           }
          ],
          "heatmap": [
           {
            "colorbar": {
             "outlinewidth": 0,
             "ticks": ""
            },
            "colorscale": [
             [
              0,
              "#0d0887"
             ],
             [
              0.1111111111111111,
              "#46039f"
             ],
             [
              0.2222222222222222,
              "#7201a8"
             ],
             [
              0.3333333333333333,
              "#9c179e"
             ],
             [
              0.4444444444444444,
              "#bd3786"
             ],
             [
              0.5555555555555556,
              "#d8576b"
             ],
             [
              0.6666666666666666,
              "#ed7953"
             ],
             [
              0.7777777777777778,
              "#fb9f3a"
             ],
             [
              0.8888888888888888,
              "#fdca26"
             ],
             [
              1,
              "#f0f921"
             ]
            ],
            "type": "heatmap"
           }
          ],
          "heatmapgl": [
           {
            "colorbar": {
             "outlinewidth": 0,
             "ticks": ""
            },
            "colorscale": [
             [
              0,
              "#0d0887"
             ],
             [
              0.1111111111111111,
              "#46039f"
             ],
             [
              0.2222222222222222,
              "#7201a8"
             ],
             [
              0.3333333333333333,
              "#9c179e"
             ],
             [
              0.4444444444444444,
              "#bd3786"
             ],
             [
              0.5555555555555556,
              "#d8576b"
             ],
             [
              0.6666666666666666,
              "#ed7953"
             ],
             [
              0.7777777777777778,
              "#fb9f3a"
             ],
             [
              0.8888888888888888,
              "#fdca26"
             ],
             [
              1,
              "#f0f921"
             ]
            ],
            "type": "heatmapgl"
           }
          ],
          "histogram": [
           {
            "marker": {
             "pattern": {
              "fillmode": "overlay",
              "size": 10,
              "solidity": 0.2
             }
            },
            "type": "histogram"
           }
          ],
          "histogram2d": [
           {
            "colorbar": {
             "outlinewidth": 0,
             "ticks": ""
            },
            "colorscale": [
             [
              0,
              "#0d0887"
             ],
             [
              0.1111111111111111,
              "#46039f"
             ],
             [
              0.2222222222222222,
              "#7201a8"
             ],
             [
              0.3333333333333333,
              "#9c179e"
             ],
             [
              0.4444444444444444,
              "#bd3786"
             ],
             [
              0.5555555555555556,
              "#d8576b"
             ],
             [
              0.6666666666666666,
              "#ed7953"
             ],
             [
              0.7777777777777778,
              "#fb9f3a"
             ],
             [
              0.8888888888888888,
              "#fdca26"
             ],
             [
              1,
              "#f0f921"
             ]
            ],
            "type": "histogram2d"
           }
          ],
          "histogram2dcontour": [
           {
            "colorbar": {
             "outlinewidth": 0,
             "ticks": ""
            },
            "colorscale": [
             [
              0,
              "#0d0887"
             ],
             [
              0.1111111111111111,
              "#46039f"
             ],
             [
              0.2222222222222222,
              "#7201a8"
             ],
             [
              0.3333333333333333,
              "#9c179e"
             ],
             [
              0.4444444444444444,
              "#bd3786"
             ],
             [
              0.5555555555555556,
              "#d8576b"
             ],
             [
              0.6666666666666666,
              "#ed7953"
             ],
             [
              0.7777777777777778,
              "#fb9f3a"
             ],
             [
              0.8888888888888888,
              "#fdca26"
             ],
             [
              1,
              "#f0f921"
             ]
            ],
            "type": "histogram2dcontour"
           }
          ],
          "mesh3d": [
           {
            "colorbar": {
             "outlinewidth": 0,
             "ticks": ""
            },
            "type": "mesh3d"
           }
          ],
          "parcoords": [
           {
            "line": {
             "colorbar": {
              "outlinewidth": 0,
              "ticks": ""
             }
            },
            "type": "parcoords"
           }
          ],
          "pie": [
           {
            "automargin": true,
            "type": "pie"
           }
          ],
          "scatter": [
           {
            "fillpattern": {
             "fillmode": "overlay",
             "size": 10,
             "solidity": 0.2
            },
            "type": "scatter"
           }
          ],
          "scatter3d": [
           {
            "line": {
             "colorbar": {
              "outlinewidth": 0,
              "ticks": ""
             }
            },
            "marker": {
             "colorbar": {
              "outlinewidth": 0,
              "ticks": ""
             }
            },
            "type": "scatter3d"
           }
          ],
          "scattercarpet": [
           {
            "marker": {
             "colorbar": {
              "outlinewidth": 0,
              "ticks": ""
             }
            },
            "type": "scattercarpet"
           }
          ],
          "scattergeo": [
           {
            "marker": {
             "colorbar": {
              "outlinewidth": 0,
              "ticks": ""
             }
            },
            "type": "scattergeo"
           }
          ],
          "scattergl": [
           {
            "marker": {
             "colorbar": {
              "outlinewidth": 0,
              "ticks": ""
             }
            },
            "type": "scattergl"
           }
          ],
          "scattermapbox": [
           {
            "marker": {
             "colorbar": {
              "outlinewidth": 0,
              "ticks": ""
             }
            },
            "type": "scattermapbox"
           }
          ],
          "scatterpolar": [
           {
            "marker": {
             "colorbar": {
              "outlinewidth": 0,
              "ticks": ""
             }
            },
            "type": "scatterpolar"
           }
          ],
          "scatterpolargl": [
           {
            "marker": {
             "colorbar": {
              "outlinewidth": 0,
              "ticks": ""
             }
            },
            "type": "scatterpolargl"
           }
          ],
          "scatterternary": [
           {
            "marker": {
             "colorbar": {
              "outlinewidth": 0,
              "ticks": ""
             }
            },
            "type": "scatterternary"
           }
          ],
          "surface": [
           {
            "colorbar": {
             "outlinewidth": 0,
             "ticks": ""
            },
            "colorscale": [
             [
              0,
              "#0d0887"
             ],
             [
              0.1111111111111111,
              "#46039f"
             ],
             [
              0.2222222222222222,
              "#7201a8"
             ],
             [
              0.3333333333333333,
              "#9c179e"
             ],
             [
              0.4444444444444444,
              "#bd3786"
             ],
             [
              0.5555555555555556,
              "#d8576b"
             ],
             [
              0.6666666666666666,
              "#ed7953"
             ],
             [
              0.7777777777777778,
              "#fb9f3a"
             ],
             [
              0.8888888888888888,
              "#fdca26"
             ],
             [
              1,
              "#f0f921"
             ]
            ],
            "type": "surface"
           }
          ],
          "table": [
           {
            "cells": {
             "fill": {
              "color": "#EBF0F8"
             },
             "line": {
              "color": "white"
             }
            },
            "header": {
             "fill": {
              "color": "#C8D4E3"
             },
             "line": {
              "color": "white"
             }
            },
            "type": "table"
           }
          ]
         },
         "layout": {
          "annotationdefaults": {
           "arrowcolor": "#2a3f5f",
           "arrowhead": 0,
           "arrowwidth": 1
          },
          "autotypenumbers": "strict",
          "coloraxis": {
           "colorbar": {
            "outlinewidth": 0,
            "ticks": ""
           }
          },
          "colorscale": {
           "diverging": [
            [
             0,
             "#8e0152"
            ],
            [
             0.1,
             "#c51b7d"
            ],
            [
             0.2,
             "#de77ae"
            ],
            [
             0.3,
             "#f1b6da"
            ],
            [
             0.4,
             "#fde0ef"
            ],
            [
             0.5,
             "#f7f7f7"
            ],
            [
             0.6,
             "#e6f5d0"
            ],
            [
             0.7,
             "#b8e186"
            ],
            [
             0.8,
             "#7fbc41"
            ],
            [
             0.9,
             "#4d9221"
            ],
            [
             1,
             "#276419"
            ]
           ],
           "sequential": [
            [
             0,
             "#0d0887"
            ],
            [
             0.1111111111111111,
             "#46039f"
            ],
            [
             0.2222222222222222,
             "#7201a8"
            ],
            [
             0.3333333333333333,
             "#9c179e"
            ],
            [
             0.4444444444444444,
             "#bd3786"
            ],
            [
             0.5555555555555556,
             "#d8576b"
            ],
            [
             0.6666666666666666,
             "#ed7953"
            ],
            [
             0.7777777777777778,
             "#fb9f3a"
            ],
            [
             0.8888888888888888,
             "#fdca26"
            ],
            [
             1,
             "#f0f921"
            ]
           ],
           "sequentialminus": [
            [
             0,
             "#0d0887"
            ],
            [
             0.1111111111111111,
             "#46039f"
            ],
            [
             0.2222222222222222,
             "#7201a8"
            ],
            [
             0.3333333333333333,
             "#9c179e"
            ],
            [
             0.4444444444444444,
             "#bd3786"
            ],
            [
             0.5555555555555556,
             "#d8576b"
            ],
            [
             0.6666666666666666,
             "#ed7953"
            ],
            [
             0.7777777777777778,
             "#fb9f3a"
            ],
            [
             0.8888888888888888,
             "#fdca26"
            ],
            [
             1,
             "#f0f921"
            ]
           ]
          },
          "colorway": [
           "#636efa",
           "#EF553B",
           "#00cc96",
           "#ab63fa",
           "#FFA15A",
           "#19d3f3",
           "#FF6692",
           "#B6E880",
           "#FF97FF",
           "#FECB52"
          ],
          "font": {
           "color": "#2a3f5f"
          },
          "geo": {
           "bgcolor": "white",
           "lakecolor": "white",
           "landcolor": "#E5ECF6",
           "showlakes": true,
           "showland": true,
           "subunitcolor": "white"
          },
          "hoverlabel": {
           "align": "left"
          },
          "hovermode": "closest",
          "mapbox": {
           "style": "light"
          },
          "paper_bgcolor": "white",
          "plot_bgcolor": "#E5ECF6",
          "polar": {
           "angularaxis": {
            "gridcolor": "white",
            "linecolor": "white",
            "ticks": ""
           },
           "bgcolor": "#E5ECF6",
           "radialaxis": {
            "gridcolor": "white",
            "linecolor": "white",
            "ticks": ""
           }
          },
          "scene": {
           "xaxis": {
            "backgroundcolor": "#E5ECF6",
            "gridcolor": "white",
            "gridwidth": 2,
            "linecolor": "white",
            "showbackground": true,
            "ticks": "",
            "zerolinecolor": "white"
           },
           "yaxis": {
            "backgroundcolor": "#E5ECF6",
            "gridcolor": "white",
            "gridwidth": 2,
            "linecolor": "white",
            "showbackground": true,
            "ticks": "",
            "zerolinecolor": "white"
           },
           "zaxis": {
            "backgroundcolor": "#E5ECF6",
            "gridcolor": "white",
            "gridwidth": 2,
            "linecolor": "white",
            "showbackground": true,
            "ticks": "",
            "zerolinecolor": "white"
           }
          },
          "shapedefaults": {
           "line": {
            "color": "#2a3f5f"
           }
          },
          "ternary": {
           "aaxis": {
            "gridcolor": "white",
            "linecolor": "white",
            "ticks": ""
           },
           "baxis": {
            "gridcolor": "white",
            "linecolor": "white",
            "ticks": ""
           },
           "bgcolor": "#E5ECF6",
           "caxis": {
            "gridcolor": "white",
            "linecolor": "white",
            "ticks": ""
           }
          },
          "title": {
           "x": 0.05
          },
          "xaxis": {
           "automargin": true,
           "gridcolor": "white",
           "linecolor": "white",
           "ticks": "",
           "title": {
            "standoff": 15
           },
           "zerolinecolor": "white",
           "zerolinewidth": 2
          },
          "yaxis": {
           "automargin": true,
           "gridcolor": "white",
           "linecolor": "white",
           "ticks": "",
           "title": {
            "standoff": 15
           },
           "zerolinecolor": "white",
           "zerolinewidth": 2
          }
         }
        },
        "title": {
         "text": "Optimization History Plot"
        },
        "xaxis": {
         "title": {
          "text": "Trial"
         }
        },
        "yaxis": {
         "title": {
          "text": "Objective Value"
         }
        }
       }
      }
     },
     "metadata": {},
     "output_type": "display_data"
    },
    {
     "name": "stdout",
     "output_type": "stream",
     "text": [
      "MAPE for XGB regression testing: 0.15054574497582843\n"
     ]
    },
    {
     "data": {
      "image/png": "[encoded data removed]",
      "text/plain": [
       "<Figure size 432x288 with 1 Axes>"
      ]
     },
     "metadata": {
      "needs_background": "light"
     },
     "output_type": "display_data"
    }
   ],
   "source": [
    "### XGBoost\n",
    "import warnings\n",
    "import optuna\n",
    "from optuna.visualization import plot_optimization_history\n",
    "import plotly.io as pio\n",
    "import numpy as np\n",
    "from sklearn.model_selection import train_test_split, cross_val_score\n",
    "import xgboost as xgb\n",
    "\n",
    "# Ignore all warnings\n",
    "warnings.filterwarnings(\"ignore\")\n",
    "\n",
    "def xgboost_regressor(df, X_train, X_test, y_train, y_test):\n",
    "\n",
    "    def objective(trial):\n",
    "        param = {\n",
    "            'max_depth': trial.suggest_int('max_depth', 1, 10),\n",
    "            'learning_rate': trial.suggest_float('learning_rate', 0.01, 1.0),\n",
    "            'n_estimators': trial.suggest_int('n_estimators', 50, 1000),\n",
    "            'min_child_weight': trial.suggest_int('min_child_weight', 1, 10),\n",
    "            'gamma': trial.suggest_float('gamma', 0.01, 1.0),\n",
    "            'subsample': trial.suggest_float('subsample', 0.01, 1.0),\n",
    "            'colsample_bytree': trial.suggest_float('colsample_bytree', 0.01, 1.0),\n",
    "            'reg_alpha': trial.suggest_float('reg_alpha', 0.01, 1.0),\n",
    "            'reg_lambda': trial.suggest_float('reg_lambda', 0.01, 1.0),\n",
    "            'random_state': 42\n",
    "        }\n",
    "        model = xgb.XGBRegressor(**param)\n",
    "        scores = cross_val_score(model, X_train, y_train, \n",
    "                                 cv=KFold(n_splits=5,\n",
    "                                          shuffle=True,\n",
    "                                          random_state=42),\n",
    "                                 scoring='neg_mean_absolute_percentage_error'\n",
    "                                ) # Train set is split into 3 folds, the model is trained on 2 folds and evaluated on the remaining fold. This is repeated 3 times, and the average of the 3 scores is returned.\n",
    "        # Return the mean of 3 scores\n",
    "        return scores.mean()\n",
    "    \n",
    "    study = optuna.create_study(direction='maximize', study_name='XGBRegression')\n",
    "    study.optimize(objective, n_trials=10) # n_trials is the number of trials to run, each run is evaluated by cross validation score\n",
    "    \n",
    "    print('Best parameters for XGB regression', study.best_params)\n",
    "    print('Best MAPE score for XGB regression training:', -1*study.best_value)\n",
    "    \n",
    "    model = xgb.XGBRegressor(**study.best_params)\n",
    "    model.fit(X_train, y_train)\n",
    "    fig = plot_optimization_history(study)\n",
    "    pio.show(fig)\n",
    "    \n",
    "    y_pred = model.predict(X_test)\n",
    "    mape = mean_absolute_percentage_error(y_test, y_pred)\n",
    "    print(\"MAPE for XGB regression testing:\", mape)\n",
    "\n",
    "    return model\n",
    "\n",
    "def xgb_report(model, X_train, X_test, y_test, df):\n",
    "\n",
    "    ## Feature importance\n",
    "    xgb.plot_importance(model)\n",
    "    plt.show()\n",
    "\n",
    "model = xgboost_regressor(df, X_train, X_test, y_train, y_test)\n",
    "df['Prediction_XGB'] = model.predict(df[features])\n",
    "xgb_report(model, X_train, X_test, y_test, df)"
   ]
  },
  {
   "attachments": {},
   "cell_type": "markdown",
   "metadata": {},
   "source": [
    "### Light Gradient Boosting"
   ]
  },
  {
   "cell_type": "code",
   "execution_count": 100,
   "metadata": {},
   "outputs": [
    {
     "name": "stdout",
     "output_type": "stream",
     "text": [
      "[LightGBM] [Warning] lambda_l1 is set=10.0, reg_alpha=0.0 will be ignored. Current value: lambda_l1=10.0\n"
     ]
    },
    {
     "data": {
      "text/plain": [
       "LGBMRegressor(lambda_l1=10.0, metric='l2', objective='regression', seed=42,\n",
       "              verbosity=-1)"
      ]
     },
     "execution_count": 100,
     "metadata": {},
     "output_type": "execute_result"
    }
   ],
   "source": [
    "param = {\n",
    "            \"objective\": \"regression\",\n",
    "            \"metric\": 'l2',\n",
    "            \"verbosity\": -1,\n",
    "            #\"boosting_type\": \"gbdt\",                \n",
    "            \"seed\": 42,\n",
    "            'lambda_l1': 10.0,\n",
    "           \n",
    "        }\n",
    "model = lgb.LGBMRegressor(**param)\n",
    "model.fit(X_train, y_train)"
   ]
  },
  {
   "cell_type": "code",
   "execution_count": 105,
   "metadata": {},
   "outputs": [
    {
     "name": "stderr",
     "output_type": "stream",
     "text": [
      "\u001b[32m[I 2023-06-28 16:02:42,291]\u001b[0m A new study created in memory with name: LGBMRegression\u001b[0m\n",
      "\u001b[32m[I 2023-06-28 16:02:42,389]\u001b[0m Trial 0 finished with value: -0.15368369169968615 and parameters: {'metric': 'l1', 'lambda_l1': 5.190315903167964, 'lambda_l2': 0.41076859916896885, 'num_leaves': 26, 'feature_fraction': 0.5942973174722755, 'bagging_fraction': 0.25620008640466096, 'bagging_freq': 10, 'learning_rate': 0.989779559886912, 'num_boost_round': 191}. Best is trial 0 with value: -0.15368369169968615.\u001b[0m\n"
     ]
    },
    {
     "name": "stdout",
     "output_type": "stream",
     "text": [
      "[LightGBM] [Warning] feature_fraction is set=0.5942973174722755, colsample_bytree=1.0 will be ignored. Current value: feature_fraction=0.5942973174722755\n",
      "[LightGBM] [Warning] lambda_l1 is set=5.190315903167964, reg_alpha=0.0 will be ignored. Current value: lambda_l1=5.190315903167964\n",
      "[LightGBM] [Warning] bagging_fraction is set=0.25620008640466096, subsample=1.0 will be ignored. Current value: bagging_fraction=0.25620008640466096\n",
      "[LightGBM] [Warning] lambda_l2 is set=0.41076859916896885, reg_lambda=0.0 will be ignored. Current value: lambda_l2=0.41076859916896885\n",
      "[LightGBM] [Warning] bagging_freq is set=10, subsample_freq=0 will be ignored. Current value: bagging_freq=10\n",
      "[LightGBM] [Warning] num_iterations is set=191, num_boost_round=191 will be ignored. Current value: num_iterations=191\n",
      "[LightGBM] [Warning] feature_fraction is set=0.5942973174722755, colsample_bytree=1.0 will be ignored. Current value: feature_fraction=0.5942973174722755\n",
      "[LightGBM] [Warning] lambda_l1 is set=5.190315903167964, reg_alpha=0.0 will be ignored. Current value: lambda_l1=5.190315903167964\n",
      "[LightGBM] [Warning] bagging_fraction is set=0.25620008640466096, subsample=1.0 will be ignored. Current value: bagging_fraction=0.25620008640466096\n",
      "[LightGBM] [Warning] lambda_l2 is set=0.41076859916896885, reg_lambda=0.0 will be ignored. Current value: lambda_l2=0.41076859916896885\n",
      "[LightGBM] [Warning] bagging_freq is set=10, subsample_freq=0 will be ignored. Current value: bagging_freq=10\n",
      "[LightGBM] [Warning] num_iterations is set=191, num_boost_round=191 will be ignored. Current value: num_iterations=191\n",
      "[LightGBM] [Warning] feature_fraction is set=0.5942973174722755, colsample_bytree=1.0 will be ignored. Current value: feature_fraction=0.5942973174722755\n",
      "[LightGBM] [Warning] lambda_l1 is set=5.190315903167964, reg_alpha=0.0 will be ignored. Current value: lambda_l1=5.190315903167964\n",
      "[LightGBM] [Warning] bagging_fraction is set=0.25620008640466096, subsample=1.0 will be ignored. Current value: bagging_fraction=0.25620008640466096\n",
      "[LightGBM] [Warning] lambda_l2 is set=0.41076859916896885, reg_lambda=0.0 will be ignored. Current value: lambda_l2=0.41076859916896885\n",
      "[LightGBM] [Warning] bagging_freq is set=10, subsample_freq=0 will be ignored. Current value: bagging_freq=10\n",
      "[LightGBM] [Warning] num_iterations is set=191, num_boost_round=191 will be ignored. Current value: num_iterations=191\n",
      "[LightGBM] [Warning] feature_fraction is set=0.5942973174722755, colsample_bytree=1.0 will be ignored. Current value: feature_fraction=0.5942973174722755\n",
      "[LightGBM] [Warning] lambda_l1 is set=5.190315903167964, reg_alpha=0.0 will be ignored. Current value: lambda_l1=5.190315903167964\n",
      "[LightGBM] [Warning] bagging_fraction is set=0.25620008640466096, subsample=1.0 will be ignored. Current value: bagging_fraction=0.25620008640466096\n",
      "[LightGBM] [Warning] lambda_l2 is set=0.41076859916896885, reg_lambda=0.0 will be ignored. Current value: lambda_l2=0.41076859916896885\n",
      "[LightGBM] [Warning] bagging_freq is set=10, subsample_freq=0 will be ignored. Current value: bagging_freq=10\n",
      "[LightGBM] [Warning] num_iterations is set=191, num_boost_round=191 will be ignored. Current value: num_iterations=191\n",
      "[LightGBM] [Warning] feature_fraction is set=0.5942973174722755, colsample_bytree=1.0 will be ignored. Current value: feature_fraction=0.5942973174722755\n",
      "[LightGBM] [Warning] lambda_l1 is set=5.190315903167964, reg_alpha=0.0 will be ignored. Current value: lambda_l1=5.190315903167964\n",
      "[LightGBM] [Warning] bagging_fraction is set=0.25620008640466096, subsample=1.0 will be ignored. Current value: bagging_fraction=0.25620008640466096\n",
      "[LightGBM] [Warning] lambda_l2 is set=0.41076859916896885, reg_lambda=0.0 will be ignored. Current value: lambda_l2=0.41076859916896885\n",
      "[LightGBM] [Warning] bagging_freq is set=10, subsample_freq=0 will be ignored. Current value: bagging_freq=10\n",
      "[LightGBM] [Warning] num_iterations is set=191, num_boost_round=191 will be ignored. Current value: num_iterations=191\n",
      "[LightGBM] [Warning] feature_fraction is set=0.7452681877848983, colsample_bytree=1.0 will be ignored. Current value: feature_fraction=0.7452681877848983\n",
      "[LightGBM] [Warning] lambda_l1 is set=1.997697972059695, reg_alpha=0.0 will be ignored. Current value: lambda_l1=1.997697972059695\n",
      "[LightGBM] [Warning] bagging_fraction is set=0.5189621454616408, subsample=1.0 will be ignored. Current value: bagging_fraction=0.5189621454616408\n",
      "[LightGBM] [Warning] lambda_l2 is set=6.4507052430003, reg_lambda=0.0 will be ignored. Current value: lambda_l2=6.4507052430003\n",
      "[LightGBM] [Warning] bagging_freq is set=5, subsample_freq=0 will be ignored. Current value: bagging_freq=5\n",
      "[LightGBM] [Warning] num_iterations is set=125, num_boost_round=125 will be ignored. Current value: num_iterations=125\n",
      "[LightGBM] [Warning] feature_fraction is set=0.7452681877848983, colsample_bytree=1.0 will be ignored. Current value: feature_fraction=0.7452681877848983\n",
      "[LightGBM] [Warning] lambda_l1 is set=1.997697972059695, reg_alpha=0.0 will be ignored. Current value: lambda_l1=1.997697972059695\n",
      "[LightGBM] [Warning] bagging_fraction is set=0.5189621454616408, subsample=1.0 will be ignored. Current value: bagging_fraction=0.5189621454616408\n",
      "[LightGBM] [Warning] lambda_l2 is set=6.4507052430003, reg_lambda=0.0 will be ignored. Current value: lambda_l2=6.4507052430003\n",
      "[LightGBM] [Warning] bagging_freq is set=5, subsample_freq=0 will be ignored. Current value: bagging_freq=5\n",
      "[LightGBM] [Warning] num_iterations is set=125, num_boost_round=125 will be ignored. Current value: num_iterations=125\n",
      "[LightGBM] [Warning] feature_fraction is set=0.7452681877848983, colsample_bytree=1.0 will be ignored. Current value: feature_fraction=0.7452681877848983\n",
      "[LightGBM] [Warning] lambda_l1 is set=1.997697972059695, reg_alpha=0.0 will be ignored. Current value: lambda_l1=1.997697972059695\n",
      "[LightGBM] [Warning] bagging_fraction is set=0.5189621454616408, subsample=1.0 will be ignored. Current value: bagging_fraction=0.5189621454616408\n",
      "[LightGBM] [Warning] lambda_l2 is set=6.4507052430003, reg_lambda=0.0 will be ignored. Current value: lambda_l2=6.4507052430003\n",
      "[LightGBM] [Warning] bagging_freq is set=5, subsample_freq=0 will be ignored. Current value: bagging_freq=5\n",
      "[LightGBM] [Warning] num_iterations is set=125, num_boost_round=125 will be ignored. Current value: num_iterations=125\n",
      "[LightGBM] [Warning] feature_fraction is set=0.7452681877848983, colsample_bytree=1.0 will be ignored. Current value: feature_fraction=0.7452681877848983\n",
      "[LightGBM] [Warning] lambda_l1 is set=1.997697972059695, reg_alpha=0.0 will be ignored. Current value: lambda_l1=1.997697972059695\n",
      "[LightGBM] [Warning] bagging_fraction is set=0.5189621454616408, subsample=1.0 will be ignored. Current value: bagging_fraction=0.5189621454616408\n",
      "[LightGBM] [Warning] lambda_l2 is set=6.4507052430003, reg_lambda=0.0 will be ignored. Current value: lambda_l2=6.4507052430003\n",
      "[LightGBM] [Warning] bagging_freq is set=5, subsample_freq=0 will be ignored. Current value: bagging_freq=5\n",
      "[LightGBM] [Warning] num_iterations is set=125, num_boost_round=125 will be ignored. Current value: num_iterations=125\n",
      "[LightGBM] [Warning] feature_fraction is set=0.7452681877848983, colsample_bytree=1.0 will be ignored. Current value: feature_fraction=0.7452681877848983\n"
     ]
    },
    {
     "name": "stderr",
     "output_type": "stream",
     "text": [
      "\u001b[32m[I 2023-06-28 16:02:42,520]\u001b[0m Trial 1 finished with value: -0.1459882597749916 and parameters: {'metric': 'l2', 'lambda_l1': 1.997697972059695, 'lambda_l2': 6.4507052430003, 'num_leaves': 43, 'feature_fraction': 0.7452681877848983, 'bagging_fraction': 0.5189621454616408, 'bagging_freq': 5, 'learning_rate': 0.16350068613191962, 'num_boost_round': 125}. Best is trial 1 with value: -0.1459882597749916.\u001b[0m\n",
      "\u001b[32m[I 2023-06-28 16:02:42,669]\u001b[0m Trial 2 finished with value: -0.154921656979967 and parameters: {'metric': 'l1', 'lambda_l1': 1.1537800993959118, 'lambda_l2': 9.14558727938969, 'num_leaves': 7, 'feature_fraction': 0.6779706648696198, 'bagging_fraction': 0.4081604356849797, 'bagging_freq': 9, 'learning_rate': 0.6536919210549103, 'num_boost_round': 106}. Best is trial 1 with value: -0.1459882597749916.\u001b[0m\n"
     ]
    },
    {
     "name": "stdout",
     "output_type": "stream",
     "text": [
      "[LightGBM] [Warning] lambda_l1 is set=1.997697972059695, reg_alpha=0.0 will be ignored. Current value: lambda_l1=1.997697972059695\n",
      "[LightGBM] [Warning] bagging_fraction is set=0.5189621454616408, subsample=1.0 will be ignored. Current value: bagging_fraction=0.5189621454616408\n",
      "[LightGBM] [Warning] lambda_l2 is set=6.4507052430003, reg_lambda=0.0 will be ignored. Current value: lambda_l2=6.4507052430003\n",
      "[LightGBM] [Warning] bagging_freq is set=5, subsample_freq=0 will be ignored. Current value: bagging_freq=5\n",
      "[LightGBM] [Warning] num_iterations is set=125, num_boost_round=125 will be ignored. Current value: num_iterations=125\n",
      "[LightGBM] [Warning] feature_fraction is set=0.6779706648696198, colsample_bytree=1.0 will be ignored. Current value: feature_fraction=0.6779706648696198\n",
      "[LightGBM] [Warning] lambda_l1 is set=1.1537800993959118, reg_alpha=0.0 will be ignored. Current value: lambda_l1=1.1537800993959118\n",
      "[LightGBM] [Warning] bagging_fraction is set=0.4081604356849797, subsample=1.0 will be ignored. Current value: bagging_fraction=0.4081604356849797\n",
      "[LightGBM] [Warning] lambda_l2 is set=9.14558727938969, reg_lambda=0.0 will be ignored. Current value: lambda_l2=9.14558727938969\n",
      "[LightGBM] [Warning] bagging_freq is set=9, subsample_freq=0 will be ignored. Current value: bagging_freq=9\n",
      "[LightGBM] [Warning] num_iterations is set=106, num_boost_round=106 will be ignored. Current value: num_iterations=106\n",
      "[LightGBM] [Warning] feature_fraction is set=0.6779706648696198, colsample_bytree=1.0 will be ignored. Current value: feature_fraction=0.6779706648696198\n",
      "[LightGBM] [Warning] lambda_l1 is set=1.1537800993959118, reg_alpha=0.0 will be ignored. Current value: lambda_l1=1.1537800993959118\n",
      "[LightGBM] [Warning] bagging_fraction is set=0.4081604356849797, subsample=1.0 will be ignored. Current value: bagging_fraction=0.4081604356849797\n",
      "[LightGBM] [Warning] lambda_l2 is set=9.14558727938969, reg_lambda=0.0 will be ignored. Current value: lambda_l2=9.14558727938969\n",
      "[LightGBM] [Warning] bagging_freq is set=9, subsample_freq=0 will be ignored. Current value: bagging_freq=9\n",
      "[LightGBM] [Warning] num_iterations is set=106, num_boost_round=106 will be ignored. Current value: num_iterations=106\n",
      "[LightGBM] [Warning] feature_fraction is set=0.6779706648696198, colsample_bytree=1.0 will be ignored. Current value: feature_fraction=0.6779706648696198\n",
      "[LightGBM] [Warning] lambda_l1 is set=1.1537800993959118, reg_alpha=0.0 will be ignored. Current value: lambda_l1=1.1537800993959118\n",
      "[LightGBM] [Warning] bagging_fraction is set=0.4081604356849797, subsample=1.0 will be ignored. Current value: bagging_fraction=0.4081604356849797\n",
      "[LightGBM] [Warning] lambda_l2 is set=9.14558727938969, reg_lambda=0.0 will be ignored. Current value: lambda_l2=9.14558727938969\n",
      "[LightGBM] [Warning] bagging_freq is set=9, subsample_freq=0 will be ignored. Current value: bagging_freq=9\n",
      "[LightGBM] [Warning] num_iterations is set=106, num_boost_round=106 will be ignored. Current value: num_iterations=106\n",
      "[LightGBM] [Warning] feature_fraction is set=0.6779706648696198, colsample_bytree=1.0 will be ignored. Current value: feature_fraction=0.6779706648696198\n",
      "[LightGBM] [Warning] lambda_l1 is set=1.1537800993959118, reg_alpha=0.0 will be ignored. Current value: lambda_l1=1.1537800993959118\n",
      "[LightGBM] [Warning] bagging_fraction is set=0.4081604356849797, subsample=1.0 will be ignored. Current value: bagging_fraction=0.4081604356849797\n",
      "[LightGBM] [Warning] lambda_l2 is set=9.14558727938969, reg_lambda=0.0 will be ignored. Current value: lambda_l2=9.14558727938969\n",
      "[LightGBM] [Warning] bagging_freq is set=9, subsample_freq=0 will be ignored. Current value: bagging_freq=9\n",
      "[LightGBM] [Warning] num_iterations is set=106, num_boost_round=106 will be ignored. Current value: num_iterations=106\n",
      "[LightGBM] [Warning] feature_fraction is set=0.6779706648696198, colsample_bytree=1.0 will be ignored. Current value: feature_fraction=0.6779706648696198\n",
      "[LightGBM] [Warning] lambda_l1 is set=1.1537800993959118, reg_alpha=0.0 will be ignored. Current value: lambda_l1=1.1537800993959118\n",
      "[LightGBM] [Warning] bagging_fraction is set=0.4081604356849797, subsample=1.0 will be ignored. Current value: bagging_fraction=0.4081604356849797\n",
      "[LightGBM] [Warning] lambda_l2 is set=9.14558727938969, reg_lambda=0.0 will be ignored. Current value: lambda_l2=9.14558727938969\n",
      "[LightGBM] [Warning] bagging_freq is set=9, subsample_freq=0 will be ignored. Current value: bagging_freq=9\n",
      "[LightGBM] [Warning] num_iterations is set=106, num_boost_round=106 will be ignored. Current value: num_iterations=106\n",
      "[LightGBM] [Warning] feature_fraction is set=0.4695391801288221, colsample_bytree=1.0 will be ignored. Current value: feature_fraction=0.4695391801288221\n",
      "[LightGBM] [Warning] lambda_l1 is set=9.249390796690909, reg_alpha=0.0 will be ignored. Current value: lambda_l1=9.249390796690909\n",
      "[LightGBM] [Warning] bagging_fraction is set=0.3899533760920876, subsample=1.0 will be ignored. Current value: bagging_fraction=0.3899533760920876\n",
      "[LightGBM] [Warning] lambda_l2 is set=6.356815437193974, reg_lambda=0.0 will be ignored. Current value: lambda_l2=6.356815437193974\n",
      "[LightGBM] [Warning] bagging_freq is set=7, subsample_freq=0 will be ignored. Current value: bagging_freq=7\n",
      "[LightGBM] [Warning] num_iterations is set=136, num_boost_round=136 will be ignored. Current value: num_iterations=136\n"
     ]
    },
    {
     "name": "stderr",
     "output_type": "stream",
     "text": [
      "\u001b[32m[I 2023-06-28 16:02:42,781]\u001b[0m Trial 3 finished with value: -0.15244339254149578 and parameters: {'metric': 'l2', 'lambda_l1': 9.249390796690909, 'lambda_l2': 6.356815437193974, 'num_leaves': 52, 'feature_fraction': 0.4695391801288221, 'bagging_fraction': 0.3899533760920876, 'bagging_freq': 7, 'learning_rate': 0.6842219655204004, 'num_boost_round': 136}. Best is trial 1 with value: -0.1459882597749916.\u001b[0m\n",
      "\u001b[32m[I 2023-06-28 16:02:42,855]\u001b[0m Trial 4 finished with value: -0.1468025680319644 and parameters: {'metric': 'l2', 'lambda_l1': 4.017979996834787, 'lambda_l2': 6.620886581803897, 'num_leaves': 60, 'feature_fraction': 0.6303789480911186, 'bagging_fraction': 0.51533886227646, 'bagging_freq': 12, 'learning_rate': 0.32612643120887475, 'num_boost_round': 36}. Best is trial 1 with value: -0.1459882597749916.\u001b[0m\n"
     ]
    },
    {
     "name": "stdout",
     "output_type": "stream",
     "text": [
      "[LightGBM] [Warning] feature_fraction is set=0.4695391801288221, colsample_bytree=1.0 will be ignored. Current value: feature_fraction=0.4695391801288221\n",
      "[LightGBM] [Warning] lambda_l1 is set=9.249390796690909, reg_alpha=0.0 will be ignored. Current value: lambda_l1=9.249390796690909\n",
      "[LightGBM] [Warning] bagging_fraction is set=0.3899533760920876, subsample=1.0 will be ignored. Current value: bagging_fraction=0.3899533760920876\n",
      "[LightGBM] [Warning] lambda_l2 is set=6.356815437193974, reg_lambda=0.0 will be ignored. Current value: lambda_l2=6.356815437193974\n",
      "[LightGBM] [Warning] bagging_freq is set=7, subsample_freq=0 will be ignored. Current value: bagging_freq=7\n",
      "[LightGBM] [Warning] num_iterations is set=136, num_boost_round=136 will be ignored. Current value: num_iterations=136\n",
      "[LightGBM] [Warning] feature_fraction is set=0.4695391801288221, colsample_bytree=1.0 will be ignored. Current value: feature_fraction=0.4695391801288221\n",
      "[LightGBM] [Warning] lambda_l1 is set=9.249390796690909, reg_alpha=0.0 will be ignored. Current value: lambda_l1=9.249390796690909\n",
      "[LightGBM] [Warning] bagging_fraction is set=0.3899533760920876, subsample=1.0 will be ignored. Current value: bagging_fraction=0.3899533760920876\n",
      "[LightGBM] [Warning] lambda_l2 is set=6.356815437193974, reg_lambda=0.0 will be ignored. Current value: lambda_l2=6.356815437193974\n",
      "[LightGBM] [Warning] bagging_freq is set=7, subsample_freq=0 will be ignored. Current value: bagging_freq=7\n",
      "[LightGBM] [Warning] num_iterations is set=136, num_boost_round=136 will be ignored. Current value: num_iterations=136\n",
      "[LightGBM] [Warning] feature_fraction is set=0.4695391801288221, colsample_bytree=1.0 will be ignored. Current value: feature_fraction=0.4695391801288221\n",
      "[LightGBM] [Warning] lambda_l1 is set=9.249390796690909, reg_alpha=0.0 will be ignored. Current value: lambda_l1=9.249390796690909\n",
      "[LightGBM] [Warning] bagging_fraction is set=0.3899533760920876, subsample=1.0 will be ignored. Current value: bagging_fraction=0.3899533760920876\n",
      "[LightGBM] [Warning] lambda_l2 is set=6.356815437193974, reg_lambda=0.0 will be ignored. Current value: lambda_l2=6.356815437193974\n",
      "[LightGBM] [Warning] bagging_freq is set=7, subsample_freq=0 will be ignored. Current value: bagging_freq=7\n",
      "[LightGBM] [Warning] num_iterations is set=136, num_boost_round=136 will be ignored. Current value: num_iterations=136\n",
      "[LightGBM] [Warning] feature_fraction is set=0.4695391801288221, colsample_bytree=1.0 will be ignored. Current value: feature_fraction=0.4695391801288221\n",
      "[LightGBM] [Warning] lambda_l1 is set=9.249390796690909, reg_alpha=0.0 will be ignored. Current value: lambda_l1=9.249390796690909\n",
      "[LightGBM] [Warning] bagging_fraction is set=0.3899533760920876, subsample=1.0 will be ignored. Current value: bagging_fraction=0.3899533760920876\n",
      "[LightGBM] [Warning] lambda_l2 is set=6.356815437193974, reg_lambda=0.0 will be ignored. Current value: lambda_l2=6.356815437193974\n",
      "[LightGBM] [Warning] bagging_freq is set=7, subsample_freq=0 will be ignored. Current value: bagging_freq=7\n",
      "[LightGBM] [Warning] num_iterations is set=136, num_boost_round=136 will be ignored. Current value: num_iterations=136\n",
      "[LightGBM] [Warning] feature_fraction is set=0.6303789480911186, colsample_bytree=1.0 will be ignored. Current value: feature_fraction=0.6303789480911186\n",
      "[LightGBM] [Warning] lambda_l1 is set=4.017979996834787, reg_alpha=0.0 will be ignored. Current value: lambda_l1=4.017979996834787\n",
      "[LightGBM] [Warning] bagging_fraction is set=0.51533886227646, subsample=1.0 will be ignored. Current value: bagging_fraction=0.51533886227646\n",
      "[LightGBM] [Warning] lambda_l2 is set=6.620886581803897, reg_lambda=0.0 will be ignored. Current value: lambda_l2=6.620886581803897\n",
      "[LightGBM] [Warning] bagging_freq is set=12, subsample_freq=0 will be ignored. Current value: bagging_freq=12\n",
      "[LightGBM] [Warning] num_iterations is set=36, num_boost_round=36 will be ignored. Current value: num_iterations=36\n",
      "[LightGBM] [Warning] feature_fraction is set=0.6303789480911186, colsample_bytree=1.0 will be ignored. Current value: feature_fraction=0.6303789480911186\n",
      "[LightGBM] [Warning] lambda_l1 is set=4.017979996834787, reg_alpha=0.0 will be ignored. Current value: lambda_l1=4.017979996834787\n",
      "[LightGBM] [Warning] bagging_fraction is set=0.51533886227646, subsample=1.0 will be ignored. Current value: bagging_fraction=0.51533886227646\n",
      "[LightGBM] [Warning] lambda_l2 is set=6.620886581803897, reg_lambda=0.0 will be ignored. Current value: lambda_l2=6.620886581803897\n",
      "[LightGBM] [Warning] bagging_freq is set=12, subsample_freq=0 will be ignored. Current value: bagging_freq=12\n",
      "[LightGBM] [Warning] num_iterations is set=36, num_boost_round=36 will be ignored. Current value: num_iterations=36\n",
      "[LightGBM] [Warning] feature_fraction is set=0.6303789480911186, colsample_bytree=1.0 will be ignored. Current value: feature_fraction=0.6303789480911186\n",
      "[LightGBM] [Warning] lambda_l1 is set=4.017979996834787, reg_alpha=0.0 will be ignored. Current value: lambda_l1=4.017979996834787\n",
      "[LightGBM] [Warning] bagging_fraction is set=0.51533886227646, subsample=1.0 will be ignored. Current value: bagging_fraction=0.51533886227646\n",
      "[LightGBM] [Warning] lambda_l2 is set=6.620886581803897, reg_lambda=0.0 will be ignored. Current value: lambda_l2=6.620886581803897\n",
      "[LightGBM] [Warning] bagging_freq is set=12, subsample_freq=0 will be ignored. Current value: bagging_freq=12\n",
      "[LightGBM] [Warning] num_iterations is set=36, num_boost_round=36 will be ignored. Current value: num_iterations=36\n",
      "[LightGBM] [Warning] feature_fraction is set=0.6303789480911186, colsample_bytree=1.0 will be ignored. Current value: feature_fraction=0.6303789480911186\n",
      "[LightGBM] [Warning] lambda_l1 is set=4.017979996834787, reg_alpha=0.0 will be ignored. Current value: lambda_l1=4.017979996834787\n",
      "[LightGBM] [Warning] bagging_fraction is set=0.51533886227646, subsample=1.0 will be ignored. Current value: bagging_fraction=0.51533886227646\n",
      "[LightGBM] [Warning] lambda_l2 is set=6.620886581803897, reg_lambda=0.0 will be ignored. Current value: lambda_l2=6.620886581803897\n",
      "[LightGBM] [Warning] bagging_freq is set=12, subsample_freq=0 will be ignored. Current value: bagging_freq=12\n",
      "[LightGBM] [Warning] num_iterations is set=36, num_boost_round=36 will be ignored. Current value: num_iterations=36\n",
      "[LightGBM] [Warning] feature_fraction is set=0.6303789480911186, colsample_bytree=1.0 will be ignored. Current value: feature_fraction=0.6303789480911186\n",
      "[LightGBM] [Warning] lambda_l1 is set=4.017979996834787, reg_alpha=0.0 will be ignored. Current value: lambda_l1=4.017979996834787\n",
      "[LightGBM] [Warning] bagging_fraction is set=0.51533886227646, subsample=1.0 will be ignored. Current value: bagging_fraction=0.51533886227646\n",
      "[LightGBM] [Warning] lambda_l2 is set=6.620886581803897, reg_lambda=0.0 will be ignored. Current value: lambda_l2=6.620886581803897\n",
      "[LightGBM] [Warning] bagging_freq is set=12, subsample_freq=0 will be ignored. Current value: bagging_freq=12\n",
      "[LightGBM] [Warning] num_iterations is set=36, num_boost_round=36 will be ignored. Current value: num_iterations=36\n",
      "[LightGBM] [Warning] feature_fraction is set=0.6749212027644612, colsample_bytree=1.0 will be ignored. Current value: feature_fraction=0.6749212027644612\n",
      "[LightGBM] [Warning] lambda_l1 is set=8.271734984602864, reg_alpha=0.0 will be ignored. Current value: lambda_l1=8.271734984602864\n",
      "[LightGBM] [Warning] bagging_fraction is set=0.16058303090479684, subsample=1.0 will be ignored. Current value: bagging_fraction=0.16058303090479684\n",
      "[LightGBM] [Warning] lambda_l2 is set=0.7534569052269331, reg_lambda=0.0 will be ignored. Current value: lambda_l2=0.7534569052269331\n",
      "[LightGBM] [Warning] bagging_freq is set=14, subsample_freq=0 will be ignored. Current value: bagging_freq=14\n",
      "[LightGBM] [Warning] num_iterations is set=62, num_boost_round=62 will be ignored. Current value: num_iterations=62\n",
      "[LightGBM] [Warning] feature_fraction is set=0.6749212027644612, colsample_bytree=1.0 will be ignored. Current value: feature_fraction=0.6749212027644612\n",
      "[LightGBM] [Warning] lambda_l1 is set=8.271734984602864, reg_alpha=0.0 will be ignored. Current value: lambda_l1=8.271734984602864\n",
      "[LightGBM] [Warning] bagging_fraction is set=0.16058303090479684, subsample=1.0 will be ignored. Current value: bagging_fraction=0.16058303090479684\n",
      "[LightGBM] [Warning] lambda_l2 is set=0.7534569052269331, reg_lambda=0.0 will be ignored. Current value: lambda_l2=0.7534569052269331\n",
      "[LightGBM] [Warning] bagging_freq is set=14, subsample_freq=0 will be ignored. Current value: bagging_freq=14\n",
      "[LightGBM] [Warning] num_iterations is set=62, num_boost_round=62 will be ignored. Current value: num_iterations=62\n",
      "[LightGBM] [Warning] feature_fraction is set=0.6749212027644612, colsample_bytree=1.0 will be ignored. Current value: feature_fraction=0.6749212027644612\n"
     ]
    },
    {
     "name": "stderr",
     "output_type": "stream",
     "text": [
      "\u001b[32m[I 2023-06-28 16:02:42,924]\u001b[0m Trial 5 finished with value: -0.1548049941871771 and parameters: {'metric': 'l1', 'lambda_l1': 8.271734984602864, 'lambda_l2': 0.7534569052269331, 'num_leaves': 3, 'feature_fraction': 0.6749212027644612, 'bagging_fraction': 0.16058303090479684, 'bagging_freq': 14, 'learning_rate': 0.41610247880138373, 'num_boost_round': 62}. Best is trial 1 with value: -0.1459882597749916.\u001b[0m\n",
      "\u001b[32m[I 2023-06-28 16:02:43,028]\u001b[0m Trial 6 finished with value: -0.14896292169453912 and parameters: {'metric': 'l1', 'lambda_l1': 3.7683201788564125, 'lambda_l2': 5.001838086982134, 'num_leaves': 11, 'feature_fraction': 0.7034484493387557, 'bagging_fraction': 0.5280764579753424, 'bagging_freq': 15, 'learning_rate': 0.4590465842754895, 'num_boost_round': 64}. Best is trial 1 with value: -0.1459882597749916.\u001b[0m\n"
     ]
    },
    {
     "name": "stdout",
     "output_type": "stream",
     "text": [
      "[LightGBM] [Warning] lambda_l1 is set=8.271734984602864, reg_alpha=0.0 will be ignored. Current value: lambda_l1=8.271734984602864\n",
      "[LightGBM] [Warning] bagging_fraction is set=0.16058303090479684, subsample=1.0 will be ignored. Current value: bagging_fraction=0.16058303090479684\n",
      "[LightGBM] [Warning] lambda_l2 is set=0.7534569052269331, reg_lambda=0.0 will be ignored. Current value: lambda_l2=0.7534569052269331\n",
      "[LightGBM] [Warning] bagging_freq is set=14, subsample_freq=0 will be ignored. Current value: bagging_freq=14\n",
      "[LightGBM] [Warning] num_iterations is set=62, num_boost_round=62 will be ignored. Current value: num_iterations=62\n",
      "[LightGBM] [Warning] feature_fraction is set=0.6749212027644612, colsample_bytree=1.0 will be ignored. Current value: feature_fraction=0.6749212027644612\n",
      "[LightGBM] [Warning] lambda_l1 is set=8.271734984602864, reg_alpha=0.0 will be ignored. Current value: lambda_l1=8.271734984602864\n",
      "[LightGBM] [Warning] bagging_fraction is set=0.16058303090479684, subsample=1.0 will be ignored. Current value: bagging_fraction=0.16058303090479684\n",
      "[LightGBM] [Warning] lambda_l2 is set=0.7534569052269331, reg_lambda=0.0 will be ignored. Current value: lambda_l2=0.7534569052269331\n",
      "[LightGBM] [Warning] bagging_freq is set=14, subsample_freq=0 will be ignored. Current value: bagging_freq=14\n",
      "[LightGBM] [Warning] num_iterations is set=62, num_boost_round=62 will be ignored. Current value: num_iterations=62\n",
      "[LightGBM] [Warning] feature_fraction is set=0.6749212027644612, colsample_bytree=1.0 will be ignored. Current value: feature_fraction=0.6749212027644612\n",
      "[LightGBM] [Warning] lambda_l1 is set=8.271734984602864, reg_alpha=0.0 will be ignored. Current value: lambda_l1=8.271734984602864\n",
      "[LightGBM] [Warning] bagging_fraction is set=0.16058303090479684, subsample=1.0 will be ignored. Current value: bagging_fraction=0.16058303090479684\n",
      "[LightGBM] [Warning] lambda_l2 is set=0.7534569052269331, reg_lambda=0.0 will be ignored. Current value: lambda_l2=0.7534569052269331\n",
      "[LightGBM] [Warning] bagging_freq is set=14, subsample_freq=0 will be ignored. Current value: bagging_freq=14\n",
      "[LightGBM] [Warning] num_iterations is set=62, num_boost_round=62 will be ignored. Current value: num_iterations=62\n",
      "[LightGBM] [Warning] feature_fraction is set=0.7034484493387557, colsample_bytree=1.0 will be ignored. Current value: feature_fraction=0.7034484493387557\n",
      "[LightGBM] [Warning] lambda_l1 is set=3.7683201788564125, reg_alpha=0.0 will be ignored. Current value: lambda_l1=3.7683201788564125\n",
      "[LightGBM] [Warning] bagging_fraction is set=0.5280764579753424, subsample=1.0 will be ignored. Current value: bagging_fraction=0.5280764579753424\n",
      "[LightGBM] [Warning] lambda_l2 is set=5.001838086982134, reg_lambda=0.0 will be ignored. Current value: lambda_l2=5.001838086982134\n",
      "[LightGBM] [Warning] bagging_freq is set=15, subsample_freq=0 will be ignored. Current value: bagging_freq=15\n",
      "[LightGBM] [Warning] num_iterations is set=64, num_boost_round=64 will be ignored. Current value: num_iterations=64\n",
      "[LightGBM] [Warning] feature_fraction is set=0.7034484493387557, colsample_bytree=1.0 will be ignored. Current value: feature_fraction=0.7034484493387557\n",
      "[LightGBM] [Warning] lambda_l1 is set=3.7683201788564125, reg_alpha=0.0 will be ignored. Current value: lambda_l1=3.7683201788564125\n",
      "[LightGBM] [Warning] bagging_fraction is set=0.5280764579753424, subsample=1.0 will be ignored. Current value: bagging_fraction=0.5280764579753424\n",
      "[LightGBM] [Warning] lambda_l2 is set=5.001838086982134, reg_lambda=0.0 will be ignored. Current value: lambda_l2=5.001838086982134\n",
      "[LightGBM] [Warning] bagging_freq is set=15, subsample_freq=0 will be ignored. Current value: bagging_freq=15\n",
      "[LightGBM] [Warning] num_iterations is set=64, num_boost_round=64 will be ignored. Current value: num_iterations=64\n",
      "[LightGBM] [Warning] feature_fraction is set=0.7034484493387557, colsample_bytree=1.0 will be ignored. Current value: feature_fraction=0.7034484493387557\n",
      "[LightGBM] [Warning] lambda_l1 is set=3.7683201788564125, reg_alpha=0.0 will be ignored. Current value: lambda_l1=3.7683201788564125\n",
      "[LightGBM] [Warning] bagging_fraction is set=0.5280764579753424, subsample=1.0 will be ignored. Current value: bagging_fraction=0.5280764579753424\n",
      "[LightGBM] [Warning] lambda_l2 is set=5.001838086982134, reg_lambda=0.0 will be ignored. Current value: lambda_l2=5.001838086982134\n",
      "[LightGBM] [Warning] bagging_freq is set=15, subsample_freq=0 will be ignored. Current value: bagging_freq=15\n",
      "[LightGBM] [Warning] num_iterations is set=64, num_boost_round=64 will be ignored. Current value: num_iterations=64\n",
      "[LightGBM] [Warning] feature_fraction is set=0.7034484493387557, colsample_bytree=1.0 will be ignored. Current value: feature_fraction=0.7034484493387557\n",
      "[LightGBM] [Warning] lambda_l1 is set=3.7683201788564125, reg_alpha=0.0 will be ignored. Current value: lambda_l1=3.7683201788564125\n",
      "[LightGBM] [Warning] bagging_fraction is set=0.5280764579753424, subsample=1.0 will be ignored. Current value: bagging_fraction=0.5280764579753424\n",
      "[LightGBM] [Warning] lambda_l2 is set=5.001838086982134, reg_lambda=0.0 will be ignored. Current value: lambda_l2=5.001838086982134\n",
      "[LightGBM] [Warning] bagging_freq is set=15, subsample_freq=0 will be ignored. Current value: bagging_freq=15\n",
      "[LightGBM] [Warning] num_iterations is set=64, num_boost_round=64 will be ignored. Current value: num_iterations=64\n",
      "[LightGBM] [Warning] feature_fraction is set=0.7034484493387557, colsample_bytree=1.0 will be ignored. Current value: feature_fraction=0.7034484493387557\n",
      "[LightGBM] [Warning] lambda_l1 is set=3.7683201788564125, reg_alpha=0.0 will be ignored. Current value: lambda_l1=3.7683201788564125\n",
      "[LightGBM] [Warning] bagging_fraction is set=0.5280764579753424, subsample=1.0 will be ignored. Current value: bagging_fraction=0.5280764579753424\n",
      "[LightGBM] [Warning] lambda_l2 is set=5.001838086982134, reg_lambda=0.0 will be ignored. Current value: lambda_l2=5.001838086982134\n",
      "[LightGBM] [Warning] bagging_freq is set=15, subsample_freq=0 will be ignored. Current value: bagging_freq=15\n",
      "[LightGBM] [Warning] num_iterations is set=64, num_boost_round=64 will be ignored. Current value: num_iterations=64\n",
      "[LightGBM] [Warning] feature_fraction is set=0.5293504396571986, colsample_bytree=1.0 will be ignored. Current value: feature_fraction=0.5293504396571986\n",
      "[LightGBM] [Warning] lambda_l1 is set=0.6546395899454674, reg_alpha=0.0 will be ignored. Current value: lambda_l1=0.6546395899454674\n",
      "[LightGBM] [Warning] bagging_fraction is set=0.24952683053624594, subsample=1.0 will be ignored. Current value: bagging_fraction=0.24952683053624594\n",
      "[LightGBM] [Warning] lambda_l2 is set=8.177454785746624, reg_lambda=0.0 will be ignored. Current value: lambda_l2=8.177454785746624\n",
      "[LightGBM] [Warning] bagging_freq is set=3, subsample_freq=0 will be ignored. Current value: bagging_freq=3\n",
      "[LightGBM] [Warning] num_iterations is set=48, num_boost_round=48 will be ignored. Current value: num_iterations=48\n",
      "[LightGBM] [Warning] feature_fraction is set=0.5293504396571986, colsample_bytree=1.0 will be ignored. Current value: feature_fraction=0.5293504396571986\n",
      "[LightGBM] [Warning] lambda_l1 is set=0.6546395899454674, reg_alpha=0.0 will be ignored. Current value: lambda_l1=0.6546395899454674\n",
      "[LightGBM] [Warning] bagging_fraction is set=0.24952683053624594, subsample=1.0 will be ignored. Current value: bagging_fraction=0.24952683053624594\n",
      "[LightGBM] [Warning] lambda_l2 is set=8.177454785746624, reg_lambda=0.0 will be ignored. Current value: lambda_l2=8.177454785746624\n",
      "[LightGBM] [Warning] bagging_freq is set=3, subsample_freq=0 will be ignored. Current value: bagging_freq=3\n",
      "[LightGBM] [Warning] num_iterations is set=48, num_boost_round=48 will be ignored. Current value: num_iterations=48\n",
      "[LightGBM] [Warning] feature_fraction is set=0.5293504396571986, colsample_bytree=1.0 will be ignored. Current value: feature_fraction=0.5293504396571986\n",
      "[LightGBM] [Warning] lambda_l1 is set=0.6546395899454674, reg_alpha=0.0 will be ignored. Current value: lambda_l1=0.6546395899454674\n",
      "[LightGBM] [Warning] bagging_fraction is set=0.24952683053624594, subsample=1.0 will be ignored. Current value: bagging_fraction=0.24952683053624594\n",
      "[LightGBM] [Warning] lambda_l2 is set=8.177454785746624, reg_lambda=0.0 will be ignored. Current value: lambda_l2=8.177454785746624\n",
      "[LightGBM] [Warning] bagging_freq is set=3, subsample_freq=0 will be ignored. Current value: bagging_freq=3\n",
      "[LightGBM] [Warning] num_iterations is set=48, num_boost_round=48 will be ignored. Current value: num_iterations=48\n",
      "[LightGBM] [Warning] feature_fraction is set=0.5293504396571986, colsample_bytree=1.0 will be ignored. Current value: feature_fraction=0.5293504396571986\n"
     ]
    },
    {
     "name": "stderr",
     "output_type": "stream",
     "text": [
      "\u001b[32m[I 2023-06-28 16:02:43,103]\u001b[0m Trial 7 finished with value: -0.1569858970575276 and parameters: {'metric': 'l2', 'lambda_l1': 0.6546395899454674, 'lambda_l2': 8.177454785746624, 'num_leaves': 4, 'feature_fraction': 0.5293504396571986, 'bagging_fraction': 0.24952683053624594, 'bagging_freq': 3, 'learning_rate': 0.6276591898866649, 'num_boost_round': 48}. Best is trial 1 with value: -0.1459882597749916.\u001b[0m\n",
      "\u001b[32m[I 2023-06-28 16:02:43,229]\u001b[0m Trial 8 finished with value: -0.1498280588395024 and parameters: {'metric': 'l2', 'lambda_l1': 7.760406261708316, 'lambda_l2': 9.585610128495606, 'num_leaves': 40, 'feature_fraction': 0.6282980234110151, 'bagging_fraction': 0.4537547349062233, 'bagging_freq': 3, 'learning_rate': 0.6161382015484328, 'num_boost_round': 177}. Best is trial 1 with value: -0.1459882597749916.\u001b[0m\n"
     ]
    },
    {
     "name": "stdout",
     "output_type": "stream",
     "text": [
      "[LightGBM] [Warning] lambda_l1 is set=0.6546395899454674, reg_alpha=0.0 will be ignored. Current value: lambda_l1=0.6546395899454674\n",
      "[LightGBM] [Warning] bagging_fraction is set=0.24952683053624594, subsample=1.0 will be ignored. Current value: bagging_fraction=0.24952683053624594\n",
      "[LightGBM] [Warning] lambda_l2 is set=8.177454785746624, reg_lambda=0.0 will be ignored. Current value: lambda_l2=8.177454785746624\n",
      "[LightGBM] [Warning] bagging_freq is set=3, subsample_freq=0 will be ignored. Current value: bagging_freq=3\n",
      "[LightGBM] [Warning] num_iterations is set=48, num_boost_round=48 will be ignored. Current value: num_iterations=48\n",
      "[LightGBM] [Warning] feature_fraction is set=0.5293504396571986, colsample_bytree=1.0 will be ignored. Current value: feature_fraction=0.5293504396571986\n",
      "[LightGBM] [Warning] lambda_l1 is set=0.6546395899454674, reg_alpha=0.0 will be ignored. Current value: lambda_l1=0.6546395899454674\n",
      "[LightGBM] [Warning] bagging_fraction is set=0.24952683053624594, subsample=1.0 will be ignored. Current value: bagging_fraction=0.24952683053624594\n",
      "[LightGBM] [Warning] lambda_l2 is set=8.177454785746624, reg_lambda=0.0 will be ignored. Current value: lambda_l2=8.177454785746624\n",
      "[LightGBM] [Warning] bagging_freq is set=3, subsample_freq=0 will be ignored. Current value: bagging_freq=3\n",
      "[LightGBM] [Warning] num_iterations is set=48, num_boost_round=48 will be ignored. Current value: num_iterations=48\n",
      "[LightGBM] [Warning] feature_fraction is set=0.6282980234110151, colsample_bytree=1.0 will be ignored. Current value: feature_fraction=0.6282980234110151\n",
      "[LightGBM] [Warning] lambda_l1 is set=7.760406261708316, reg_alpha=0.0 will be ignored. Current value: lambda_l1=7.760406261708316\n",
      "[LightGBM] [Warning] bagging_fraction is set=0.4537547349062233, subsample=1.0 will be ignored. Current value: bagging_fraction=0.4537547349062233\n",
      "[LightGBM] [Warning] lambda_l2 is set=9.585610128495606, reg_lambda=0.0 will be ignored. Current value: lambda_l2=9.585610128495606\n",
      "[LightGBM] [Warning] bagging_freq is set=3, subsample_freq=0 will be ignored. Current value: bagging_freq=3\n",
      "[LightGBM] [Warning] num_iterations is set=177, num_boost_round=177 will be ignored. Current value: num_iterations=177\n",
      "[LightGBM] [Warning] feature_fraction is set=0.6282980234110151, colsample_bytree=1.0 will be ignored. Current value: feature_fraction=0.6282980234110151\n",
      "[LightGBM] [Warning] lambda_l1 is set=7.760406261708316, reg_alpha=0.0 will be ignored. Current value: lambda_l1=7.760406261708316\n",
      "[LightGBM] [Warning] bagging_fraction is set=0.4537547349062233, subsample=1.0 will be ignored. Current value: bagging_fraction=0.4537547349062233\n",
      "[LightGBM] [Warning] lambda_l2 is set=9.585610128495606, reg_lambda=0.0 will be ignored. Current value: lambda_l2=9.585610128495606\n",
      "[LightGBM] [Warning] bagging_freq is set=3, subsample_freq=0 will be ignored. Current value: bagging_freq=3\n",
      "[LightGBM] [Warning] num_iterations is set=177, num_boost_round=177 will be ignored. Current value: num_iterations=177\n",
      "[LightGBM] [Warning] feature_fraction is set=0.6282980234110151, colsample_bytree=1.0 will be ignored. Current value: feature_fraction=0.6282980234110151\n",
      "[LightGBM] [Warning] lambda_l1 is set=7.760406261708316, reg_alpha=0.0 will be ignored. Current value: lambda_l1=7.760406261708316\n",
      "[LightGBM] [Warning] bagging_fraction is set=0.4537547349062233, subsample=1.0 will be ignored. Current value: bagging_fraction=0.4537547349062233\n",
      "[LightGBM] [Warning] lambda_l2 is set=9.585610128495606, reg_lambda=0.0 will be ignored. Current value: lambda_l2=9.585610128495606\n",
      "[LightGBM] [Warning] bagging_freq is set=3, subsample_freq=0 will be ignored. Current value: bagging_freq=3\n",
      "[LightGBM] [Warning] num_iterations is set=177, num_boost_round=177 will be ignored. Current value: num_iterations=177\n",
      "[LightGBM] [Warning] feature_fraction is set=0.6282980234110151, colsample_bytree=1.0 will be ignored. Current value: feature_fraction=0.6282980234110151\n",
      "[LightGBM] [Warning] lambda_l1 is set=7.760406261708316, reg_alpha=0.0 will be ignored. Current value: lambda_l1=7.760406261708316\n",
      "[LightGBM] [Warning] bagging_fraction is set=0.4537547349062233, subsample=1.0 will be ignored. Current value: bagging_fraction=0.4537547349062233\n",
      "[LightGBM] [Warning] lambda_l2 is set=9.585610128495606, reg_lambda=0.0 will be ignored. Current value: lambda_l2=9.585610128495606\n",
      "[LightGBM] [Warning] bagging_freq is set=3, subsample_freq=0 will be ignored. Current value: bagging_freq=3\n",
      "[LightGBM] [Warning] num_iterations is set=177, num_boost_round=177 will be ignored. Current value: num_iterations=177\n",
      "[LightGBM] [Warning] feature_fraction is set=0.6282980234110151, colsample_bytree=1.0 will be ignored. Current value: feature_fraction=0.6282980234110151\n",
      "[LightGBM] [Warning] lambda_l1 is set=7.760406261708316, reg_alpha=0.0 will be ignored. Current value: lambda_l1=7.760406261708316\n",
      "[LightGBM] [Warning] bagging_fraction is set=0.4537547349062233, subsample=1.0 will be ignored. Current value: bagging_fraction=0.4537547349062233\n",
      "[LightGBM] [Warning] lambda_l2 is set=9.585610128495606, reg_lambda=0.0 will be ignored. Current value: lambda_l2=9.585610128495606\n",
      "[LightGBM] [Warning] bagging_freq is set=3, subsample_freq=0 will be ignored. Current value: bagging_freq=3\n",
      "[LightGBM] [Warning] num_iterations is set=177, num_boost_round=177 will be ignored. Current value: num_iterations=177\n",
      "[LightGBM] [Warning] feature_fraction is set=0.26053570405558557, colsample_bytree=1.0 will be ignored. Current value: feature_fraction=0.26053570405558557\n",
      "[LightGBM] [Warning] lambda_l1 is set=8.073685572597894, reg_alpha=0.0 will be ignored. Current value: lambda_l1=8.073685572597894\n",
      "[LightGBM] [Warning] bagging_fraction is set=0.4954465783175238, subsample=1.0 will be ignored. Current value: bagging_fraction=0.4954465783175238\n",
      "[LightGBM] [Warning] lambda_l2 is set=3.7426848954163785, reg_lambda=0.0 will be ignored. Current value: lambda_l2=3.7426848954163785\n",
      "[LightGBM] [Warning] bagging_freq is set=15, subsample_freq=0 will be ignored. Current value: bagging_freq=15\n",
      "[LightGBM] [Warning] num_iterations is set=105, num_boost_round=105 will be ignored. Current value: num_iterations=105\n",
      "[LightGBM] [Warning] feature_fraction is set=0.26053570405558557, colsample_bytree=1.0 will be ignored. Current value: feature_fraction=0.26053570405558557\n",
      "[LightGBM] [Warning] lambda_l1 is set=8.073685572597894, reg_alpha=0.0 will be ignored. Current value: lambda_l1=8.073685572597894\n",
      "[LightGBM] [Warning] bagging_fraction is set=0.4954465783175238, subsample=1.0 will be ignored. Current value: bagging_fraction=0.4954465783175238\n",
      "[LightGBM] [Warning] lambda_l2 is set=3.7426848954163785, reg_lambda=0.0 will be ignored. Current value: lambda_l2=3.7426848954163785\n",
      "[LightGBM] [Warning] bagging_freq is set=15, subsample_freq=0 will be ignored. Current value: bagging_freq=15\n",
      "[LightGBM] [Warning] num_iterations is set=105, num_boost_round=105 will be ignored. Current value: num_iterations=105\n",
      "[LightGBM] [Warning] feature_fraction is set=0.26053570405558557, colsample_bytree=1.0 will be ignored. Current value: feature_fraction=0.26053570405558557"
     ]
    },
    {
     "name": "stderr",
     "output_type": "stream",
     "text": [
      "\u001b[32m[I 2023-06-28 16:02:43,376]\u001b[0m Trial 9 finished with value: -0.14777495334542728 and parameters: {'metric': 'l2', 'lambda_l1': 8.073685572597894, 'lambda_l2': 3.7426848954163785, 'num_leaves': 31, 'feature_fraction': 0.26053570405558557, 'bagging_fraction': 0.4954465783175238, 'bagging_freq': 15, 'learning_rate': 0.6450594911849306, 'num_boost_round': 105}. Best is trial 1 with value: -0.1459882597749916.\u001b[0m\n"
     ]
    },
    {
     "name": "stdout",
     "output_type": "stream",
     "text": [
      "\n",
      "[LightGBM] [Warning] lambda_l1 is set=8.073685572597894, reg_alpha=0.0 will be ignored. Current value: lambda_l1=8.073685572597894\n",
      "[LightGBM] [Warning] bagging_fraction is set=0.4954465783175238, subsample=1.0 will be ignored. Current value: bagging_fraction=0.4954465783175238\n",
      "[LightGBM] [Warning] lambda_l2 is set=3.7426848954163785, reg_lambda=0.0 will be ignored. Current value: lambda_l2=3.7426848954163785\n",
      "[LightGBM] [Warning] bagging_freq is set=15, subsample_freq=0 will be ignored. Current value: bagging_freq=15\n",
      "[LightGBM] [Warning] num_iterations is set=105, num_boost_round=105 will be ignored. Current value: num_iterations=105\n",
      "[LightGBM] [Warning] feature_fraction is set=0.26053570405558557, colsample_bytree=1.0 will be ignored. Current value: feature_fraction=0.26053570405558557\n",
      "[LightGBM] [Warning] lambda_l1 is set=8.073685572597894, reg_alpha=0.0 will be ignored. Current value: lambda_l1=8.073685572597894\n",
      "[LightGBM] [Warning] bagging_fraction is set=0.4954465783175238, subsample=1.0 will be ignored. Current value: bagging_fraction=0.4954465783175238\n",
      "[LightGBM] [Warning] lambda_l2 is set=3.7426848954163785, reg_lambda=0.0 will be ignored. Current value: lambda_l2=3.7426848954163785\n",
      "[LightGBM] [Warning] bagging_freq is set=15, subsample_freq=0 will be ignored. Current value: bagging_freq=15\n",
      "[LightGBM] [Warning] num_iterations is set=105, num_boost_round=105 will be ignored. Current value: num_iterations=105\n",
      "[LightGBM] [Warning] feature_fraction is set=0.26053570405558557, colsample_bytree=1.0 will be ignored. Current value: feature_fraction=0.26053570405558557\n",
      "[LightGBM] [Warning] lambda_l1 is set=8.073685572597894, reg_alpha=0.0 will be ignored. Current value: lambda_l1=8.073685572597894\n",
      "[LightGBM] [Warning] bagging_fraction is set=0.4954465783175238, subsample=1.0 will be ignored. Current value: bagging_fraction=0.4954465783175238\n",
      "[LightGBM] [Warning] lambda_l2 is set=3.7426848954163785, reg_lambda=0.0 will be ignored. Current value: lambda_l2=3.7426848954163785\n",
      "[LightGBM] [Warning] bagging_freq is set=15, subsample_freq=0 will be ignored. Current value: bagging_freq=15\n",
      "[LightGBM] [Warning] num_iterations is set=105, num_boost_round=105 will be ignored. Current value: num_iterations=105\n",
      "Best parameters for XGB regression {'metric': 'l2', 'lambda_l1': 1.997697972059695, 'lambda_l2': 6.4507052430003, 'num_leaves': 43, 'feature_fraction': 0.7452681877848983, 'bagging_fraction': 0.5189621454616408, 'bagging_freq': 5, 'learning_rate': 0.16350068613191962, 'num_boost_round': 125}\n",
      "Best MAPE score for XGB regression training: 0.1459882597749916\n",
      "[LightGBM] [Warning] feature_fraction is set=0.7452681877848983, colsample_bytree=1.0 will be ignored. Current value: feature_fraction=0.7452681877848983\n",
      "[LightGBM] [Warning] lambda_l1 is set=1.997697972059695, reg_alpha=0.0 will be ignored. Current value: lambda_l1=1.997697972059695\n",
      "[LightGBM] [Warning] bagging_fraction is set=0.5189621454616408, subsample=1.0 will be ignored. Current value: bagging_fraction=0.5189621454616408\n",
      "[LightGBM] [Warning] lambda_l2 is set=6.4507052430003, reg_lambda=0.0 will be ignored. Current value: lambda_l2=6.4507052430003\n",
      "[LightGBM] [Warning] bagging_freq is set=5, subsample_freq=0 will be ignored. Current value: bagging_freq=5\n",
      "[LightGBM] [Warning] num_iterations is set=125, num_boost_round=125 will be ignored. Current value: num_iterations=125\n"
     ]
    },
    {
     "data": {
      "application/vnd.plotly.v1+json": {
       "config": {
        "plotlyServerURL": "https://plot.ly"
       },
       "data": [
        {
         "mode": "markers",
         "name": "Objective Value",
         "type": "scatter",
         "x": [
          0,
          1,
          2,
          3,
          4,
          5,
          6,
          7,
          8,
          9
         ],
         "y": [
          -0.15368369169968615,
          -0.1459882597749916,
          -0.154921656979967,
          -0.15244339254149578,
          -0.1468025680319644,
          -0.1548049941871771,
          -0.14896292169453912,
          -0.1569858970575276,
          -0.1498280588395024,
          -0.14777495334542728
         ]
        },
        {
         "name": "Best Value",
         "type": "scatter",
         "x": [
          0,
          1,
          2,
          3,
          4,
          5,
          6,
          7,
          8,
          9
         ],
         "y": [
          -0.15368369169968615,
          -0.1459882597749916,
          -0.1459882597749916,
          -0.1459882597749916,
          -0.1459882597749916,
          -0.1459882597749916,
          -0.1459882597749916,
          -0.1459882597749916,
          -0.1459882597749916,
          -0.1459882597749916
         ]
        }
       ],
       "layout": {
        "template": {
         "data": {
          "bar": [
           {
            "error_x": {
             "color": "#2a3f5f"
            },
            "error_y": {
             "color": "#2a3f5f"
            },
            "marker": {
             "line": {
              "color": "#E5ECF6",
              "width": 0.5
             },
             "pattern": {
              "fillmode": "overlay",
              "size": 10,
              "solidity": 0.2
             }
            },
            "type": "bar"
           }
          ],
          "barpolar": [
           {
            "marker": {
             "line": {
              "color": "#E5ECF6",
              "width": 0.5
             },
             "pattern": {
              "fillmode": "overlay",
              "size": 10,
              "solidity": 0.2
             }
            },
            "type": "barpolar"
           }
          ],
          "carpet": [
           {
            "aaxis": {
             "endlinecolor": "#2a3f5f",
             "gridcolor": "white",
             "linecolor": "white",
             "minorgridcolor": "white",
             "startlinecolor": "#2a3f5f"
            },
            "baxis": {
             "endlinecolor": "#2a3f5f",
             "gridcolor": "white",
             "linecolor": "white",
             "minorgridcolor": "white",
             "startlinecolor": "#2a3f5f"
            },
            "type": "carpet"
           }
          ],
          "choropleth": [
           {
            "colorbar": {
             "outlinewidth": 0,
             "ticks": ""
            },
            "type": "choropleth"
           }
          ],
          "contour": [
           {
            "colorbar": {
             "outlinewidth": 0,
             "ticks": ""
            },
            "colorscale": [
             [
              0,
              "#0d0887"
             ],
             [
              0.1111111111111111,
              "#46039f"
             ],
             [
              0.2222222222222222,
              "#7201a8"
             ],
             [
              0.3333333333333333,
              "#9c179e"
             ],
             [
              0.4444444444444444,
              "#bd3786"
             ],
             [
              0.5555555555555556,
              "#d8576b"
             ],
             [
              0.6666666666666666,
              "#ed7953"
             ],
             [
              0.7777777777777778,
              "#fb9f3a"
             ],
             [
              0.8888888888888888,
              "#fdca26"
             ],
             [
              1,
              "#f0f921"
             ]
            ],
            "type": "contour"
           }
          ],
          "contourcarpet": [
           {
            "colorbar": {
             "outlinewidth": 0,
             "ticks": ""
            },
            "type": "contourcarpet"
           }
          ],
          "heatmap": [
           {
            "colorbar": {
             "outlinewidth": 0,
             "ticks": ""
            },
            "colorscale": [
             [
              0,
              "#0d0887"
             ],
             [
              0.1111111111111111,
              "#46039f"
             ],
             [
              0.2222222222222222,
              "#7201a8"
             ],
             [
              0.3333333333333333,
              "#9c179e"
             ],
             [
              0.4444444444444444,
              "#bd3786"
             ],
             [
              0.5555555555555556,
              "#d8576b"
             ],
             [
              0.6666666666666666,
              "#ed7953"
             ],
             [
              0.7777777777777778,
              "#fb9f3a"
             ],
             [
              0.8888888888888888,
              "#fdca26"
             ],
             [
              1,
              "#f0f921"
             ]
            ],
            "type": "heatmap"
           }
          ],
          "heatmapgl": [
           {
            "colorbar": {
             "outlinewidth": 0,
             "ticks": ""
            },
            "colorscale": [
             [
              0,
              "#0d0887"
             ],
             [
              0.1111111111111111,
              "#46039f"
             ],
             [
              0.2222222222222222,
              "#7201a8"
             ],
             [
              0.3333333333333333,
              "#9c179e"
             ],
             [
              0.4444444444444444,
              "#bd3786"
             ],
             [
              0.5555555555555556,
              "#d8576b"
             ],
             [
              0.6666666666666666,
              "#ed7953"
             ],
             [
              0.7777777777777778,
              "#fb9f3a"
             ],
             [
              0.8888888888888888,
              "#fdca26"
             ],
             [
              1,
              "#f0f921"
             ]
            ],
            "type": "heatmapgl"
           }
          ],
          "histogram": [
           {
            "marker": {
             "pattern": {
              "fillmode": "overlay",
              "size": 10,
              "solidity": 0.2
             }
            },
            "type": "histogram"
           }
          ],
          "histogram2d": [
           {
            "colorbar": {
             "outlinewidth": 0,
             "ticks": ""
            },
            "colorscale": [
             [
              0,
              "#0d0887"
             ],
             [
              0.1111111111111111,
              "#46039f"
             ],
             [
              0.2222222222222222,
              "#7201a8"
             ],
             [
              0.3333333333333333,
              "#9c179e"
             ],
             [
              0.4444444444444444,
              "#bd3786"
             ],
             [
              0.5555555555555556,
              "#d8576b"
             ],
             [
              0.6666666666666666,
              "#ed7953"
             ],
             [
              0.7777777777777778,
              "#fb9f3a"
             ],
             [
              0.8888888888888888,
              "#fdca26"
             ],
             [
              1,
              "#f0f921"
             ]
            ],
            "type": "histogram2d"
           }
          ],
          "histogram2dcontour": [
           {
            "colorbar": {
             "outlinewidth": 0,
             "ticks": ""
            },
            "colorscale": [
             [
              0,
              "#0d0887"
             ],
             [
              0.1111111111111111,
              "#46039f"
             ],
             [
              0.2222222222222222,
              "#7201a8"
             ],
             [
              0.3333333333333333,
              "#9c179e"
             ],
             [
              0.4444444444444444,
              "#bd3786"
             ],
             [
              0.5555555555555556,
              "#d8576b"
             ],
             [
              0.6666666666666666,
              "#ed7953"
             ],
             [
              0.7777777777777778,
              "#fb9f3a"
             ],
             [
              0.8888888888888888,
              "#fdca26"
             ],
             [
              1,
              "#f0f921"
             ]
            ],
            "type": "histogram2dcontour"
           }
          ],
          "mesh3d": [
           {
            "colorbar": {
             "outlinewidth": 0,
             "ticks": ""
            },
            "type": "mesh3d"
           }
          ],
          "parcoords": [
           {
            "line": {
             "colorbar": {
              "outlinewidth": 0,
              "ticks": ""
             }
            },
            "type": "parcoords"
           }
          ],
          "pie": [
           {
            "automargin": true,
            "type": "pie"
           }
          ],
          "scatter": [
           {
            "fillpattern": {
             "fillmode": "overlay",
             "size": 10,
             "solidity": 0.2
            },
            "type": "scatter"
           }
          ],
          "scatter3d": [
           {
            "line": {
             "colorbar": {
              "outlinewidth": 0,
              "ticks": ""
             }
            },
            "marker": {
             "colorbar": {
              "outlinewidth": 0,
              "ticks": ""
             }
            },
            "type": "scatter3d"
           }
          ],
          "scattercarpet": [
           {
            "marker": {
             "colorbar": {
              "outlinewidth": 0,
              "ticks": ""
             }
            },
            "type": "scattercarpet"
           }
          ],
          "scattergeo": [
           {
            "marker": {
             "colorbar": {
              "outlinewidth": 0,
              "ticks": ""
             }
            },
            "type": "scattergeo"
           }
          ],
          "scattergl": [
           {
            "marker": {
             "colorbar": {
              "outlinewidth": 0,
              "ticks": ""
             }
            },
            "type": "scattergl"
           }
          ],
          "scattermapbox": [
           {
            "marker": {
             "colorbar": {
              "outlinewidth": 0,
              "ticks": ""
             }
            },
            "type": "scattermapbox"
           }
          ],
          "scatterpolar": [
           {
            "marker": {
             "colorbar": {
              "outlinewidth": 0,
              "ticks": ""
             }
            },
            "type": "scatterpolar"
           }
          ],
          "scatterpolargl": [
           {
            "marker": {
             "colorbar": {
              "outlinewidth": 0,
              "ticks": ""
             }
            },
            "type": "scatterpolargl"
           }
          ],
          "scatterternary": [
           {
            "marker": {
             "colorbar": {
              "outlinewidth": 0,
              "ticks": ""
             }
            },
            "type": "scatterternary"
           }
          ],
          "surface": [
           {
            "colorbar": {
             "outlinewidth": 0,
             "ticks": ""
            },
            "colorscale": [
             [
              0,
              "#0d0887"
             ],
             [
              0.1111111111111111,
              "#46039f"
             ],
             [
              0.2222222222222222,
              "#7201a8"
             ],
             [
              0.3333333333333333,
              "#9c179e"
             ],
             [
              0.4444444444444444,
              "#bd3786"
             ],
             [
              0.5555555555555556,
              "#d8576b"
             ],
             [
              0.6666666666666666,
              "#ed7953"
             ],
             [
              0.7777777777777778,
              "#fb9f3a"
             ],
             [
              0.8888888888888888,
              "#fdca26"
             ],
             [
              1,
              "#f0f921"
             ]
            ],
            "type": "surface"
           }
          ],
          "table": [
           {
            "cells": {
             "fill": {
              "color": "#EBF0F8"
             },
             "line": {
              "color": "white"
             }
            },
            "header": {
             "fill": {
              "color": "#C8D4E3"
             },
             "line": {
              "color": "white"
             }
            },
            "type": "table"
           }
          ]
         },
         "layout": {
          "annotationdefaults": {
           "arrowcolor": "#2a3f5f",
           "arrowhead": 0,
           "arrowwidth": 1
          },
          "autotypenumbers": "strict",
          "coloraxis": {
           "colorbar": {
            "outlinewidth": 0,
            "ticks": ""
           }
          },
          "colorscale": {
           "diverging": [
            [
             0,
             "#8e0152"
            ],
            [
             0.1,
             "#c51b7d"
            ],
            [
             0.2,
             "#de77ae"
            ],
            [
             0.3,
             "#f1b6da"
            ],
            [
             0.4,
             "#fde0ef"
            ],
            [
             0.5,
             "#f7f7f7"
            ],
            [
             0.6,
             "#e6f5d0"
            ],
            [
             0.7,
             "#b8e186"
            ],
            [
             0.8,
             "#7fbc41"
            ],
            [
             0.9,
             "#4d9221"
            ],
            [
             1,
             "#276419"
            ]
           ],
           "sequential": [
            [
             0,
             "#0d0887"
            ],
            [
             0.1111111111111111,
             "#46039f"
            ],
            [
             0.2222222222222222,
             "#7201a8"
            ],
            [
             0.3333333333333333,
             "#9c179e"
            ],
            [
             0.4444444444444444,
             "#bd3786"
            ],
            [
             0.5555555555555556,
             "#d8576b"
            ],
            [
             0.6666666666666666,
             "#ed7953"
            ],
            [
             0.7777777777777778,
             "#fb9f3a"
            ],
            [
             0.8888888888888888,
             "#fdca26"
            ],
            [
             1,
             "#f0f921"
            ]
           ],
           "sequentialminus": [
            [
             0,
             "#0d0887"
            ],
            [
             0.1111111111111111,
             "#46039f"
            ],
            [
             0.2222222222222222,
             "#7201a8"
            ],
            [
             0.3333333333333333,
             "#9c179e"
            ],
            [
             0.4444444444444444,
             "#bd3786"
            ],
            [
             0.5555555555555556,
             "#d8576b"
            ],
            [
             0.6666666666666666,
             "#ed7953"
            ],
            [
             0.7777777777777778,
             "#fb9f3a"
            ],
            [
             0.8888888888888888,
             "#fdca26"
            ],
            [
             1,
             "#f0f921"
            ]
           ]
          },
          "colorway": [
           "#636efa",
           "#EF553B",
           "#00cc96",
           "#ab63fa",
           "#FFA15A",
           "#19d3f3",
           "#FF6692",
           "#B6E880",
           "#FF97FF",
           "#FECB52"
          ],
          "font": {
           "color": "#2a3f5f"
          },
          "geo": {
           "bgcolor": "white",
           "lakecolor": "white",
           "landcolor": "#E5ECF6",
           "showlakes": true,
           "showland": true,
           "subunitcolor": "white"
          },
          "hoverlabel": {
           "align": "left"
          },
          "hovermode": "closest",
          "mapbox": {
           "style": "light"
          },
          "paper_bgcolor": "white",
          "plot_bgcolor": "#E5ECF6",
          "polar": {
           "angularaxis": {
            "gridcolor": "white",
            "linecolor": "white",
            "ticks": ""
           },
           "bgcolor": "#E5ECF6",
           "radialaxis": {
            "gridcolor": "white",
            "linecolor": "white",
            "ticks": ""
           }
          },
          "scene": {
           "xaxis": {
            "backgroundcolor": "#E5ECF6",
            "gridcolor": "white",
            "gridwidth": 2,
            "linecolor": "white",
            "showbackground": true,
            "ticks": "",
            "zerolinecolor": "white"
           },
           "yaxis": {
            "backgroundcolor": "#E5ECF6",
            "gridcolor": "white",
            "gridwidth": 2,
            "linecolor": "white",
            "showbackground": true,
            "ticks": "",
            "zerolinecolor": "white"
           },
           "zaxis": {
            "backgroundcolor": "#E5ECF6",
            "gridcolor": "white",
            "gridwidth": 2,
            "linecolor": "white",
            "showbackground": true,
            "ticks": "",
            "zerolinecolor": "white"
           }
          },
          "shapedefaults": {
           "line": {
            "color": "#2a3f5f"
           }
          },
          "ternary": {
           "aaxis": {
            "gridcolor": "white",
            "linecolor": "white",
            "ticks": ""
           },
           "baxis": {
            "gridcolor": "white",
            "linecolor": "white",
            "ticks": ""
           },
           "bgcolor": "#E5ECF6",
           "caxis": {
            "gridcolor": "white",
            "linecolor": "white",
            "ticks": ""
           }
          },
          "title": {
           "x": 0.05
          },
          "xaxis": {
           "automargin": true,
           "gridcolor": "white",
           "linecolor": "white",
           "ticks": "",
           "title": {
            "standoff": 15
           },
           "zerolinecolor": "white",
           "zerolinewidth": 2
          },
          "yaxis": {
           "automargin": true,
           "gridcolor": "white",
           "linecolor": "white",
           "ticks": "",
           "title": {
            "standoff": 15
           },
           "zerolinecolor": "white",
           "zerolinewidth": 2
          }
         }
        },
        "title": {
         "text": "Optimization History Plot"
        },
        "xaxis": {
         "title": {
          "text": "Trial"
         }
        },
        "yaxis": {
         "title": {
          "text": "Objective Value"
         }
        }
       }
      }
     },
     "metadata": {},
     "output_type": "display_data"
    },
    {
     "name": "stdout",
     "output_type": "stream",
     "text": [
      "MAPE for XGB regression testing: 0.14394679815643732\n"
     ]
    },
    {
     "data": {
      "image/png": "[encoded data removed]",
      "text/plain": [
       "<Figure size 432x288 with 1 Axes>"
      ]
     },
     "metadata": {
      "needs_background": "light"
     },
     "output_type": "display_data"
    }
   ],
   "source": [
    "### LightGBM\n",
    "import warnings\n",
    "import optuna\n",
    "from optuna.visualization import plot_optimization_history\n",
    "import plotly.io as pio\n",
    "import numpy as np\n",
    "from sklearn.model_selection import train_test_split, cross_val_score\n",
    "import lightgbm as lgb\n",
    "\n",
    "# Ignore all warnings\n",
    "warnings.filterwarnings(\"ignore\")\n",
    "\n",
    "def lightgbm_regressor(df, X_train, X_test, y_train, y_test):\n",
    "\n",
    "    def objective(trial):\n",
    "        param = {\n",
    "            \"objective\": \"regression\",\n",
    "            \"metric\": trial.suggest_categorical('metric', ['l1', 'l2']),\n",
    "            \"verbosity\": -1,\n",
    "            \"boosting_type\": \"gbdt\",                \n",
    "            \"seed\": 42,\n",
    "            'lambda_l1': trial.suggest_float('lambda_l1', 1e-8, 10.0),\n",
    "            'lambda_l2': trial.suggest_float('lambda_l2', 1e-8, 10.0),\n",
    "            'num_leaves': trial.suggest_int('num_leaves', 2, 64),\n",
    "            'feature_fraction': trial.suggest_float('feature_fraction', 0.1, 1.0),\n",
    "            'bagging_fraction': trial.suggest_float('bagging_fraction', 0.1, 1.0),\n",
    "            'bagging_freq': trial.suggest_int('bagging_freq', 0, 15),\n",
    "            'learning_rate': trial.suggest_float('learning_rate', 0.05, 1.0),\n",
    "            'num_boost_round': trial.suggest_int('num_boost_round', 20, 200),\n",
    "        }\n",
    "        model = lgb.LGBMRegressor(**param)\n",
    "        scores = cross_val_score(model, X_train, y_train, \n",
    "                                 cv=KFold(n_splits=5,\n",
    "                                          shuffle=True,\n",
    "                                          random_state=42),\n",
    "                                 scoring='neg_mean_absolute_percentage_error'\n",
    "                                ) # Train set is split into 3 folds, the model is trained on 2 folds and evaluated on the remaining fold. This is repeated 3 times, and the average of the 3 scores is returned.\n",
    "        # Return the mean of 3 scores\n",
    "        return scores.mean()\n",
    "    \n",
    "    study = optuna.create_study(direction='maximize', study_name='LGBMRegression')\n",
    "    study.optimize(objective, n_trials=10) # n_trials is the number of trials to run, each run is evaluated by cross validation score\n",
    "    \n",
    "    print('Best parameters for XGB regression', study.best_params)\n",
    "    print('Best MAPE score for XGB regression training:', -1*study.best_value)\n",
    "    \n",
    "    model = lgb.LGBMRegressor(**study.best_params)\n",
    "    model.fit(X_train, y_train)\n",
    "    fig = plot_optimization_history(study)\n",
    "    pio.show(fig)\n",
    "    \n",
    "    y_pred = model.predict(X_test)\n",
    "    mape = mean_absolute_percentage_error(y_test, y_pred)\n",
    "    print(\"MAPE for XGB regression testing:\", mape)\n",
    "\n",
    "    return model\n",
    "\n",
    "def lgb_report(model, X_train, X_test, y_test, df):\n",
    "\n",
    "    ## Feature importance\n",
    "    lgb.plot_importance(model)\n",
    "    plt.show()\n",
    "\n",
    "model = lightgbm_regressor(df, X_train, X_test, y_train, y_test)\n",
    "df['Prediction_XGB'] = model.predict(df[features])\n",
    "lgb_report(model, X_train, X_test, y_test, df)"
   ]
  },
  {
   "cell_type": "code",
   "execution_count": null,
   "metadata": {},
   "outputs": [],
   "source": []
  },
  {
   "cell_type": "code",
   "execution_count": null,
   "metadata": {},
   "outputs": [],
   "source": []
  }
 ],
 "metadata": {
  "kernelspec": {
   "display_name": "base",
   "language": "python",
   "name": "python3"
  },
  "language_info": {
   "codemirror_mode": {
    "name": "ipython",
    "version": 3
   },
   "file_extension": ".py",
   "mimetype": "text/x-python",
   "name": "python",
   "nbconvert_exporter": "python",
   "pygments_lexer": "ipython3",
   "version": "3.9.7"
  },
  "orig_nbformat": 4
 },
 "nbformat": 4,
 "nbformat_minor": 2
}
